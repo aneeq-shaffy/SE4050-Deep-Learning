{
  "nbformat": 4,
  "nbformat_minor": 0,
  "metadata": {
    "colab": {
      "provenance": [],
      "authorship_tag": "ABX9TyOjhz/XhP4AYWTfC8WQXcP8",
      "include_colab_link": true
    },
    "kernelspec": {
      "name": "python3",
      "display_name": "Python 3"
    },
    "language_info": {
      "name": "python"
    }
  },
  "cells": [
    {
      "cell_type": "markdown",
      "metadata": {
        "id": "view-in-github",
        "colab_type": "text"
      },
      "source": [
        "<a href=\"https://colab.research.google.com/github/aneeq-shaffy/SE4050-Deep-Learning/blob/main/XLM_RoBERTa_.ipynb\" target=\"_parent\"><img src=\"https://colab.research.google.com/assets/colab-badge.svg\" alt=\"Open In Colab\"/></a>"
      ]
    },
    {
      "cell_type": "markdown",
      "metadata": {
        "id": "425a28e4"
      },
      "source": [
        "# **Data Preprocessing**"
      ]
    },
    {
      "cell_type": "markdown",
      "metadata": {
        "id": "b9d52cbf"
      },
      "source": [
        "### Importing necessary libraries"
      ]
    },
    {
      "cell_type": "code",
      "execution_count": 3,
      "metadata": {
        "id": "H3EZvjKSg5Th"
      },
      "outputs": [],
      "source": [
        "import pandas as pd\n",
        "import numpy as np\n",
        "import seaborn as sns\n",
        "import matplotlib.pyplot as plt\n",
        "from sklearn.model_selection import train_test_split\n",
        "from transformers import (\n",
        "    XLMRobertaTokenizer,\n",
        "    XLMRobertaForSequenceClassification,\n",
        "    Trainer,\n",
        "    TrainingArguments\n",
        ")\n",
        "from datasets import Dataset\n",
        "import torch\n",
        "import warnings\n",
        "warnings.filterwarnings('ignore')\n",
        "import json\n",
        "import requests"
      ]
    },
    {
      "cell_type": "markdown",
      "source": [
        "Read Dataset"
      ],
      "metadata": {
        "id": "rwlSpFiLqq5h"
      }
    },
    {
      "cell_type": "code",
      "source": [
        "def read_lk_news_automatically(year='2021', num_articles=99999):\n",
        "    # Get folder list from GitHub\n",
        "    api_url = f\"https://api.github.com/repos/nuuuwan/lk_news/contents/data/lk_news/2020s/{year}?ref=data\"\n",
        "    response = requests.get(api_url)\n",
        "\n",
        "    if response.status_code != 200:\n",
        "        print(\"Error getting folder list\")\n",
        "        return None\n",
        "\n",
        "    folders = response.json()\n",
        "    print(f\"Found {len(folders)} articles in {year}\")\n",
        "\n",
        "    all_articles = []\n",
        "    base_url = f\"https://raw.githubusercontent.com/nuuuwan/lk_news/data/data/lk_news/2020s/{year}\"\n",
        "\n",
        "    # Download each article\n",
        "    for i, folder in enumerate(folders[:num_articles]):\n",
        "        if folder['type'] == 'dir':\n",
        "            folder_name = folder['name']\n",
        "\n",
        "            try:\n",
        "                # Get files\n",
        "                metadata = requests.get(f\"{base_url}/{folder_name}/doc.json\").json()\n",
        "                text = requests.get(f\"{base_url}/{folder_name}/doc.txt\").text\n",
        "\n",
        "                # Store article\n",
        "                all_articles.append({\n",
        "                    'id': metadata.get('doc_id', ''),\n",
        "                    'text': text,\n",
        "                    'title': metadata.get('description', ''),\n",
        "                    'language': metadata.get('lang', ''),\n",
        "                    'date': metadata.get('date_str', '')\n",
        "                })\n",
        "\n",
        "                if (i+1) % 10 == 0:\n",
        "                    print(f\"Loaded {i+1} articles...\")\n",
        "\n",
        "            except:\n",
        "                print(f\"Failed: {folder_name}\")\n",
        "\n",
        "    return pd.DataFrame(all_articles)"
      ],
      "metadata": {
        "id": "onhPDTC4qxHs"
      },
      "execution_count": 5,
      "outputs": []
    },
    {
      "cell_type": "code",
      "source": [
        "def get_all_news(years=['2021', '2022', '2023', '2024', '2025'], articles_per_year=50):\n",
        "    all_dfs = []\n",
        "\n",
        "    for year in years:\n",
        "        print(f\"\\nGetting {year}...\")\n",
        "        df_year = read_lk_news_automatically(year, articles_per_year)\n",
        "        if df_year is not None:\n",
        "            all_dfs.append(df_year)\n",
        "\n",
        "    final_df = pd.concat(all_dfs, ignore_index=True)\n",
        "    print(f\"\\n✅ Total: {len(final_df)} articles\")\n",
        "    return final_df"
      ],
      "metadata": {
        "id": "xJ-dxz6RUIEq"
      },
      "execution_count": 6,
      "outputs": []
    },
    {
      "cell_type": "code",
      "source": [
        "# Get the data\n",
        "df = get_all_news(years=['2021', '2022', '2023', '2024', '2025'], articles_per_year=50)"
      ],
      "metadata": {
        "colab": {
          "base_uri": "https://localhost:8080/"
        },
        "id": "pY8pRXE0UOjm",
        "outputId": "d48d20bd-b844-4038-c151-12127d67ed06"
      },
      "execution_count": 8,
      "outputs": [
        {
          "output_type": "stream",
          "name": "stdout",
          "text": [
            "\n",
            "Getting 2021...\n",
            "Found 4 articles in 2021\n",
            "\n",
            "Getting 2022...\n",
            "Found 19 articles in 2022\n",
            "Loaded 10 articles...\n",
            "\n",
            "Getting 2023...\n",
            "Found 173 articles in 2023\n",
            "Loaded 10 articles...\n",
            "Loaded 20 articles...\n",
            "Loaded 30 articles...\n",
            "Loaded 40 articles...\n",
            "Loaded 50 articles...\n",
            "\n",
            "Getting 2024...\n",
            "Found 1000 articles in 2024\n",
            "Loaded 10 articles...\n",
            "Loaded 20 articles...\n",
            "Loaded 30 articles...\n",
            "Loaded 40 articles...\n",
            "Loaded 50 articles...\n",
            "\n",
            "Getting 2025...\n",
            "Found 1000 articles in 2025\n",
            "Loaded 10 articles...\n",
            "Loaded 20 articles...\n",
            "Loaded 30 articles...\n",
            "Loaded 40 articles...\n",
            "Loaded 50 articles...\n",
            "\n",
            "✅ Total: 173 articles\n"
          ]
        }
      ]
    },
    {
      "cell_type": "code",
      "source": [
        "# See what you got\n",
        "print(f\"Shape: {df.shape}\")\n",
        "print(f\"Columns: {df.columns.tolist()}\")\n",
        "print(\"\\nFirst article:\")\n",
        "print(df.iloc[0])"
      ],
      "metadata": {
        "colab": {
          "base_uri": "https://localhost:8080/"
        },
        "id": "BCY8h_VoUPID",
        "outputId": "32768ffa-bddc-4aca-e17f-9213274b7095"
      },
      "execution_count": 9,
      "outputs": [
        {
          "output_type": "stream",
          "name": "stdout",
          "text": [
            "Shape: (173, 5)\n",
            "Columns: ['id', 'text', 'title', 'language', 'date']\n",
            "\n",
            "First article:\n",
            "id                                  2021-09-12-adalk-095b8035\n",
            "text        නොවැම්බර් මස සිට WhatsApp අත්හිටුවන ජංගම දුරකථ...\n",
            "title       නොවැම්බර් මස සිට WhatsApp අත්හිටුවන ජංගම දුරකථ...\n",
            "language                                                   si\n",
            "date                                               2021-09-12\n",
            "Name: 0, dtype: object\n"
          ]
        }
      ]
    },
    {
      "cell_type": "code",
      "source": [
        "# Save to CSV\n",
        "df.to_csv('lk_news_data.csv', index=False)\n",
        "print(\"💾 Saved to lk_news_data.csv\")"
      ],
      "metadata": {
        "colab": {
          "base_uri": "https://localhost:8080/"
        },
        "id": "FYDC9psjURXq",
        "outputId": "5d55459a-41d4-4943-fbf6-9976b2fa8797"
      },
      "execution_count": 10,
      "outputs": [
        {
          "output_type": "stream",
          "name": "stdout",
          "text": [
            "💾 Saved to lk_news_data.csv\n"
          ]
        }
      ]
    },
    {
      "cell_type": "code",
      "source": [
        "df=pd.read_csv('lk_news_data.csv')"
      ],
      "metadata": {
        "id": "d5jfzi36ZFIq"
      },
      "execution_count": 11,
      "outputs": []
    },
    {
      "cell_type": "code",
      "source": [
        "df.head()"
      ],
      "metadata": {
        "colab": {
          "base_uri": "https://localhost:8080/",
          "height": 206
        },
        "id": "aOKZo9eSZS1K",
        "outputId": "3e6663c7-25c1-4cd6-ece7-aa5b426847ca"
      },
      "execution_count": 12,
      "outputs": [
        {
          "output_type": "execute_result",
          "data": {
            "text/plain": [
              "                          id  \\\n",
              "0  2021-09-12-adalk-095b8035   \n",
              "1  2021-09-22-adalk-28eb5276   \n",
              "2  2021-10-04-adalk-f6f01c09   \n",
              "3  2021-10-14-adalk-4868ea0d   \n",
              "4  2022-01-31-adalk-7f0da7a4   \n",
              "\n",
              "                                                text  \\\n",
              "0  නොවැම්බර් මස සිට WhatsApp අත්හිටුවන ජංගම දුරකථ...   \n",
              "1  ගෙදරදීම පොල්තෙල්  සිඳින අත්යන්ත්‍රයක්\\n\\nවස වි...   \n",
              "2  සමාජ මාධ්‍ය බි﻿ඳ වැටීම යථා තත්ත්වයට\\n\\n(UPDATE...   \n",
              "3  Number Portability සේවාව සදහා නීතිමය අනුමැතිය\\...   \n",
              "4  යුද හමුදාවෙන් තවත් සුපිරි වැඩක්\\n\\nශ්‍රී ලංකා ...   \n",
              "\n",
              "                                               title language        date  \n",
              "0  නොවැම්බර් මස සිට WhatsApp අත්හිටුවන ජංගම දුරකථ...       si  2021-09-12  \n",
              "1              ගෙදරදීම පොල්තෙල්  සිඳින අත්යන්ත්‍රයක්       si  2021-09-22  \n",
              "2                සමාජ මාධ්‍ය බි﻿ඳ වැටීම යථා තත්ත්වයට       si  2021-10-04  \n",
              "3      Number Portability සේවාව සදහා නීතිමය අනුමැතිය       si  2021-10-14  \n",
              "4                    යුද හමුදාවෙන් තවත් සුපිරි වැඩක්       si  2022-01-31  "
            ],
            "text/html": [
              "\n",
              "  <div id=\"df-111193e7-142b-48a3-8efb-a910f2ddbf6e\" class=\"colab-df-container\">\n",
              "    <div>\n",
              "<style scoped>\n",
              "    .dataframe tbody tr th:only-of-type {\n",
              "        vertical-align: middle;\n",
              "    }\n",
              "\n",
              "    .dataframe tbody tr th {\n",
              "        vertical-align: top;\n",
              "    }\n",
              "\n",
              "    .dataframe thead th {\n",
              "        text-align: right;\n",
              "    }\n",
              "</style>\n",
              "<table border=\"1\" class=\"dataframe\">\n",
              "  <thead>\n",
              "    <tr style=\"text-align: right;\">\n",
              "      <th></th>\n",
              "      <th>id</th>\n",
              "      <th>text</th>\n",
              "      <th>title</th>\n",
              "      <th>language</th>\n",
              "      <th>date</th>\n",
              "    </tr>\n",
              "  </thead>\n",
              "  <tbody>\n",
              "    <tr>\n",
              "      <th>0</th>\n",
              "      <td>2021-09-12-adalk-095b8035</td>\n",
              "      <td>නොවැම්බර් මස සිට WhatsApp අත්හිටුවන ජංගම දුරකථ...</td>\n",
              "      <td>නොවැම්බර් මස සිට WhatsApp අත්හිටුවන ජංගම දුරකථ...</td>\n",
              "      <td>si</td>\n",
              "      <td>2021-09-12</td>\n",
              "    </tr>\n",
              "    <tr>\n",
              "      <th>1</th>\n",
              "      <td>2021-09-22-adalk-28eb5276</td>\n",
              "      <td>ගෙදරදීම පොල්තෙල්  සිඳින අත්යන්ත්‍රයක්\\n\\nවස වි...</td>\n",
              "      <td>ගෙදරදීම පොල්තෙල්  සිඳින අත්යන්ත්‍රයක්</td>\n",
              "      <td>si</td>\n",
              "      <td>2021-09-22</td>\n",
              "    </tr>\n",
              "    <tr>\n",
              "      <th>2</th>\n",
              "      <td>2021-10-04-adalk-f6f01c09</td>\n",
              "      <td>සමාජ මාධ්‍ය බි﻿ඳ වැටීම යථා තත්ත්වයට\\n\\n(UPDATE...</td>\n",
              "      <td>සමාජ මාධ්‍ය බි﻿ඳ වැටීම යථා තත්ත්වයට</td>\n",
              "      <td>si</td>\n",
              "      <td>2021-10-04</td>\n",
              "    </tr>\n",
              "    <tr>\n",
              "      <th>3</th>\n",
              "      <td>2021-10-14-adalk-4868ea0d</td>\n",
              "      <td>Number Portability සේවාව සදහා නීතිමය අනුමැතිය\\...</td>\n",
              "      <td>Number Portability සේවාව සදහා නීතිමය අනුමැතිය</td>\n",
              "      <td>si</td>\n",
              "      <td>2021-10-14</td>\n",
              "    </tr>\n",
              "    <tr>\n",
              "      <th>4</th>\n",
              "      <td>2022-01-31-adalk-7f0da7a4</td>\n",
              "      <td>යුද හමුදාවෙන් තවත් සුපිරි වැඩක්\\n\\nශ්‍රී ලංකා ...</td>\n",
              "      <td>යුද හමුදාවෙන් තවත් සුපිරි වැඩක්</td>\n",
              "      <td>si</td>\n",
              "      <td>2022-01-31</td>\n",
              "    </tr>\n",
              "  </tbody>\n",
              "</table>\n",
              "</div>\n",
              "    <div class=\"colab-df-buttons\">\n",
              "\n",
              "  <div class=\"colab-df-container\">\n",
              "    <button class=\"colab-df-convert\" onclick=\"convertToInteractive('df-111193e7-142b-48a3-8efb-a910f2ddbf6e')\"\n",
              "            title=\"Convert this dataframe to an interactive table.\"\n",
              "            style=\"display:none;\">\n",
              "\n",
              "  <svg xmlns=\"http://www.w3.org/2000/svg\" height=\"24px\" viewBox=\"0 -960 960 960\">\n",
              "    <path d=\"M120-120v-720h720v720H120Zm60-500h600v-160H180v160Zm220 220h160v-160H400v160Zm0 220h160v-160H400v160ZM180-400h160v-160H180v160Zm440 0h160v-160H620v160ZM180-180h160v-160H180v160Zm440 0h160v-160H620v160Z\"/>\n",
              "  </svg>\n",
              "    </button>\n",
              "\n",
              "  <style>\n",
              "    .colab-df-container {\n",
              "      display:flex;\n",
              "      gap: 12px;\n",
              "    }\n",
              "\n",
              "    .colab-df-convert {\n",
              "      background-color: #E8F0FE;\n",
              "      border: none;\n",
              "      border-radius: 50%;\n",
              "      cursor: pointer;\n",
              "      display: none;\n",
              "      fill: #1967D2;\n",
              "      height: 32px;\n",
              "      padding: 0 0 0 0;\n",
              "      width: 32px;\n",
              "    }\n",
              "\n",
              "    .colab-df-convert:hover {\n",
              "      background-color: #E2EBFA;\n",
              "      box-shadow: 0px 1px 2px rgba(60, 64, 67, 0.3), 0px 1px 3px 1px rgba(60, 64, 67, 0.15);\n",
              "      fill: #174EA6;\n",
              "    }\n",
              "\n",
              "    .colab-df-buttons div {\n",
              "      margin-bottom: 4px;\n",
              "    }\n",
              "\n",
              "    [theme=dark] .colab-df-convert {\n",
              "      background-color: #3B4455;\n",
              "      fill: #D2E3FC;\n",
              "    }\n",
              "\n",
              "    [theme=dark] .colab-df-convert:hover {\n",
              "      background-color: #434B5C;\n",
              "      box-shadow: 0px 1px 3px 1px rgba(0, 0, 0, 0.15);\n",
              "      filter: drop-shadow(0px 1px 2px rgba(0, 0, 0, 0.3));\n",
              "      fill: #FFFFFF;\n",
              "    }\n",
              "  </style>\n",
              "\n",
              "    <script>\n",
              "      const buttonEl =\n",
              "        document.querySelector('#df-111193e7-142b-48a3-8efb-a910f2ddbf6e button.colab-df-convert');\n",
              "      buttonEl.style.display =\n",
              "        google.colab.kernel.accessAllowed ? 'block' : 'none';\n",
              "\n",
              "      async function convertToInteractive(key) {\n",
              "        const element = document.querySelector('#df-111193e7-142b-48a3-8efb-a910f2ddbf6e');\n",
              "        const dataTable =\n",
              "          await google.colab.kernel.invokeFunction('convertToInteractive',\n",
              "                                                    [key], {});\n",
              "        if (!dataTable) return;\n",
              "\n",
              "        const docLinkHtml = 'Like what you see? Visit the ' +\n",
              "          '<a target=\"_blank\" href=https://colab.research.google.com/notebooks/data_table.ipynb>data table notebook</a>'\n",
              "          + ' to learn more about interactive tables.';\n",
              "        element.innerHTML = '';\n",
              "        dataTable['output_type'] = 'display_data';\n",
              "        await google.colab.output.renderOutput(dataTable, element);\n",
              "        const docLink = document.createElement('div');\n",
              "        docLink.innerHTML = docLinkHtml;\n",
              "        element.appendChild(docLink);\n",
              "      }\n",
              "    </script>\n",
              "  </div>\n",
              "\n",
              "\n",
              "    <div id=\"df-59e789f3-e152-49b7-a7a3-906cbcb69a18\">\n",
              "      <button class=\"colab-df-quickchart\" onclick=\"quickchart('df-59e789f3-e152-49b7-a7a3-906cbcb69a18')\"\n",
              "                title=\"Suggest charts\"\n",
              "                style=\"display:none;\">\n",
              "\n",
              "<svg xmlns=\"http://www.w3.org/2000/svg\" height=\"24px\"viewBox=\"0 0 24 24\"\n",
              "     width=\"24px\">\n",
              "    <g>\n",
              "        <path d=\"M19 3H5c-1.1 0-2 .9-2 2v14c0 1.1.9 2 2 2h14c1.1 0 2-.9 2-2V5c0-1.1-.9-2-2-2zM9 17H7v-7h2v7zm4 0h-2V7h2v10zm4 0h-2v-4h2v4z\"/>\n",
              "    </g>\n",
              "</svg>\n",
              "      </button>\n",
              "\n",
              "<style>\n",
              "  .colab-df-quickchart {\n",
              "      --bg-color: #E8F0FE;\n",
              "      --fill-color: #1967D2;\n",
              "      --hover-bg-color: #E2EBFA;\n",
              "      --hover-fill-color: #174EA6;\n",
              "      --disabled-fill-color: #AAA;\n",
              "      --disabled-bg-color: #DDD;\n",
              "  }\n",
              "\n",
              "  [theme=dark] .colab-df-quickchart {\n",
              "      --bg-color: #3B4455;\n",
              "      --fill-color: #D2E3FC;\n",
              "      --hover-bg-color: #434B5C;\n",
              "      --hover-fill-color: #FFFFFF;\n",
              "      --disabled-bg-color: #3B4455;\n",
              "      --disabled-fill-color: #666;\n",
              "  }\n",
              "\n",
              "  .colab-df-quickchart {\n",
              "    background-color: var(--bg-color);\n",
              "    border: none;\n",
              "    border-radius: 50%;\n",
              "    cursor: pointer;\n",
              "    display: none;\n",
              "    fill: var(--fill-color);\n",
              "    height: 32px;\n",
              "    padding: 0;\n",
              "    width: 32px;\n",
              "  }\n",
              "\n",
              "  .colab-df-quickchart:hover {\n",
              "    background-color: var(--hover-bg-color);\n",
              "    box-shadow: 0 1px 2px rgba(60, 64, 67, 0.3), 0 1px 3px 1px rgba(60, 64, 67, 0.15);\n",
              "    fill: var(--button-hover-fill-color);\n",
              "  }\n",
              "\n",
              "  .colab-df-quickchart-complete:disabled,\n",
              "  .colab-df-quickchart-complete:disabled:hover {\n",
              "    background-color: var(--disabled-bg-color);\n",
              "    fill: var(--disabled-fill-color);\n",
              "    box-shadow: none;\n",
              "  }\n",
              "\n",
              "  .colab-df-spinner {\n",
              "    border: 2px solid var(--fill-color);\n",
              "    border-color: transparent;\n",
              "    border-bottom-color: var(--fill-color);\n",
              "    animation:\n",
              "      spin 1s steps(1) infinite;\n",
              "  }\n",
              "\n",
              "  @keyframes spin {\n",
              "    0% {\n",
              "      border-color: transparent;\n",
              "      border-bottom-color: var(--fill-color);\n",
              "      border-left-color: var(--fill-color);\n",
              "    }\n",
              "    20% {\n",
              "      border-color: transparent;\n",
              "      border-left-color: var(--fill-color);\n",
              "      border-top-color: var(--fill-color);\n",
              "    }\n",
              "    30% {\n",
              "      border-color: transparent;\n",
              "      border-left-color: var(--fill-color);\n",
              "      border-top-color: var(--fill-color);\n",
              "      border-right-color: var(--fill-color);\n",
              "    }\n",
              "    40% {\n",
              "      border-color: transparent;\n",
              "      border-right-color: var(--fill-color);\n",
              "      border-top-color: var(--fill-color);\n",
              "    }\n",
              "    60% {\n",
              "      border-color: transparent;\n",
              "      border-right-color: var(--fill-color);\n",
              "    }\n",
              "    80% {\n",
              "      border-color: transparent;\n",
              "      border-right-color: var(--fill-color);\n",
              "      border-bottom-color: var(--fill-color);\n",
              "    }\n",
              "    90% {\n",
              "      border-color: transparent;\n",
              "      border-bottom-color: var(--fill-color);\n",
              "    }\n",
              "  }\n",
              "</style>\n",
              "\n",
              "      <script>\n",
              "        async function quickchart(key) {\n",
              "          const quickchartButtonEl =\n",
              "            document.querySelector('#' + key + ' button');\n",
              "          quickchartButtonEl.disabled = true;  // To prevent multiple clicks.\n",
              "          quickchartButtonEl.classList.add('colab-df-spinner');\n",
              "          try {\n",
              "            const charts = await google.colab.kernel.invokeFunction(\n",
              "                'suggestCharts', [key], {});\n",
              "          } catch (error) {\n",
              "            console.error('Error during call to suggestCharts:', error);\n",
              "          }\n",
              "          quickchartButtonEl.classList.remove('colab-df-spinner');\n",
              "          quickchartButtonEl.classList.add('colab-df-quickchart-complete');\n",
              "        }\n",
              "        (() => {\n",
              "          let quickchartButtonEl =\n",
              "            document.querySelector('#df-59e789f3-e152-49b7-a7a3-906cbcb69a18 button');\n",
              "          quickchartButtonEl.style.display =\n",
              "            google.colab.kernel.accessAllowed ? 'block' : 'none';\n",
              "        })();\n",
              "      </script>\n",
              "    </div>\n",
              "\n",
              "    </div>\n",
              "  </div>\n"
            ],
            "application/vnd.google.colaboratory.intrinsic+json": {
              "type": "dataframe",
              "variable_name": "df",
              "summary": "{\n  \"name\": \"df\",\n  \"rows\": 173,\n  \"fields\": [\n    {\n      \"column\": \"id\",\n      \"properties\": {\n        \"dtype\": \"string\",\n        \"num_unique_values\": 173,\n        \"samples\": [\n          \"2025-01-01-adaderanasinhalalk-c0263304\",\n          \"2023-08-08-adalk-1835c998\",\n          \"2024-01-05-dailyftlk-3b9630b2\"\n        ],\n        \"semantic_type\": \"\",\n        \"description\": \"\"\n      }\n    },\n    {\n      \"column\": \"text\",\n      \"properties\": {\n        \"dtype\": \"string\",\n        \"num_unique_values\": 173,\n        \"samples\": [\n          \"\\u0d9a\\u0ddc\\u0d9a\\u0dda\\u0db1\\u0dca \\u0dc3\\u0db8\\u0d9c \\u0dc3\\u0dca\\u0db4\\u0dcf\\u0da4\\u0dca\\u0da4 \\u0da2\\u0dcf\\u0dad\\u0dd2\\u0d9a\\u0dba\\u0dd9\\u0d9a\\u0dca \\u0d85\\u0dad\\u0dca\\u0d85\\u0da9\\u0d82\\u0d9c\\u0dd4\\u0dc0\\u0da7\\n\\n\\u0db4\\u0ddc\\u0dbd\\u0dd3\\u0dc3\\u0dd2\\u0dba \\u0db4\\u0dd0\\u0dc0\\u0dc3\\u0dd4\\u0dc0\\u0dda \\u0dbd\\u0daf \\u0dad\\u0ddc\\u0dbb\\u0dad\\u0dd4\\u0dbb\\u0d9a\\u0da7 \\u0d85\\u0db1\\u0dd4\\u0dc0 \\u0db4\\u0ddc\\u0dbd\\u0dd2\\u0dc3\\u0dca \\u0db8\\u0dad\\u0dca\\u0daf\\u0dca\\u200d\\u0dbb\\u0dc0\\u0dca\\u200d\\u0dba \\u0d9a\\u0dcf\\u0dbb\\u0dca\\u0dba\\u0d82\\u0dc1\\u0dba\\u0dda \\u0d9c\\u0dcf\\u0dbd\\u0dca\\u0dbd \\u0d92\\u0d9a\\u0d9a\\u0dba\\u0dda \\u0db1\\u0dd2\\u0dbd\\u0db0\\u0dcf\\u0dbb\\u0dd3\\u0db1\\u0dca \\u0dc0\\u0dd2\\u0dc3\\u0dd2\\u0db1\\u0dca \\u0d91\\u0db8 \\u0dc0\\u0dd0\\u0da7\\u0dbd\\u0dd3\\u0db8 \\u0dc3\\u0dd2\\u0daf\\u0dd4\\u0d9a\\u0dbb \\u0d87\\u0dad\\u0dd2 \\u0db6\\u0dc0\\u0dba\\u0dd2.\\n\\n\\u0dc3\\u0dd0\\u0d9a\\u0d9a\\u0dbb\\u0dd4 \\u0dc3\\u0dad\\u0dd4\\u0dc0 \\u0dad\\u0dd2\\u0db6\\u0dd3 \\u0d9a\\u0ddc\\u0d9a\\u0dd9\\u0db1\\u0dca \\u0db8\\u0dad\\u0dca\\u0daf\\u0dca\\u200d\\u0dbb\\u0dc0\\u0dca\\u200d\\u0dba \\u0d9c\\u0dca\\u200d\\u0dbb\\u0dd1\\u0db8\\u0dca 4\\u0d9a\\u0dca \\u0dc3\\u0dc4 \\u0d9c\\u0dca\\u200d\\u0dbb\\u0dd1\\u0db8\\u0dca 06\\u0d9a\\u0dca \\u0db6\\u0dbb\\u0dd4\\u0dad\\u0dd2 \\u0db8\\u0dad\\u0dca\\u0db4\\u0dd9\\u0dad\\u0dd2 12 \\u0d9a\\u0dca \\u0dc3\\u0ddc\\u0dba\\u0dcf\\u0d9c\\u0dd9\\u0db1 \\u0dad\\u0dd2\\u0db6\\u0dda.\\n\\n\\u0db8\\u0dd6\\u0dbd\\u0dd2\\u0d9a \\u0dc0\\u0dd2\\u0db8\\u0dbb\\u0dca\\u0dc1\\u0db1\\u0dc0\\u0dbd\\u0daf\\u0dd3 \\u0d85\\u0db1\\u0dcf\\u0dc0\\u0dbb\\u0dab\\u0dba \\u0dc0\\u0dd3 \\u0d87\\u0dad\\u0dca\\u0dad\\u0dda \\u0dc3\\u0dd0\\u0d9a\\u0d9a\\u0dbb\\u0dd4 \\u0dad\\u0dd0\\u0db4\\u0dd0\\u0dbd\\u0dca \\u0db8\\u0d9f\\u0dd2\\u0db1\\u0dca \\u0d85\\u0daf\\u0dcf\\u0dc5 \\u0db8\\u0dad\\u0dca\\u0daf\\u0dca\\u200d\\u0dbb\\u0dc0\\u0dca\\u200d\\u0dba \\u0db8\\u0dd9\\u0dbb\\u0da7\\u0da7 \\u0d86\\u0db1\\u0dba\\u0db1\\u0dba \\u0d9a\\u0dbb \\u0db8\\u0dd9\\u0db8 \\u0da2\\u0dcf\\u0dc0\\u0dcf\\u0dbb\\u0db8 \\u0dc3\\u0dd2\\u0daf\\u0dd4\\u0d9a\\u0dbb\\u0db1 \\u0db6\\u0dc0\\u0dba.\\n\\n\\u0d85\\u0dad\\u0dca\\u0d85\\u0da9\\u0d82\\u0d9c\\u0dd4\\u0dc0\\u0da7 \\u0d9c\\u0dd9\\u0db1 \\u0d87\\u0dad\\u0dca\\u0dad\\u0dda 38 \\u0dc4\\u0dd0\\u0dc0\\u0dd2\\u0dbb\\u0dd2\\u0daf\\u0dd2 \\u0dc3\\u0dca\\u0db4\\u0dcf\\u0da4\\u0dca\\u0da4 \\u0da2\\u0dcf\\u0dad\\u0dd2\\u0d9a\\u0dba\\u0dd9\\u0d9a\\u0dd4 \\u0db6\\u0dc0 \\u0db4\\u0ddc\\u0dbd\\u0dd3\\u0dc3\\u0dd2\\u0dba \\u0db4\\u0dd0\\u0dc0\\u0dc3\\u0dd4\\u0dc0\\u0dda.\",\n          \"\\u0d9a\\u0dd8\\u0dad\\u0dca\\u200d\\u0dbb\\u0dd3\\u0db8 \\u0db6\\u0dd4\\u0daf\\u0dca\\u0db0\\u0dd2 \\u0dc0\\u0dd2\\u0dc2\\u0dba \\u0db4\\u0dcf\\u0dc3\\u0dbd\\u0dca \\u0d85\\u0db0\\u0dca\\u200d\\u0dba\\u0dcf\\u0db4\\u0db1\\u0dba\\u0da7 6-9 \\u0dc3\\u0dc4 10 - 13 \\u0dc0\\u0dc1\\u0dba\\u0dd9\\u0db1\\u0dca \\u0d85\\u0dc0\\u0dc3\\u0dca\\u0dae\\u0dcf \\u0daf\\u0dd9\\u0d9a\\u0d9a\\u0daf\\u0dd3\\n\\n\\u0db4\\u0dd0\\u0dbb\\u0dd2\\u0dc3\\u0dca \\u0db1\\u0dd4\\u0dc0\\u0dbb \\u0db4\\u0dd0\\u0dc0\\u0dad\\u0dd2 2022 \\u0dba\\u0dd4\\u0db1\\u0dd9\\u0dc3\\u0dca\\u0d9a\\u0ddd \\u0dc3\\u0db8\\u0dd4 \\u0db4\\u0dca\\u200d\\u0dbb\\u0db0\\u0dcf\\u0db1 \\u0dad\\u0dda\\u0db8\\u0dcf\\u0dc0 \\u0dc0\\u0dd6\\u0dba\\u0dda \\u0d85\\u0db0\\u0dca\\u200d\\u0dba\\u0dcf\\u0db4\\u0db1\\u0dba \\u0da9\\u0dd2\\u0da2\\u0dd2\\u0da7\\u0dbd\\u0dca\\u0d9a\\u0dbb\\u0dab\\u0dba \\u0d9a\\u0dd2\\u0dbb\\u0dd3\\u0db8 \\u0dc4\\u0dd9\\u0dc0\\u0dad\\u0dca \\u0dad\\u0ddc\\u0dbb\\u0dad\\u0dd4\\u0dbb\\u0dd4 \\u0dc3\\u0db1\\u0dca\\u0db1\\u0dd2\\u0dc0\\u0dda\\u0daf\\u0db1 \\u0dad\\u0dcf\\u0d9a\\u0dca\\u0dc2\\u0dab\\u0dba \\u0db4\\u0daf\\u0db1\\u0db8\\u0dca \\u0d9a\\u0dbb\\u0d9c\\u0dad\\u0dca \\u0d85\\u0db0\\u0dca\\u200d\\u0dba\\u0dcf\\u0db4\\u0db1\\u0dba\\u0d9a\\u0dca \\u0db6\\u0dc0\\u0da7 \\u0db4\\u0dad\\u0dca \\u0d9a\\u0dd2\\u0dbb\\u0dd3\\u0db8 \\u0db6\\u0dc0\\u0dad\\u0dca \\u0d8a\\u0da7 \\u0d85\\u0db1\\u0dd4\\u0d9c\\u0dad \\u0dc0 2030 \\u0dc0\\u0db1 \\u0dc0\\u0dd2\\u0da7 \\u0db8\\u0dd9\\u0dbb\\u0da7 \\u0d85\\u0db0\\u0dca\\u200d\\u0dba\\u0dcf\\u0db4\\u0db1\\u0dba \\u0daf \\u0dc3\\u0d9a\\u0dc3\\u0dca \\u0dc0\\u0dd2\\u0dba \\u0dba\\u0dd4\\u0dad\\u0dd4 \\u0db6\\u0dc0\\u0dad\\u0dca \\u0d85\\u0db0\\u0dca\\u200d\\u0dba\\u0dcf\\u0db4\\u0db1 \\u0d85\\u0db8\\u0dcf\\u0dad\\u0dca\\u200d\\u0dba \\u0d86\\u0da0\\u0dcf\\u0dbb\\u0dca\\u0dba \\u0dc3\\u0dd4\\u0dc3\\u0dd2\\u0dbd\\u0dca \\u0db4\\u0dca\\u200d\\u0dbb\\u0dda\\u0db8\\u0da2\\u0dba\\u0db1\\u0dca\\u0dad \\u0db8\\u0dc4\\u0dad\\u0dcf \\u0db8\\u0dda \\u0db6\\u0dc0 \\u0db4\\u0dd0\\u0dc0\\u0dc3\\u0dd6\\u0dc0\\u0dda \\u0db4\\u0dcf\\u0dbb\\u0dca\\u0dbd\\u0dd2\\u0db8\\u0dda\\u0db1\\u0dca\\u0dad\\u0dd4\\u0dc0\\u0dda \\u0dc3\\u0dd0\\u0dc3\\u0dd2\\u0dc0\\u0dcf\\u0dbb\\u0d9a \\u0daf\\u0dd3 \\u0d85\\u0daf\\u0dc4\\u0dc3\\u0dca \\u0daf\\u0d9a\\u0dca\\u0dc0\\u0db8\\u0dd2\\u0db1\\u0dd2.\\n\\n\\u0d92 \\u0d85\\u0db1\\u0dd4\\u0dc0 \\u0dc3\\u0dcf\\u0db8\\u0dcf\\u0db1\\u0dca\\u200d\\u0dba \\u0d85\\u0db0\\u0dca\\u200d\\u0dba\\u0dcf\\u0db4\\u0db1\\u0dba, \\u0d8b\\u0dc3\\u0dc3\\u0dca \\u0d85\\u0db0\\u0dca\\u200d\\u0dba\\u0dcf\\u0db4\\u0db1\\u0dba \\u0dc4\\u0dcf \\u0dc0\\u0dd8\\u0dad\\u0dca\\u0dad\\u0dd3\\u0dba \\u0db4\\u0dd4\\u0dc4\\u0dd4\\u0dab\\u0dd4\\u0dc0 \\u0dba\\u0db1 \\u0d9a\\u0dca\\u0dc2\\u0dda\\u0dad\\u0dca\\u200d\\u0dbb \\u0dad\\u0dd4\\u0db1\\u0da7 \\u0db8 \\u0d85\\u0daf\\u0dcf\\u0dc5 \\u0dc0 \\u0db8\\u0dba\\u0dd2\\u0d9a\\u0dca\\u200d\\u0dbb\\u0ddc\\u0dc3\\u0ddc\\u0dc6\\u0dca\\u0da7\\u0dca \\u0d86\\u0dba\\u0dad\\u0db1\\u0dba\\u0dad\\u0dca \\u0dc3\\u0db8\\u0d9c \\u0d91\\u0d9a\\u0dca \\u0dc0 \\u0daf\\u0dd0\\u0db1\\u0da7 \\u0db8\\u0dad\\u0dca \\u0dc0\\u0dd2\\u0db0\\u0dd2\\u0db8\\u0dad\\u0dca \\u0dc0\\u0dd0\\u0da9\\u0dc3\\u0da7\\u0dc4\\u0db1\\u0dca \\u0dad\\u0dd4\\u0db1\\u0d9a\\u0dca \\u0dc3\\u0d9a\\u0dc3\\u0dca \\u0d9a\\u0dbb \\u0d87\\u0dad\\u0dd0\\u0dba\\u0dd2 \\u0daf, \\u0daf\\u0dd0\\u0db1\\u0da7 \\u0d8b\\u0d9c\\u0db1\\u0dca\\u0dc0\\u0db1 \\u0dad\\u0ddc\\u0dbb\\u0dad\\u0dd4\\u0dbb\\u0dd4 \\u0dad\\u0dcf\\u0d9a\\u0dca\\u0dc2\\u0dab \\u0dc0\\u0dd2\\u0dc2\\u0dba \\u0d9a\\u0dca\\u200d\\u0dbb\\u0db8\\u0dba\\u0dd9\\u0db1\\u0dca \\u0dc0\\u0dd2\\u0d9a\\u0dcf\\u0dc1\\u0dba \\u0dc0\\u0dd3 \\u0d9a\\u0dd8\\u0dad\\u0dca\\u200d\\u0dbb\\u0dd3\\u0db8 \\u0db6\\u0dd4\\u0daf\\u0dca\\u0db0\\u0dd2 \\u0dc0\\u0dd2\\u0dc2\\u0dba \\u0db4\\u0dcf\\u0dc3\\u0dbd\\u0dca \\u0d85\\u0db0\\u0dca\\u200d\\u0dba\\u0dcf\\u0db4\\u0db1\\u0dba\\u0da7 \\u0d91\\u0d9a\\u0dd4 \\u0dc0\\u0dd3\\u0db8, 6-9 \\u0dc3\\u0dc4 10-13 \\u0dc0\\u0dc1\\u0dba\\u0dd9\\u0db1\\u0dca \\u0dc0\\u0da7 \\u0daf\\u0dd9\\u0d9a\\u0d9a \\u0daf\\u0dd3 \\u0d9a\\u0dca\\u200d\\u0dbb\\u0dd2\\u0dba\\u0dcf\\u0dad\\u0dca\\u0db8\\u0d9a \\u0d9a\\u0dd9\\u0dbb\\u0dd9\\u0db1 \\u0db6\\u0dc0\\u0dad\\u0dca \\u0dc0\\u0dc3\\u0dbb \\u0d85\\u0da7\\u0d9a \\u00a0\\u0d9a\\u0dca\\u200d\\u0dbb\\u0dd2\\u0dba\\u0dcf\\u0dc0\\u0dbd\\u0dd2\\u0dba\\u0d9a\\u0dca \\u0dc3\\u0dd2\\u0dc0\\u0dca \\u0dc0\\u0dc3\\u0dbb\\u0d9a\\u0dd2\\u0db1\\u0dca \\u0db1\\u0dd2\\u0db8 \\u0d9a\\u0dbb\\u0db1 \\u0db6\\u0dc0\\u0dad\\u0dca \\u0d85\\u0db8\\u0dcf\\u0dad\\u0dca\\u200d\\u0dba\\u0dc0\\u0dbb\\u0dba\\u0dcf \\u0db8\\u0dd9\\u0dc4\\u0dd2 \\u0daf\\u0dd3 \\u0db4\\u0dd0\\u0dc0\\u0dc3\\u0dd3 \\u0dba.\\n\\n\\u0db8\\u0dd3\\u0da7 \\u0dc3\\u0db8\\u0d9c\\u0dcf\\u0db8\\u0dd3 \\u0dc0 \\u0d9c\\u0dd4\\u0dbb\\u0dd4\\u0dc0\\u0dbb\\u0dd4\\u0db1\\u0dca \\u0db4\\u0dd4\\u0dc4\\u0dd4\\u0dab\\u0dd4 \\u0d9a\\u0dc5 \\u0dba\\u0dd4\\u0dad\\u0dd4 \\u0db6\\u0dc0\\u0dad\\u0dca \\u0d9a\\u0dbd\\u0dcf\\u0db4 85\\u0d9a \\u0db4\\u0dc0\\u0dad\\u0dd2\\u0db1 \\u0db4\\u0dbb\\u0dd2\\u0d9c\\u0dab\\u0d9a \\u0dc3\\u0db8\\u0dca\\u0db4\\u0dad\\u0dca \\u0db8\\u0db0\\u0dca\\u200d\\u0dba\\u0dc3\\u0dca\\u0dae\\u0dcf\\u0db1\\u0dc0\\u0dbd \\u0dc4\\u0dcf \\u0d89\\u0dad\\u0dd2\\u0dbb\\u0dd2 \\u0d9a\\u0dbd\\u0dcf\\u0db4 15 \\u0dc3\\u0db3\\u0dc4\\u0dcf \\u0daf \\u0db1\\u0dc0 \\u0db4\\u0dbb\\u0dd2\\u0d9c\\u0dab\\u0d9a \\u0dc3\\u0db8\\u0dca\\u0db4\\u0dad\\u0dca \\u0db8\\u0db0\\u0dca\\u200d\\u0dba\\u0dc3\\u0dca\\u0dae\\u0dcf\\u0db1 \\u0db4\\u0dd2\\u0dc4\\u0dd2\\u0da7\\u0dd4\\u0dc0\\u0dcf \\u0d9c\\u0dd4\\u0dbb\\u0dd4 \\u0db4\\u0dd4\\u0dc4\\u0dd4\\u0dab\\u0dd4\\u0dc0\\u0dd3\\u0db8\\u0dca \\u0d86\\u0dbb\\u0db8\\u0dca\\u0db7 \\u0d9a\\u0dbb\\u0db1 \\u0db6\\u0dc0\\u0dad\\u0dca \\u0d8a\\u0da7 \\u0d85\\u0dc0\\u0dc1\\u0dca\\u200d\\u0dba \\u0d85\\u0db1\\u0dca\\u0dad\\u0dbb\\u0dca\\u0da2\\u0dcf\\u0dbd \\u0db4\\u0dc4\\u0dc3\\u0dd4\\u0d9a\\u0db8\\u0dca \\u0d85\\u0dc0\\u0dc4\\u0dd2\\u0dbb\\u0dad\\u0dcf\\u0dc0\\u0d9a\\u0dd2\\u0db1\\u0dca \\u0dad\\u0ddc\\u0dbb \\u0dc0 \\u0db4\\u0dc0\\u0dad\\u0dca\\u0dc0\\u0dcf\\u0d9c\\u0dd9\\u0db1 \\u0dba\\u0dd1\\u0db8 \\u0dc3\\u0db3\\u0dc4\\u0dcf \\u2018\\u0dc6\\u0dba\\u0dd2\\u0db6\\u0dbb\\u0dca \\u0d94\\u0db4\\u0dca\\u0da7\\u0dd2\\u0d9a\\u0dca\\u2018 \\u0dc3\\u0db6\\u0db3\\u0dad\\u0dcf \\u0dbd\\u0db6\\u0dcf\\u0d9c\\u0db1\\u0dca\\u0db1\\u0dcf \\u0db6\\u0dc0\\u0dad\\u0dca \\u0d85\\u0db8\\u0dcf\\u0dad\\u0dca\\u200d\\u0dba\\u0dcf\\u0dc0\\u0dbb\\u0dba\\u0dcf \\u0dc0\\u0dd0\\u0da9\\u0dd2\\u0daf\\u0dd4\\u0dbb\\u0da7\\u0dad\\u0dca \\u0dc3\\u0db3\\u0dc4\\u0db1\\u0dca \\u0d9a\\u0dc5\\u0dda \\u0dba.\\n\\n\\u0d92 \\u0d85\\u0db1\\u0dd4\\u0dc0 \\u0db4\\u0dc0\\u0dad\\u0dca\\u0db1\\u0dcf \\u0d85\\u0db1\\u0dca\\u0dad\\u0dbb\\u0dca\\u0da2\\u0dcf\\u0dbd \\u0db4\\u0dc4\\u0dc3\\u0dd4\\u0d9a\\u0db8\\u0dca \\u0dc4\\u0dcf \\u0db8\\u0dc4\\u0dd2\\u0db1\\u0dca\\u0daf\\u0ddd\\u0daf\\u0dba \\u0db4\\u0dbb\\u0dd2\\u0d9c\\u0dab\\u0d9a \\u0dc0\\u0dd2\\u0daf\\u0dca\\u200d\\u0dba\\u0dcf\\u0d9c\\u0dcf\\u0dbb\\u0dc0\\u0dbd \\u0db4\\u0dbb\\u0dd2\\u0d9c\\u0dab\\u0d9a \\u0d8b\\u0db4\\u0dcf\\u0d82\\u0d9c \\u0d86\\u0daf\\u0dd2\\u0dba \\u0dba\\u0dcf\\u0dc0\\u0dad\\u0dca\\u0d9a\\u0dcf\\u0dbd\\u0dd3\\u0db1 \\u0d9a\\u0dd2\\u0dbb\\u0dd3\\u0db8\\u0dd9\\u0db1\\u0dca \\u0db8\\u0dd9\\u0db1\\u0dca \\u0db8 \\u0d85\\u0db8\\u0dad\\u0dbb \\u0dc0\\u0dc1\\u0dba\\u0dd9\\u0db1\\u0dca \\u0db4\\u0dca\\u200d\\u0dbb\\u0db8\\u0dd4\\u0d9b \\u0db4\\u0dcf\\u0dc3\\u0dbd\\u0dca \\u0d9a\\u0dd2\\u0dc4\\u0dd2\\u0db4\\u0dba\\u0d9a\\u0da7 \\u0db8 \\u0dc6\\u0dba\\u0dd2\\u0db6\\u0dbb\\u0dca \\u0d94\\u0db4\\u0dca\\u0da7\\u0dd2\\u0d9a\\u0dca \\u0dc3\\u0dc4\\u0dd2\\u0dad \\u0d85\\u0db1\\u0dca\\u0dad\\u0dbb\\u0dca\\u0da2\\u0dcf\\u0dbd \\u0db4\\u0dc4\\u0dc3\\u0dd4\\u0d9a\\u0db8\\u0dca \\u0dc3\\u0db4\\u0dba\\u0dcf \\u0d9a\\u0dbd\\u0dcf\\u0db4 \\u0db8\\u0da7\\u0dca\\u0da7\\u0db8\\u0dd2\\u0db1\\u0dca \\u0dc3\\u0dd4\\u0dc5\\u0dd4 \\u0d85\\u0dbd\\u0dd4\\u0dad\\u0dca\\u0dc0\\u0dd0\\u0da9\\u0dd2\\u0dba\\u0dcf \\u0d9a\\u0dab\\u0dca\\u0da9\\u0dcf\\u0dba\\u0db8\\u0dca \\u0dc3\\u0d9a\\u0dc3\\u0dcf \\u0db8\\u0dd9\\u0db8 \\u00a0\\u0da9\\u0dd2\\u0da2\\u0dd2\\u0da7\\u0dbd\\u0dca\\u0d9a\\u0dbb\\u0dab \\u0d85\\u0db0\\u0dca\\u200d\\u0dba\\u0dcf\\u0db4\\u0db1 \\u0d9a\\u0dca\\u200d\\u0dbb\\u0dd2\\u0dba\\u0dcf\\u0dc0\\u0dbd\\u0dd2\\u0dba \\u0d89\\u0dad\\u0dcf \\u0d9a\\u0dd9\\u0da7\\u0dd2 \\u0d9a\\u0dbd\\u0d9a\\u0dca \\u0dad\\u0dd4\\u0dc5 \\u0daf\\u0dd2\\u0dba\\u0dad\\u0dca \\u0d9a\\u0dd2\\u0dbb\\u0dd3\\u0db8\\u0da7 \\u0d85\\u0db4\\u0dda\\u0d9a\\u0dca\\u0dc2\\u0dd2\\u0dad \\u0db6\\u0dc0 \\u0daf \\u0dc4\\u0dd9\\u0dad\\u0dd9\\u0db8 \\u0db4\\u0dd0\\u0dc0\\u0dc3\\u0dd3 \\u0dba.\",\n          \"Abans promotes TRCSL approved smartphones in Sri Lanka\\n\\nThe Telecommunications Regulatory Commission (TRC) has announced that unregistered telecommunication devices equipped with a SIM card will be deactivated within the Cellular Mobile Telephone Operator\\u2019s Network.\\n\\nThe public is strongly advised to avail services exclusively from dealers who possess a vendor license issued by the TRCSL.\\n\\nIn accordance with the directives of the Telecommunications Regulatory Commission of Sri Lanka (TRCSL), it is crucial for consumers to choose mobile phones that have received approval from the commission. TRCSL emphasises the necessity of verifying the IMEI number before making a purchase. This can be accomplished by sending a SMS to 1909 with the format \\u201cIMEI (space) 15-digit number.\\u201d An instant reply message will confirm the registration status of the mobile phone. In a non-approved TRCSL phone, the dealer who sells unauthorised devices becomes unauthorised importer who has not paid any tax and the customer of such devices is likely, to be held responsible for relevant government taxes in case of any issues.\\n\\nFailure to select a TRCSL-approved smartphone may result in various consequences for consumers. These include the inability to claim warranties from suppliers, difficulties in obtaining one-to-one replacements, a shortage of spare parts for specific phone models, and, most critically, network and connection issues from telecommunications companies. Such issues encompass frequency problems, bandwidth and coverage issues, as well as network connection losses.\\n\\nAbans is a TRCSL licenced vendor, serving as the Authorised National Distributor for Motorola and OPPO brands, in addition to being distributors for VIVO and Techno, as well as the authorised reseller for Apple iPhones in Sri Lanka, assures customers that all its smartphones are imported only after obtaining TRCSL certifications. The entire range of Apple, Motorola, and OPPO mobile phones imported by Abans undergoes rigorous testing by TRCSL to ensure network compatibility. Furthermore, these models come with comprehensive documentation, including GSM Certification, EU-Type Examination Certificate, SAR Certificate, Safety test report, EMC Test report, Radio Frequency test reports, and Battery test report.\\n\\nThe authenticity of these certificates is verified by TRCSL in collaboration with the relevant governing bodies that issued them, affirming that Abans\\u2019 mobile phones not only meet high-quality standards but also ensure the health and safety of its customers.\\n\\nAbans, with a reputable 17-year partnership with Apple as a value-added trusted partner, is the first to introduce Apple\\u2019s latest innovations to the Sri Lankan market. As an Authorised Service Provider for Apple, Abans strictly warns users to buy only TRCSL approved products in order to get its international warranty claims in Sri Lanka.\\n\\nMotorola, dedicated to creating purposeful innovations that transform the way people connect with the world, is a brand that Abans has been bringing down from late 1990s. As the National Distributor, Abans has reintroduced the latest range of Motorola smartphones to the Sri Lankan market.\\n\\nOPPO, a leading manufacturer of smart devices with a focus on building a comprehensive smart device ecosystem, is another key brand distributed by Abans. With a presence in international markets and over 30,000 global patents, OPPO exemplifies innovative technology, and Abans proudly serves as the national distributor for OPPO smartphones in Sri Lanka.\"\n        ],\n        \"semantic_type\": \"\",\n        \"description\": \"\"\n      }\n    },\n    {\n      \"column\": \"title\",\n      \"properties\": {\n        \"dtype\": \"string\",\n        \"num_unique_values\": 173,\n        \"samples\": [\n          \"\\u0d9a\\u0ddc\\u0d9a\\u0dda\\u0db1\\u0dca \\u0dc3\\u0db8\\u0d9c \\u0dc3\\u0dca\\u0db4\\u0dcf\\u0da4\\u0dca\\u0da4 \\u0da2\\u0dcf\\u0dad\\u0dd2\\u0d9a\\u0dba\\u0dd9\\u0d9a\\u0dca \\u0d85\\u0dad\\u0dca\\u0d85\\u0da9\\u0d82\\u0d9c\\u0dd4\\u0dc0\\u0da7\",\n          \"\\u0d9a\\u0dd8\\u0dad\\u0dca\\u200d\\u0dbb\\u0dd3\\u0db8 \\u0db6\\u0dd4\\u0daf\\u0dca\\u0db0\\u0dd2 \\u0dc0\\u0dd2\\u0dc2\\u0dba \\u0db4\\u0dcf\\u0dc3\\u0dbd\\u0dca \\u0d85\\u0db0\\u0dca\\u200d\\u0dba\\u0dcf\\u0db4\\u0db1\\u0dba\\u0da7 6-9 \\u0dc3\\u0dc4 10 - 13 \\u0dc0\\u0dc1\\u0dba\\u0dd9\\u0db1\\u0dca \\u0d85\\u0dc0\\u0dc3\\u0dca\\u0dae\\u0dcf \\u0daf\\u0dd9\\u0d9a\\u0d9a\\u0daf\\u0dd3\",\n          \"Abans promotes TRCSL approved smartphones in Sri Lanka\"\n        ],\n        \"semantic_type\": \"\",\n        \"description\": \"\"\n      }\n    },\n    {\n      \"column\": \"language\",\n      \"properties\": {\n        \"dtype\": \"category\",\n        \"num_unique_values\": 3,\n        \"samples\": [\n          \"si\",\n          \"en\",\n          \"ta\"\n        ],\n        \"semantic_type\": \"\",\n        \"description\": \"\"\n      }\n    },\n    {\n      \"column\": \"date\",\n      \"properties\": {\n        \"dtype\": \"object\",\n        \"num_unique_values\": 59,\n        \"samples\": [\n          \"2021-09-12\",\n          \"2022-02-01\",\n          \"2023-08-15\"\n        ],\n        \"semantic_type\": \"\",\n        \"description\": \"\"\n      }\n    }\n  ]\n}"
            }
          },
          "metadata": {},
          "execution_count": 12
        }
      ]
    },
    {
      "cell_type": "code",
      "source": [
        "df.tail()"
      ],
      "metadata": {
        "colab": {
          "base_uri": "https://localhost:8080/",
          "height": 206
        },
        "id": "XiG53q4Xn-nL",
        "outputId": "93373e1a-bdbf-4706-b0df-11be8ee03dc9"
      },
      "execution_count": 13,
      "outputs": [
        {
          "output_type": "execute_result",
          "data": {
            "text/plain": [
              "                                         id  \\\n",
              "168  2025-01-01-adaderanasinhalalk-fbe67685   \n",
              "169  2025-01-01-adaderanasinhalalk-ff3a3a00   \n",
              "170               2025-01-01-adalk-03d0dbe1   \n",
              "171               2025-01-01-adalk-056eb2bd   \n",
              "172               2025-01-01-adalk-05827ff1   \n",
              "\n",
              "                                                  text  \\\n",
              "168  නව වසරට ජනපතිගෙන් සුබ පැතුම්\\n\\n2024 වසරේ ලබාග...   \n",
              "169  මාතර බන්ධනාගාරයේ බෝ ගසක අත්තක් කඩාවැටී අයෙක් ම...   \n",
              "170  මාඳු ගඟ අභය භූමිය බලන්න එන අයගෙන් මුදල් අරගෙන ...   \n",
              "171  ඉන්දු ලංකා මගී නැව් සේවාව යළි හෙට සිට ඇරඹෙයි\\n...   \n",
              "172  උදලු පහරින් බිරිඳ මරුට\\n\\nකුලියාපිටිය පරගහරුප්...   \n",
              "\n",
              "                                                 title language        date  \n",
              "168                       නව වසරට ජනපතිගෙන් සුබ පැතුම්       si  2025-01-01  \n",
              "169  මාතර බන්ධනාගාරයේ බෝ ගසක අත්තක් කඩාවැටී අයෙක් මරුට       si  2025-01-01  \n",
              "170   මාඳු ගඟ අභය භූමිය බලන්න එන අයගෙන් මුදල් අරගෙන නෑ       si  2025-01-01  \n",
              "171       ඉන්දු ලංකා මගී නැව් සේවාව යළි හෙට සිට ඇරඹෙයි       si  2025-01-01  \n",
              "172                             උදලු පහරින් බිරිඳ මරුට       si  2025-01-01  "
            ],
            "text/html": [
              "\n",
              "  <div id=\"df-5105218a-4247-4ca2-b7eb-11c2c54c5b5c\" class=\"colab-df-container\">\n",
              "    <div>\n",
              "<style scoped>\n",
              "    .dataframe tbody tr th:only-of-type {\n",
              "        vertical-align: middle;\n",
              "    }\n",
              "\n",
              "    .dataframe tbody tr th {\n",
              "        vertical-align: top;\n",
              "    }\n",
              "\n",
              "    .dataframe thead th {\n",
              "        text-align: right;\n",
              "    }\n",
              "</style>\n",
              "<table border=\"1\" class=\"dataframe\">\n",
              "  <thead>\n",
              "    <tr style=\"text-align: right;\">\n",
              "      <th></th>\n",
              "      <th>id</th>\n",
              "      <th>text</th>\n",
              "      <th>title</th>\n",
              "      <th>language</th>\n",
              "      <th>date</th>\n",
              "    </tr>\n",
              "  </thead>\n",
              "  <tbody>\n",
              "    <tr>\n",
              "      <th>168</th>\n",
              "      <td>2025-01-01-adaderanasinhalalk-fbe67685</td>\n",
              "      <td>නව වසරට ජනපතිගෙන් සුබ පැතුම්\\n\\n2024 වසරේ ලබාග...</td>\n",
              "      <td>නව වසරට ජනපතිගෙන් සුබ පැතුම්</td>\n",
              "      <td>si</td>\n",
              "      <td>2025-01-01</td>\n",
              "    </tr>\n",
              "    <tr>\n",
              "      <th>169</th>\n",
              "      <td>2025-01-01-adaderanasinhalalk-ff3a3a00</td>\n",
              "      <td>මාතර බන්ධනාගාරයේ බෝ ගසක අත්තක් කඩාවැටී අයෙක් ම...</td>\n",
              "      <td>මාතර බන්ධනාගාරයේ බෝ ගසක අත්තක් කඩාවැටී අයෙක් මරුට</td>\n",
              "      <td>si</td>\n",
              "      <td>2025-01-01</td>\n",
              "    </tr>\n",
              "    <tr>\n",
              "      <th>170</th>\n",
              "      <td>2025-01-01-adalk-03d0dbe1</td>\n",
              "      <td>මාඳු ගඟ අභය භූමිය බලන්න එන අයගෙන් මුදල් අරගෙන ...</td>\n",
              "      <td>මාඳු ගඟ අභය භූමිය බලන්න එන අයගෙන් මුදල් අරගෙන නෑ</td>\n",
              "      <td>si</td>\n",
              "      <td>2025-01-01</td>\n",
              "    </tr>\n",
              "    <tr>\n",
              "      <th>171</th>\n",
              "      <td>2025-01-01-adalk-056eb2bd</td>\n",
              "      <td>ඉන්දු ලංකා මගී නැව් සේවාව යළි හෙට සිට ඇරඹෙයි\\n...</td>\n",
              "      <td>ඉන්දු ලංකා මගී නැව් සේවාව යළි හෙට සිට ඇරඹෙයි</td>\n",
              "      <td>si</td>\n",
              "      <td>2025-01-01</td>\n",
              "    </tr>\n",
              "    <tr>\n",
              "      <th>172</th>\n",
              "      <td>2025-01-01-adalk-05827ff1</td>\n",
              "      <td>උදලු පහරින් බිරිඳ මරුට\\n\\nකුලියාපිටිය පරගහරුප්...</td>\n",
              "      <td>උදලු පහරින් බිරිඳ මරුට</td>\n",
              "      <td>si</td>\n",
              "      <td>2025-01-01</td>\n",
              "    </tr>\n",
              "  </tbody>\n",
              "</table>\n",
              "</div>\n",
              "    <div class=\"colab-df-buttons\">\n",
              "\n",
              "  <div class=\"colab-df-container\">\n",
              "    <button class=\"colab-df-convert\" onclick=\"convertToInteractive('df-5105218a-4247-4ca2-b7eb-11c2c54c5b5c')\"\n",
              "            title=\"Convert this dataframe to an interactive table.\"\n",
              "            style=\"display:none;\">\n",
              "\n",
              "  <svg xmlns=\"http://www.w3.org/2000/svg\" height=\"24px\" viewBox=\"0 -960 960 960\">\n",
              "    <path d=\"M120-120v-720h720v720H120Zm60-500h600v-160H180v160Zm220 220h160v-160H400v160Zm0 220h160v-160H400v160ZM180-400h160v-160H180v160Zm440 0h160v-160H620v160ZM180-180h160v-160H180v160Zm440 0h160v-160H620v160Z\"/>\n",
              "  </svg>\n",
              "    </button>\n",
              "\n",
              "  <style>\n",
              "    .colab-df-container {\n",
              "      display:flex;\n",
              "      gap: 12px;\n",
              "    }\n",
              "\n",
              "    .colab-df-convert {\n",
              "      background-color: #E8F0FE;\n",
              "      border: none;\n",
              "      border-radius: 50%;\n",
              "      cursor: pointer;\n",
              "      display: none;\n",
              "      fill: #1967D2;\n",
              "      height: 32px;\n",
              "      padding: 0 0 0 0;\n",
              "      width: 32px;\n",
              "    }\n",
              "\n",
              "    .colab-df-convert:hover {\n",
              "      background-color: #E2EBFA;\n",
              "      box-shadow: 0px 1px 2px rgba(60, 64, 67, 0.3), 0px 1px 3px 1px rgba(60, 64, 67, 0.15);\n",
              "      fill: #174EA6;\n",
              "    }\n",
              "\n",
              "    .colab-df-buttons div {\n",
              "      margin-bottom: 4px;\n",
              "    }\n",
              "\n",
              "    [theme=dark] .colab-df-convert {\n",
              "      background-color: #3B4455;\n",
              "      fill: #D2E3FC;\n",
              "    }\n",
              "\n",
              "    [theme=dark] .colab-df-convert:hover {\n",
              "      background-color: #434B5C;\n",
              "      box-shadow: 0px 1px 3px 1px rgba(0, 0, 0, 0.15);\n",
              "      filter: drop-shadow(0px 1px 2px rgba(0, 0, 0, 0.3));\n",
              "      fill: #FFFFFF;\n",
              "    }\n",
              "  </style>\n",
              "\n",
              "    <script>\n",
              "      const buttonEl =\n",
              "        document.querySelector('#df-5105218a-4247-4ca2-b7eb-11c2c54c5b5c button.colab-df-convert');\n",
              "      buttonEl.style.display =\n",
              "        google.colab.kernel.accessAllowed ? 'block' : 'none';\n",
              "\n",
              "      async function convertToInteractive(key) {\n",
              "        const element = document.querySelector('#df-5105218a-4247-4ca2-b7eb-11c2c54c5b5c');\n",
              "        const dataTable =\n",
              "          await google.colab.kernel.invokeFunction('convertToInteractive',\n",
              "                                                    [key], {});\n",
              "        if (!dataTable) return;\n",
              "\n",
              "        const docLinkHtml = 'Like what you see? Visit the ' +\n",
              "          '<a target=\"_blank\" href=https://colab.research.google.com/notebooks/data_table.ipynb>data table notebook</a>'\n",
              "          + ' to learn more about interactive tables.';\n",
              "        element.innerHTML = '';\n",
              "        dataTable['output_type'] = 'display_data';\n",
              "        await google.colab.output.renderOutput(dataTable, element);\n",
              "        const docLink = document.createElement('div');\n",
              "        docLink.innerHTML = docLinkHtml;\n",
              "        element.appendChild(docLink);\n",
              "      }\n",
              "    </script>\n",
              "  </div>\n",
              "\n",
              "\n",
              "    <div id=\"df-18c28cb6-321d-466b-821b-9dfb019c9a66\">\n",
              "      <button class=\"colab-df-quickchart\" onclick=\"quickchart('df-18c28cb6-321d-466b-821b-9dfb019c9a66')\"\n",
              "                title=\"Suggest charts\"\n",
              "                style=\"display:none;\">\n",
              "\n",
              "<svg xmlns=\"http://www.w3.org/2000/svg\" height=\"24px\"viewBox=\"0 0 24 24\"\n",
              "     width=\"24px\">\n",
              "    <g>\n",
              "        <path d=\"M19 3H5c-1.1 0-2 .9-2 2v14c0 1.1.9 2 2 2h14c1.1 0 2-.9 2-2V5c0-1.1-.9-2-2-2zM9 17H7v-7h2v7zm4 0h-2V7h2v10zm4 0h-2v-4h2v4z\"/>\n",
              "    </g>\n",
              "</svg>\n",
              "      </button>\n",
              "\n",
              "<style>\n",
              "  .colab-df-quickchart {\n",
              "      --bg-color: #E8F0FE;\n",
              "      --fill-color: #1967D2;\n",
              "      --hover-bg-color: #E2EBFA;\n",
              "      --hover-fill-color: #174EA6;\n",
              "      --disabled-fill-color: #AAA;\n",
              "      --disabled-bg-color: #DDD;\n",
              "  }\n",
              "\n",
              "  [theme=dark] .colab-df-quickchart {\n",
              "      --bg-color: #3B4455;\n",
              "      --fill-color: #D2E3FC;\n",
              "      --hover-bg-color: #434B5C;\n",
              "      --hover-fill-color: #FFFFFF;\n",
              "      --disabled-bg-color: #3B4455;\n",
              "      --disabled-fill-color: #666;\n",
              "  }\n",
              "\n",
              "  .colab-df-quickchart {\n",
              "    background-color: var(--bg-color);\n",
              "    border: none;\n",
              "    border-radius: 50%;\n",
              "    cursor: pointer;\n",
              "    display: none;\n",
              "    fill: var(--fill-color);\n",
              "    height: 32px;\n",
              "    padding: 0;\n",
              "    width: 32px;\n",
              "  }\n",
              "\n",
              "  .colab-df-quickchart:hover {\n",
              "    background-color: var(--hover-bg-color);\n",
              "    box-shadow: 0 1px 2px rgba(60, 64, 67, 0.3), 0 1px 3px 1px rgba(60, 64, 67, 0.15);\n",
              "    fill: var(--button-hover-fill-color);\n",
              "  }\n",
              "\n",
              "  .colab-df-quickchart-complete:disabled,\n",
              "  .colab-df-quickchart-complete:disabled:hover {\n",
              "    background-color: var(--disabled-bg-color);\n",
              "    fill: var(--disabled-fill-color);\n",
              "    box-shadow: none;\n",
              "  }\n",
              "\n",
              "  .colab-df-spinner {\n",
              "    border: 2px solid var(--fill-color);\n",
              "    border-color: transparent;\n",
              "    border-bottom-color: var(--fill-color);\n",
              "    animation:\n",
              "      spin 1s steps(1) infinite;\n",
              "  }\n",
              "\n",
              "  @keyframes spin {\n",
              "    0% {\n",
              "      border-color: transparent;\n",
              "      border-bottom-color: var(--fill-color);\n",
              "      border-left-color: var(--fill-color);\n",
              "    }\n",
              "    20% {\n",
              "      border-color: transparent;\n",
              "      border-left-color: var(--fill-color);\n",
              "      border-top-color: var(--fill-color);\n",
              "    }\n",
              "    30% {\n",
              "      border-color: transparent;\n",
              "      border-left-color: var(--fill-color);\n",
              "      border-top-color: var(--fill-color);\n",
              "      border-right-color: var(--fill-color);\n",
              "    }\n",
              "    40% {\n",
              "      border-color: transparent;\n",
              "      border-right-color: var(--fill-color);\n",
              "      border-top-color: var(--fill-color);\n",
              "    }\n",
              "    60% {\n",
              "      border-color: transparent;\n",
              "      border-right-color: var(--fill-color);\n",
              "    }\n",
              "    80% {\n",
              "      border-color: transparent;\n",
              "      border-right-color: var(--fill-color);\n",
              "      border-bottom-color: var(--fill-color);\n",
              "    }\n",
              "    90% {\n",
              "      border-color: transparent;\n",
              "      border-bottom-color: var(--fill-color);\n",
              "    }\n",
              "  }\n",
              "</style>\n",
              "\n",
              "      <script>\n",
              "        async function quickchart(key) {\n",
              "          const quickchartButtonEl =\n",
              "            document.querySelector('#' + key + ' button');\n",
              "          quickchartButtonEl.disabled = true;  // To prevent multiple clicks.\n",
              "          quickchartButtonEl.classList.add('colab-df-spinner');\n",
              "          try {\n",
              "            const charts = await google.colab.kernel.invokeFunction(\n",
              "                'suggestCharts', [key], {});\n",
              "          } catch (error) {\n",
              "            console.error('Error during call to suggestCharts:', error);\n",
              "          }\n",
              "          quickchartButtonEl.classList.remove('colab-df-spinner');\n",
              "          quickchartButtonEl.classList.add('colab-df-quickchart-complete');\n",
              "        }\n",
              "        (() => {\n",
              "          let quickchartButtonEl =\n",
              "            document.querySelector('#df-18c28cb6-321d-466b-821b-9dfb019c9a66 button');\n",
              "          quickchartButtonEl.style.display =\n",
              "            google.colab.kernel.accessAllowed ? 'block' : 'none';\n",
              "        })();\n",
              "      </script>\n",
              "    </div>\n",
              "\n",
              "    </div>\n",
              "  </div>\n"
            ],
            "application/vnd.google.colaboratory.intrinsic+json": {
              "type": "dataframe",
              "repr_error": "0"
            }
          },
          "metadata": {},
          "execution_count": 13
        }
      ]
    },
    {
      "cell_type": "markdown",
      "source": [
        "Sanity Check of the data"
      ],
      "metadata": {
        "id": "lKyNWgQloT60"
      }
    },
    {
      "cell_type": "code",
      "source": [
        "df.shape"
      ],
      "metadata": {
        "colab": {
          "base_uri": "https://localhost:8080/"
        },
        "id": "Q57Ho05moZUa",
        "outputId": "a81db0cd-9fee-4b8b-f356-4a8fb87b0874"
      },
      "execution_count": 14,
      "outputs": [
        {
          "output_type": "execute_result",
          "data": {
            "text/plain": [
              "(173, 5)"
            ]
          },
          "metadata": {},
          "execution_count": 14
        }
      ]
    },
    {
      "cell_type": "code",
      "source": [
        "df.info()"
      ],
      "metadata": {
        "colab": {
          "base_uri": "https://localhost:8080/"
        },
        "id": "CF-KCaVp4wP4",
        "outputId": "7bcb3241-0755-41ec-ebe7-602cb03f4f5d"
      },
      "execution_count": 15,
      "outputs": [
        {
          "output_type": "stream",
          "name": "stdout",
          "text": [
            "<class 'pandas.core.frame.DataFrame'>\n",
            "RangeIndex: 173 entries, 0 to 172\n",
            "Data columns (total 5 columns):\n",
            " #   Column    Non-Null Count  Dtype \n",
            "---  ------    --------------  ----- \n",
            " 0   id        173 non-null    object\n",
            " 1   text      173 non-null    object\n",
            " 2   title     173 non-null    object\n",
            " 3   language  173 non-null    object\n",
            " 4   date      173 non-null    object\n",
            "dtypes: object(5)\n",
            "memory usage: 6.9+ KB\n"
          ]
        }
      ]
    },
    {
      "cell_type": "code",
      "source": [
        "df.isnull().sum()"
      ],
      "metadata": {
        "colab": {
          "base_uri": "https://localhost:8080/",
          "height": 241
        },
        "id": "SlKCh_UU5QxL",
        "outputId": "5749e02f-0c82-49e2-e958-6a29f7375824"
      },
      "execution_count": 16,
      "outputs": [
        {
          "output_type": "execute_result",
          "data": {
            "text/plain": [
              "id          0\n",
              "text        0\n",
              "title       0\n",
              "language    0\n",
              "date        0\n",
              "dtype: int64"
            ],
            "text/html": [
              "<div>\n",
              "<style scoped>\n",
              "    .dataframe tbody tr th:only-of-type {\n",
              "        vertical-align: middle;\n",
              "    }\n",
              "\n",
              "    .dataframe tbody tr th {\n",
              "        vertical-align: top;\n",
              "    }\n",
              "\n",
              "    .dataframe thead th {\n",
              "        text-align: right;\n",
              "    }\n",
              "</style>\n",
              "<table border=\"1\" class=\"dataframe\">\n",
              "  <thead>\n",
              "    <tr style=\"text-align: right;\">\n",
              "      <th></th>\n",
              "      <th>0</th>\n",
              "    </tr>\n",
              "  </thead>\n",
              "  <tbody>\n",
              "    <tr>\n",
              "      <th>id</th>\n",
              "      <td>0</td>\n",
              "    </tr>\n",
              "    <tr>\n",
              "      <th>text</th>\n",
              "      <td>0</td>\n",
              "    </tr>\n",
              "    <tr>\n",
              "      <th>title</th>\n",
              "      <td>0</td>\n",
              "    </tr>\n",
              "    <tr>\n",
              "      <th>language</th>\n",
              "      <td>0</td>\n",
              "    </tr>\n",
              "    <tr>\n",
              "      <th>date</th>\n",
              "      <td>0</td>\n",
              "    </tr>\n",
              "  </tbody>\n",
              "</table>\n",
              "</div><br><label><b>dtype:</b> int64</label>"
            ]
          },
          "metadata": {},
          "execution_count": 16
        }
      ]
    },
    {
      "cell_type": "code",
      "source": [
        "df.duplicated().sum()"
      ],
      "metadata": {
        "colab": {
          "base_uri": "https://localhost:8080/"
        },
        "id": "YXMuO7WX6WHQ",
        "outputId": "d960eba6-273a-4c64-c486-0e77fa11521b"
      },
      "execution_count": 18,
      "outputs": [
        {
          "output_type": "execute_result",
          "data": {
            "text/plain": [
              "np.int64(0)"
            ]
          },
          "metadata": {},
          "execution_count": 18
        }
      ]
    },
    {
      "cell_type": "code",
      "metadata": {
        "colab": {
          "base_uri": "https://localhost:8080/",
          "height": 249
        },
        "id": "b64a54d3",
        "outputId": "43290d75-813b-4987-8a29-b848ad4b8ea7"
      },
      "source": [
        "df['date'] = pd.to_datetime(df['date'])\n",
        "display(df.info())"
      ],
      "execution_count": 20,
      "outputs": [
        {
          "output_type": "stream",
          "name": "stdout",
          "text": [
            "<class 'pandas.core.frame.DataFrame'>\n",
            "RangeIndex: 173 entries, 0 to 172\n",
            "Data columns (total 5 columns):\n",
            " #   Column    Non-Null Count  Dtype         \n",
            "---  ------    --------------  -----         \n",
            " 0   id        173 non-null    object        \n",
            " 1   text      173 non-null    object        \n",
            " 2   title     173 non-null    object        \n",
            " 3   language  173 non-null    object        \n",
            " 4   date      173 non-null    datetime64[ns]\n",
            "dtypes: datetime64[ns](1), object(4)\n",
            "memory usage: 6.9+ KB\n"
          ]
        },
        {
          "output_type": "display_data",
          "data": {
            "text/plain": [
              "None"
            ]
          },
          "metadata": {}
        }
      ]
    },
    {
      "cell_type": "code",
      "metadata": {
        "colab": {
          "base_uri": "https://localhost:8080/"
        },
        "id": "cad31917",
        "outputId": "af9e9096-0b65-4bcf-e873-db7c1380737d"
      },
      "source": [
        "for col in df.select_dtypes(include='object').columns:\n",
        "    print(f\"Column: {col}\")\n",
        "    print(df[col].value_counts().head()) # Display top 5 value counts\n",
        "    print(f\"Number of unique values: {df[col].nunique()}\")\n",
        "    print(\"-\" * 30)"
      ],
      "execution_count": 21,
      "outputs": [
        {
          "output_type": "stream",
          "name": "stdout",
          "text": [
            "Column: id\n",
            "id\n",
            "2021-09-12-adalk-095b8035    1\n",
            "2021-09-22-adalk-28eb5276    1\n",
            "2021-10-04-adalk-f6f01c09    1\n",
            "2021-10-14-adalk-4868ea0d    1\n",
            "2022-01-31-adalk-7f0da7a4    1\n",
            "Name: count, dtype: int64\n",
            "Number of unique values: 173\n",
            "------------------------------\n",
            "Column: text\n",
            "text\n",
            "නොවැම්බර් මස සිට WhatsApp අත්හිටුවන ජංගම දුරකථන ලයිස්තුව\\n\\nනොවැම්බර් මස සිට පැරණි ස්මාට් ජංගම දුරකථන මාලිදි විශාල සංඛ්‍යාවකට WhatsApp සමාජ මාධ්‍ය යෙදුම ලබාගත නොහැකි බව එම සමාගම දැනුම් දී ඇත.\\n\\nඇපල් අයිෆෝන් වල මෙහෙයුම් පද්ධතිය IOS 9 ට සමාන හෝ අඩු සහ ඇන්ඩ්‍රොයිඩ් 4.0.3 ට සමාන හෝ අඩු මෙහෙයුම් පද්ධතියක් ඇති ජංගම දුරකථනවලට මෙලෙස නොවැම්බර් මාසයේ සිට WhatsApp භාවිතා කිරීමේ හැකියාව නොලැබී යනු ඇ​ත.\\n\\n* Samsung: Galaxy Trend II, Galaxy SII, Samsung Galaxy Trend Lite, Galaxy S3 mini, Galaxy Ace 2, Galaxy Xcover 2, and Galaxy Core\\n\\n* LG: LG Lucid 2, Optimus F7, Optimus F5, Optimus L3 II Dual, Optimus F5, Optimus L5, Optimus L5 II, Optimus L5 Dual, Optimus L3 II, Optimus L7, Optimus L7 II Dual, Optimus L7 II, Optimus F6, Enact , Optimus L4 II Dual, Optimus F3, Optimus L4 II, Optimus L2 II, Optimus Nitro HD and 4X HD, and Optimus F3Q\\n\\n* ZTE: ZTE Grand S Flex, ZTE V956, Grand Memo and Grand X Quad V987\\n\\n* Huawei: Huawei Ascend G740, Ascend D1 Quad XL, Ascend P1 S, Ascend Mate, Ascend D Quad XL, and Ascend D2\\n\\n* Sony: Sony Xperia Neo L, Sony Xperia Miro, and Xperia Arc S\\n\\n* Others: Lenovo A820, HTC Desire 500, Alcatel One Touch Evo 7, Archos 53 Platinum, Faea F1, Caterpillar Cat B15, Wiko Cink Five, Wiko Darknight, UMi X2, and THL W8                                                                                                                                                                                                                                                                                                                                                                                                                                                                                                                                                         1\n",
            "ගෙදරදීම පොල්තෙල්  සිඳින අත්යන්ත්‍රයක්\\n\\nවස විෂ  වලින් තොරව තම නිවස තුළදීම නිවසේ අවශ්‍ය පොල්තෙල් සිඳගන්නා අත් යන්ත්‍රයක් නිෂ්පාදනය කිරීමට දේශීය නව නිපැයුම්කරුවෙකුට  හැකි වී තිබේ.\\n\\nඅනුරාධපුර දිස්ත්රික්කයේ කැකිරාව ගල්කිරියාගම ප්‍රදේශයේ පදිංචි රාජ්‍ය සේවකයකු  වන වයි .එල් . චන්දන  සේනානායක නව නිපැයුම්කරු විසින් මෙම අත්යන්ත්‍ර සුදු යකඩ උපයෝගී කරගෙන නිපදවා තිබේ.\\n\\nප්‍රදේශයේ ස්වාමීන් වහන්සේ නමකගේ ඉල්ලීමක් අනුව මෙම පොල්තෙල් සිදින කුඩා අත් යන්ත්‍රය නිපදවා ඇතැයි ඔහු පැවසීය.\\n\\nමේ වනවිටත් පුද්ගලයන් 18 දෙනකු පමණ යොදවා ගෙන  නිවස තුළම පොල්තෙල් සිදින කුඩා අත් යන්ත්‍ර වර්ග දෙකක් නිෂ්පාදනය කරමින් සිටිති.\\n\\nචන්දන සේනානායක මහතා කියා සිටියේ මෙහි එක නිමවුමක් වසර ගණනාවක් නිවසක පාවිච්චි කළ හැකියි අනර්ග තත්වයේ පවතින පොල්තෙල් සිදින අත් යන්ත්‍රයක් රුපියල් 6875 ක  පමණ මුදලකටද  සාමාන්‍ය නිවසක පාවිච්චිය සඳහා නිපදවා ඇති නිමවුමක් රුපියල් 2875 ක මුදක ට   ලබා දීමට තමාට හැකියාව පවතින බව ය.\\n\\nසුදු යකඩ සහ අනෙකුත් ද්‍රව්‍ය මිල ගණන් ඉහළ යෑම් මෙන්ම කුඩා  ප්‍රමාණයක් නිෂ්පාදනය කිරීම අමුද්‍රව්‍ය විශාල තොග මිලදී ගැනීමට හැකිනම් මිට වඩා අඩු මුදලකට මේ උපකරණය ජනතාවට ලබාදීමට හැකි බවද  කෙසේ වෙතත් මෙරට නව නිර්මාණකරුවන්ට කිසිදු රජයකින් සාධාරණයක් හෝ උදව් කිරීමක් සිදු නොවන නිසා තම පෞද්ගලික මුදලින් මෙවැනි දේ සිදු කිරීම වියදම් වැඩි වශයෙන් යන බවද පැවැසීය.\\n\\nරජය නව නිපැයුම්කරුවන්ට උදව් කිරීම සදහා ආයතන ගණනාවක අතිවිශාල මුදලක් වෙන් කොට තබාගෙන සිටියද මෙවැනි දේ සදහා උදව් කරන්නේනම් මෙම කුඩා පොල් තෙල් සිදින යන්ත්‍රය සෑම නිවසකටම ඉතා අඩු මුදලකට ලබා දීමටත් විදේශීය රටවල අවශ්‍යතාවය සඳහා ලබා දීමටත් හැකි බව හෙතෙම සඳහන් කළේය.\\n\\nමෙම  නිපැයුම්කරු ගෙන් යත්යන්ත්‍ර ලබාගැනීමට කැමැත්තක්  දක්වන අය වෙතොත් 070  460 13 88  / 0 7 1 28  59 568   / 070  460  13 91 යන අංකවලට ඇමතීය හැකිය.                                                                                                                                                       1\n",
            "සමාජ මාධ්‍ය බි﻿ඳ වැටීම යථා තත්ත්වයට\\n\\n(UPDATE) ෆේස්බුක්, වට්ස්ඇප් හා ඉන්ස්ටග්‍රැම්හි ලොව පුරා සිදුවූ බිඳ වැටීම යථා තත්ත්වයට පත්කර තිබේ.\\n\\nෆේස්බුක්, වට්ස්ඇප් හා ඉන්ස්ටග්‍රැම්හි බිඳ වැටීමක් සිදුව තිබේ. ලොව පුරා මිලියන ගණනයක පරිශිලකයන්ට මේ හේතුවෙන් බලපෑම් එල්ල වී තිබේ.                                                                                                                                                                                                                                                                                                                                                                                                                                                                                                                                                                                                                                                                                                                                                                                                                                                                                                                                                                                                                                                                                                                                                                                                                                                                                                                                                                                                                                                                                                                                                                               1\n",
            "Number Portability සේවාව සදහා නීතිමය අනුමැතිය\\n\\nසියළුම දුරකථන ග්‍රාහකයින්ට තම දුරකථන අංකය වෙනත් ජාලයක් වෙත රැගෙන යාමේ (Number Portability) සේවාව සදහා නීතිමය අනුමැතිය හිමි වූ බව, විදුලි සංදේශ නියාමන කොමිෂන් සභාවේ අධ්‍යක්ෂ ජනරාල් ඕෂධ සේනානායක පවසා සිටියි.\\n\\nජනාධිපති මාධ්‍ය කේන්ද්‍රයේදී පැවැත්වෙන මාධ්‍ය හමුවේදී ඔහු මේ බව සඳහන් කර සිටියේ​ය.\\n\\nසියළුම දුරකථන ග්‍රාහකයින්ට තම දුරකථන අංකය වෙනත් ජාලයක් වෙත රැගෙන යාමේ (Number Portability) සේවාව සදහා නීතිමය අනුමැතිය හිමි වූ බව,\\n\\nදැන් ජනාධිපති මාධ්‍ය කේන්ද්‍රයේදී පැවැත්වෙන මාධ්‍ය හමුවේදී, විදුලි සංදේශ නියාමන කොමිෂන් සභාවේ අධ්‍යක්ෂ ජනරාල් ඕෂධ සේනානායක මහතා ප්‍රකාශ කලා.#lka                                                                                                                                                                                                                                                                                                                                                                                                                                                                                                                                                                                                                                                                                                                                                                                                                                                                                                                                                                                                                                                                                                                                                                                                              1\n",
            "යුද හමුදාවෙන් තවත් සුපිරි වැඩක්\\n\\nශ්‍රී ලංකා විදුලි යාන්ත්‍රික හා ඉංජිනේරු (SLEME) රෙජිමේන්තුව විසින් නිෂ්පාදනය කරන ලද ප්‍රථම වෙඩි නොවදින සැහැල්ලු සන්නාහ සන්නද්ධ රථය Mine Resistance Ambush Protected Vehicle (Unicob- MRAPV)  ආරක්‍ෂක මාණ්ඩලික ප්‍රධානී සහ යුධ හමුදාපති ජෙනරාල් ශවේන්ද්‍ර සිල්වා මහතා විසින් අද (31දා) ශ්‍රී ජයවර්ධනපුර ශ්‍රී ලංකා යුධ හමුදා මූලස්ථානයථානයේදී පරීක්ෂාවට ලක් කරනු ලැබීය.\\n\\nමෙම සන්නද්ධ රථය 74 වන ජාතික නිදහස් උළෙලේ සන්නද්ධ රථ පෙළපාලිය සඳහා එක් කිරීමට නියමිතව අතර  මෙවැනි රථ භාවිතා කරනුයේ යුධමය වාතාවරණයක් පවතින අවස්ථාවේදී එම ස්ථානයන් වෙත සෙබළුන්  ආරක්ෂිතව රැගෙන යාමට සහ තුවාල වූ සෙබළුන් ආරක්ෂිතව රැගෙන ඒම වැනි කාර්යභාරයන් ට වීම් විශේෂත්වයකි.\\n\\nඉංජිනේරු අංශයේ කණ්ඩායම් 15 කගේ සහභාගිත්වයෙන් නිමවා ඇති මෙම රථයට වෙඩි හෝ බෝම්බ ප්‍රහාර මැඩගෙනයාමේ හැකියාවක් පවතින බව ආඥාපති බටකාර්ය සම්පාදන අණසක සහ විදුලි යාන්ත්‍රික  ඉංජිනේරු බලකායේ බලකාධිපති මේජර් ජනරාල් ඉන්දු සමරකෝන් මහතා පැවැසීය.\\n\\nමෙවැනි රථයක් විදේශයකින් මිලදී ගැනීමේදී ලක්ෂ 2995ක මුදලක් වැය කෙරෙන අතර ලංකාවේ නිෂ්පාදනය කරනු ලැබූ මෙම වෙඩි නොවදින රථය සඳහා වැයවු මුදල ලක්ෂ 150ක බව ඒ මහතා පැවසීය\\n\\nමෙය ඩලයක් ලෙස එළිදක්වා ඇති අතර මෙවැනි රථ 50ක අවශ්‍යතාවය පවතින බවද ඒ මහතා පැවැසීය.\\n\\nඅනුව ඉදිරියේ දී මෙවැනි සැහැල්ලු වෙඩි නොවදින සන්නහ සන්නද්ධ රථ දහයක් යුධ හමුදාව විසින් නිෂ්පාදනය කිරීමට සැලසුම් කොට ඇති බවද ඒ මහතා පැවසීය.\\n\\nමේ වන විට ලංකාව තුළ යුධමය වාතාවරණයක් නොමැති වුවද රට පුරා ඇතිවන නායයෑම් ගංවතුර ගිනි ගැනීම් වැනි හදිසි තත්වයන් වෙත සැලකිය යුතු සෙබලුන් සංඛ්‍යාවක් ආරක්ෂිතව රැගෙන යාමට මෙම රථයට හැකියාව පවතින බවද ඒ මහතා පැවසීය.\\n\\nමෙතෙක් කල් විදේශයන් වෙතින් විශාල මුදලක් වැය කරමින් මිලදී ගනු ලැබූ මෙම රථ මේ වන විට ලංකාව තුළ ම යුද හමුදාවේ සහභාගිත්වයෙන් නිෂ්පාදනය කිරීමට හැකි වීම පිළිබඳව වැඩිදුරටත් අදහස් දැක් වූ ඒ මහතා මෙම රථයේ අංශක 360 හරවා ප්‍රහාරයක් එල්ල කල හැකි mm 12.7 ක  යුත් ගිනි අවියකින්ද සමන්විත පැවසීය.    1\n",
            "Name: count, dtype: int64\n",
            "Number of unique values: 173\n",
            "------------------------------\n",
            "Column: title\n",
            "title\n",
            "නොවැම්බර් මස සිට WhatsApp අත්හිටුවන ජංගම දුරකථන ලයිස්තුව    1\n",
            "ගෙදරදීම පොල්තෙල්  සිඳින අත්යන්ත්‍රයක්                       1\n",
            "සමාජ මාධ්‍ය බි﻿ඳ වැටීම යථා තත්ත්වයට                         1\n",
            "Number Portability සේවාව සදහා නීතිමය අනුමැතිය               1\n",
            "යුද හමුදාවෙන් තවත් සුපිරි වැඩක්                             1\n",
            "Name: count, dtype: int64\n",
            "Number of unique values: 173\n",
            "------------------------------\n",
            "Column: language\n",
            "language\n",
            "si    104\n",
            "en     68\n",
            "ta      1\n",
            "Name: count, dtype: int64\n",
            "Number of unique values: 3\n",
            "------------------------------\n"
          ]
        }
      ]
    }
  ]
}