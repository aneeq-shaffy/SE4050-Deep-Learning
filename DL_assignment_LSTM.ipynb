{
  "nbformat": 4,
  "nbformat_minor": 0,
  "metadata": {
    "colab": {
      "provenance": []
    },
    "kernelspec": {
      "name": "python3",
      "display_name": "Python 3"
    },
    "language_info": {
      "name": "python"
    }
  },
  "cells": [
    {
      "cell_type": "markdown",
      "source": [
        "Sinhala News Classification using LSTM with FastText Embeddings\n",
        "📘 Module Overview\n",
        "\n",
        "This notebook develops a Deep Learning model to classify Sinhala news headlines into three categories — International, Business, and Sport — using an LSTM neural network combined with FastText Sinhala word embeddings.\n",
        "\n",
        "The model learns the relationships between Sinhala words and their categories, enabling it to predict which label a new unseen news headline belongs to.\n",
        "This approach creates a strong neural baseline model, more advanced than TF-IDF but lighter than transformer-based architectures."
      ],
      "metadata": {
        "id": "Px8OqWKdthgl"
      }
    },
    {
      "cell_type": "markdown",
      "source": [
        "1. Import Required Libraries\n",
        "\n",
        "Description:\n",
        ".Before we begin, we must import all the necessary Python modules. Each library plays a key role:\n",
        "\n",
        ".pandas / numpy → handle and manipulate data.\n",
        "\n",
        ".matplotlib / seaborn → visualize data and results.\n",
        "\n",
        ".tensorflow.keras → build and train the LSTM deep learning model.\n",
        "\n",
        ".sklearn → handle label encoding, data splitting, and evaluation metrics.\n",
        "\n",
        "These modules provide every essential tool for text preprocessing, model creation, and evaluation."
      ],
      "metadata": {
        "id": "V-0sZZ7ovrVc"
      }
    },
    {
      "cell_type": "code",
      "execution_count": 1,
      "metadata": {
        "id": "l240c-IXl9mi"
      },
      "outputs": [],
      "source": [
        "# Import essential libraries for data analysis and visualization\n",
        "import pandas as pd\n",
        "import numpy as np\n",
        "import matplotlib.pyplot as plt\n",
        "import seaborn as sns\n",
        "\n",
        "# Import TensorFlow and Keras for deep learning\n",
        "from tensorflow.keras.preprocessing.text import Tokenizer\n",
        "from tensorflow.keras.preprocessing.sequence import pad_sequences\n",
        "from tensorflow.keras.models import Sequential\n",
        "from tensorflow.keras.layers import Embedding, LSTM, Dense, Dropout\n",
        "from tensorflow.keras.utils import to_categorical\n",
        "\n",
        "# Import sklearn tools for preprocessing and evaluation\n",
        "from sklearn.model_selection import train_test_split\n",
        "from sklearn.preprocessing import LabelEncoder\n",
        "from sklearn.metrics import classification_report, confusion_matrix\n"
      ]
    },
    {
      "cell_type": "markdown",
      "source": [
        "2. Load and Explore the Dataset\n",
        "\n",
        "Description:\n",
        "Now we will load our Sinhala News Dataset, which contains two columns:\n",
        "\n",
        "Title – the Sinhala news headline (text).\n",
        "\n",
        "Label – the category of the headline (International / Business / Sport).\n",
        "\n",
        "We will inspect its structure, look for missing data, and count how many samples each category contains.\n",
        "👉 Replace the file path with your own file location if you uploaded it to Google Drive."
      ],
      "metadata": {
        "id": "N_KsO7UDwCuH"
      }
    },
    {
      "cell_type": "code",
      "source": [
        "# ⚠️ Update the file path below if your dataset is in Google Drive\n",
        "df = pd.read_csv('/content/Sinhala_news_articles.csv')\n",
        "\n",
        "# Display shape and first few rows\n",
        "print(\"Dataset shape:\", df.shape)\n",
        "print(df.head())\n",
        "\n",
        "# Check for missing values\n",
        "print(\"\\nMissing values:\\n\", df.isnull().sum())\n",
        "\n",
        "# View distribution of categories\n",
        "print(\"\\nLabel distribution:\\n\", df['Label'].value_counts())\n"
      ],
      "metadata": {
        "colab": {
          "base_uri": "https://localhost:8080/"
        },
        "id": "VBS_Ij2GwCW8",
        "outputId": "8ce42f16-15f8-4020-b1fe-c442ef41e8a4"
      },
      "execution_count": 2,
      "outputs": [
        {
          "output_type": "stream",
          "name": "stdout",
          "text": [
            "Dataset shape: (26420, 2)\n",
            "                                               Title          Label\n",
            "0               කොරෝනා වැලඳුණු ට්‍රම්ප් අද ජන රැලියක  International\n",
            "1  ආර්ථික විද්‍යාව පිළිබඳ නොබෙල් ත්‍යාගය ඇමරිකානු...  International\n",
            "2        ඉන්දියාවේ කොරෝනා ආසාදිතයන් 71 ලක්ෂය ඉක්මවයි  International\n",
            "3  කළු ජාතිකයෙකු ඩොලර් මිලියනයක වන්දි ඉල්ලා ටෙක්ස...  International\n",
            "4                          නේපාල සංචාරක ඇමතිට කොරෝනා  International\n",
            "\n",
            "Missing values:\n",
            " Title    0\n",
            "Label    0\n",
            "dtype: int64\n",
            "\n",
            "Label distribution:\n",
            " Label\n",
            "International    12009\n",
            "Sport             9088\n",
            "Business          5323\n",
            "Name: count, dtype: int64\n"
          ]
        }
      ]
    },
    {
      "cell_type": "markdown",
      "source": [
        "3. Data Cleaning (Preprocessing Text)\n",
        "\n",
        "Description:\n",
        "Before feeding the data into our model, we must clean the Sinhala text.\n",
        "This involves removing:\n",
        "\n",
        "Numbers\n",
        "\n",
        "English or punctuation characters\n",
        "\n",
        "Extra white spaces\n",
        "\n",
        "This ensures only meaningful Sinhala characters remain for training."
      ],
      "metadata": {
        "id": "8U63mv53wdHi"
      }
    },
    {
      "cell_type": "code",
      "source": [
        "import re\n",
        "\n",
        "def clean_text(text):\n",
        "    text = re.sub(r'[0-9]', '', text)                    # Remove numbers\n",
        "    text = re.sub(r'[^\\u0D80-\\u0DFF\\s]', '', text)       # Keep only Sinhala letters\n",
        "    text = text.strip()\n",
        "    return text\n",
        "\n",
        "# Apply cleaning to all titles\n",
        "df['Title'] = df['Title'].astype(str).apply(clean_text)\n",
        "\n",
        "# Display few cleaned titles\n",
        "df.head()\n"
      ],
      "metadata": {
        "colab": {
          "base_uri": "https://localhost:8080/",
          "height": 245
        },
        "id": "M2i1Xs4KwnSq",
        "outputId": "0a5042ae-fc3b-48b8-cba6-f568dcfe05da"
      },
      "execution_count": 3,
      "outputs": [
        {
          "output_type": "execute_result",
          "data": {
            "text/plain": [
              "                                               Title          Label\n",
              "0                කොරෝනා වැලඳුණු ට්රම්ප් අද ජන රැලියක  International\n",
              "1  ආර්ථික විද්යාව පිළිබඳ නොබෙල් ත්යාගය ඇමරිකානුවන...  International\n",
              "2          ඉන්දියාවේ කොරෝනා ආසාදිතයන්  ලක්ෂය ඉක්මවයි  International\n",
              "3  කළු ජාතිකයෙකු ඩොලර් මිලියනයක වන්දි ඉල්ලා ටෙක්ස...  International\n",
              "4                          නේපාල සංචාරක ඇමතිට කොරෝනා  International"
            ],
            "text/html": [
              "\n",
              "  <div id=\"df-d9b85cd1-f06d-4265-8497-0c9e25a76769\" class=\"colab-df-container\">\n",
              "    <div>\n",
              "<style scoped>\n",
              "    .dataframe tbody tr th:only-of-type {\n",
              "        vertical-align: middle;\n",
              "    }\n",
              "\n",
              "    .dataframe tbody tr th {\n",
              "        vertical-align: top;\n",
              "    }\n",
              "\n",
              "    .dataframe thead th {\n",
              "        text-align: right;\n",
              "    }\n",
              "</style>\n",
              "<table border=\"1\" class=\"dataframe\">\n",
              "  <thead>\n",
              "    <tr style=\"text-align: right;\">\n",
              "      <th></th>\n",
              "      <th>Title</th>\n",
              "      <th>Label</th>\n",
              "    </tr>\n",
              "  </thead>\n",
              "  <tbody>\n",
              "    <tr>\n",
              "      <th>0</th>\n",
              "      <td>කොරෝනා වැලඳුණු ට්රම්ප් අද ජන රැලියක</td>\n",
              "      <td>International</td>\n",
              "    </tr>\n",
              "    <tr>\n",
              "      <th>1</th>\n",
              "      <td>ආර්ථික විද්යාව පිළිබඳ නොබෙල් ත්යාගය ඇමරිකානුවන...</td>\n",
              "      <td>International</td>\n",
              "    </tr>\n",
              "    <tr>\n",
              "      <th>2</th>\n",
              "      <td>ඉන්දියාවේ කොරෝනා ආසාදිතයන්  ලක්ෂය ඉක්මවයි</td>\n",
              "      <td>International</td>\n",
              "    </tr>\n",
              "    <tr>\n",
              "      <th>3</th>\n",
              "      <td>කළු ජාතිකයෙකු ඩොලර් මිලියනයක වන්දි ඉල්ලා ටෙක්ස...</td>\n",
              "      <td>International</td>\n",
              "    </tr>\n",
              "    <tr>\n",
              "      <th>4</th>\n",
              "      <td>නේපාල සංචාරක ඇමතිට කොරෝනා</td>\n",
              "      <td>International</td>\n",
              "    </tr>\n",
              "  </tbody>\n",
              "</table>\n",
              "</div>\n",
              "    <div class=\"colab-df-buttons\">\n",
              "\n",
              "  <div class=\"colab-df-container\">\n",
              "    <button class=\"colab-df-convert\" onclick=\"convertToInteractive('df-d9b85cd1-f06d-4265-8497-0c9e25a76769')\"\n",
              "            title=\"Convert this dataframe to an interactive table.\"\n",
              "            style=\"display:none;\">\n",
              "\n",
              "  <svg xmlns=\"http://www.w3.org/2000/svg\" height=\"24px\" viewBox=\"0 -960 960 960\">\n",
              "    <path d=\"M120-120v-720h720v720H120Zm60-500h600v-160H180v160Zm220 220h160v-160H400v160Zm0 220h160v-160H400v160ZM180-400h160v-160H180v160Zm440 0h160v-160H620v160ZM180-180h160v-160H180v160Zm440 0h160v-160H620v160Z\"/>\n",
              "  </svg>\n",
              "    </button>\n",
              "\n",
              "  <style>\n",
              "    .colab-df-container {\n",
              "      display:flex;\n",
              "      gap: 12px;\n",
              "    }\n",
              "\n",
              "    .colab-df-convert {\n",
              "      background-color: #E8F0FE;\n",
              "      border: none;\n",
              "      border-radius: 50%;\n",
              "      cursor: pointer;\n",
              "      display: none;\n",
              "      fill: #1967D2;\n",
              "      height: 32px;\n",
              "      padding: 0 0 0 0;\n",
              "      width: 32px;\n",
              "    }\n",
              "\n",
              "    .colab-df-convert:hover {\n",
              "      background-color: #E2EBFA;\n",
              "      box-shadow: 0px 1px 2px rgba(60, 64, 67, 0.3), 0px 1px 3px 1px rgba(60, 64, 67, 0.15);\n",
              "      fill: #174EA6;\n",
              "    }\n",
              "\n",
              "    .colab-df-buttons div {\n",
              "      margin-bottom: 4px;\n",
              "    }\n",
              "\n",
              "    [theme=dark] .colab-df-convert {\n",
              "      background-color: #3B4455;\n",
              "      fill: #D2E3FC;\n",
              "    }\n",
              "\n",
              "    [theme=dark] .colab-df-convert:hover {\n",
              "      background-color: #434B5C;\n",
              "      box-shadow: 0px 1px 3px 1px rgba(0, 0, 0, 0.15);\n",
              "      filter: drop-shadow(0px 1px 2px rgba(0, 0, 0, 0.3));\n",
              "      fill: #FFFFFF;\n",
              "    }\n",
              "  </style>\n",
              "\n",
              "    <script>\n",
              "      const buttonEl =\n",
              "        document.querySelector('#df-d9b85cd1-f06d-4265-8497-0c9e25a76769 button.colab-df-convert');\n",
              "      buttonEl.style.display =\n",
              "        google.colab.kernel.accessAllowed ? 'block' : 'none';\n",
              "\n",
              "      async function convertToInteractive(key) {\n",
              "        const element = document.querySelector('#df-d9b85cd1-f06d-4265-8497-0c9e25a76769');\n",
              "        const dataTable =\n",
              "          await google.colab.kernel.invokeFunction('convertToInteractive',\n",
              "                                                    [key], {});\n",
              "        if (!dataTable) return;\n",
              "\n",
              "        const docLinkHtml = 'Like what you see? Visit the ' +\n",
              "          '<a target=\"_blank\" href=https://colab.research.google.com/notebooks/data_table.ipynb>data table notebook</a>'\n",
              "          + ' to learn more about interactive tables.';\n",
              "        element.innerHTML = '';\n",
              "        dataTable['output_type'] = 'display_data';\n",
              "        await google.colab.output.renderOutput(dataTable, element);\n",
              "        const docLink = document.createElement('div');\n",
              "        docLink.innerHTML = docLinkHtml;\n",
              "        element.appendChild(docLink);\n",
              "      }\n",
              "    </script>\n",
              "  </div>\n",
              "\n",
              "\n",
              "    <div id=\"df-49a15c18-49c6-455d-96d7-096359444415\">\n",
              "      <button class=\"colab-df-quickchart\" onclick=\"quickchart('df-49a15c18-49c6-455d-96d7-096359444415')\"\n",
              "                title=\"Suggest charts\"\n",
              "                style=\"display:none;\">\n",
              "\n",
              "<svg xmlns=\"http://www.w3.org/2000/svg\" height=\"24px\"viewBox=\"0 0 24 24\"\n",
              "     width=\"24px\">\n",
              "    <g>\n",
              "        <path d=\"M19 3H5c-1.1 0-2 .9-2 2v14c0 1.1.9 2 2 2h14c1.1 0 2-.9 2-2V5c0-1.1-.9-2-2-2zM9 17H7v-7h2v7zm4 0h-2V7h2v10zm4 0h-2v-4h2v4z\"/>\n",
              "    </g>\n",
              "</svg>\n",
              "      </button>\n",
              "\n",
              "<style>\n",
              "  .colab-df-quickchart {\n",
              "      --bg-color: #E8F0FE;\n",
              "      --fill-color: #1967D2;\n",
              "      --hover-bg-color: #E2EBFA;\n",
              "      --hover-fill-color: #174EA6;\n",
              "      --disabled-fill-color: #AAA;\n",
              "      --disabled-bg-color: #DDD;\n",
              "  }\n",
              "\n",
              "  [theme=dark] .colab-df-quickchart {\n",
              "      --bg-color: #3B4455;\n",
              "      --fill-color: #D2E3FC;\n",
              "      --hover-bg-color: #434B5C;\n",
              "      --hover-fill-color: #FFFFFF;\n",
              "      --disabled-bg-color: #3B4455;\n",
              "      --disabled-fill-color: #666;\n",
              "  }\n",
              "\n",
              "  .colab-df-quickchart {\n",
              "    background-color: var(--bg-color);\n",
              "    border: none;\n",
              "    border-radius: 50%;\n",
              "    cursor: pointer;\n",
              "    display: none;\n",
              "    fill: var(--fill-color);\n",
              "    height: 32px;\n",
              "    padding: 0;\n",
              "    width: 32px;\n",
              "  }\n",
              "\n",
              "  .colab-df-quickchart:hover {\n",
              "    background-color: var(--hover-bg-color);\n",
              "    box-shadow: 0 1px 2px rgba(60, 64, 67, 0.3), 0 1px 3px 1px rgba(60, 64, 67, 0.15);\n",
              "    fill: var(--button-hover-fill-color);\n",
              "  }\n",
              "\n",
              "  .colab-df-quickchart-complete:disabled,\n",
              "  .colab-df-quickchart-complete:disabled:hover {\n",
              "    background-color: var(--disabled-bg-color);\n",
              "    fill: var(--disabled-fill-color);\n",
              "    box-shadow: none;\n",
              "  }\n",
              "\n",
              "  .colab-df-spinner {\n",
              "    border: 2px solid var(--fill-color);\n",
              "    border-color: transparent;\n",
              "    border-bottom-color: var(--fill-color);\n",
              "    animation:\n",
              "      spin 1s steps(1) infinite;\n",
              "  }\n",
              "\n",
              "  @keyframes spin {\n",
              "    0% {\n",
              "      border-color: transparent;\n",
              "      border-bottom-color: var(--fill-color);\n",
              "      border-left-color: var(--fill-color);\n",
              "    }\n",
              "    20% {\n",
              "      border-color: transparent;\n",
              "      border-left-color: var(--fill-color);\n",
              "      border-top-color: var(--fill-color);\n",
              "    }\n",
              "    30% {\n",
              "      border-color: transparent;\n",
              "      border-left-color: var(--fill-color);\n",
              "      border-top-color: var(--fill-color);\n",
              "      border-right-color: var(--fill-color);\n",
              "    }\n",
              "    40% {\n",
              "      border-color: transparent;\n",
              "      border-right-color: var(--fill-color);\n",
              "      border-top-color: var(--fill-color);\n",
              "    }\n",
              "    60% {\n",
              "      border-color: transparent;\n",
              "      border-right-color: var(--fill-color);\n",
              "    }\n",
              "    80% {\n",
              "      border-color: transparent;\n",
              "      border-right-color: var(--fill-color);\n",
              "      border-bottom-color: var(--fill-color);\n",
              "    }\n",
              "    90% {\n",
              "      border-color: transparent;\n",
              "      border-bottom-color: var(--fill-color);\n",
              "    }\n",
              "  }\n",
              "</style>\n",
              "\n",
              "      <script>\n",
              "        async function quickchart(key) {\n",
              "          const quickchartButtonEl =\n",
              "            document.querySelector('#' + key + ' button');\n",
              "          quickchartButtonEl.disabled = true;  // To prevent multiple clicks.\n",
              "          quickchartButtonEl.classList.add('colab-df-spinner');\n",
              "          try {\n",
              "            const charts = await google.colab.kernel.invokeFunction(\n",
              "                'suggestCharts', [key], {});\n",
              "          } catch (error) {\n",
              "            console.error('Error during call to suggestCharts:', error);\n",
              "          }\n",
              "          quickchartButtonEl.classList.remove('colab-df-spinner');\n",
              "          quickchartButtonEl.classList.add('colab-df-quickchart-complete');\n",
              "        }\n",
              "        (() => {\n",
              "          let quickchartButtonEl =\n",
              "            document.querySelector('#df-49a15c18-49c6-455d-96d7-096359444415 button');\n",
              "          quickchartButtonEl.style.display =\n",
              "            google.colab.kernel.accessAllowed ? 'block' : 'none';\n",
              "        })();\n",
              "      </script>\n",
              "    </div>\n",
              "\n",
              "    </div>\n",
              "  </div>\n"
            ],
            "application/vnd.google.colaboratory.intrinsic+json": {
              "type": "dataframe",
              "variable_name": "df",
              "summary": "{\n  \"name\": \"df\",\n  \"rows\": 26420,\n  \"fields\": [\n    {\n      \"column\": \"Title\",\n      \"properties\": {\n        \"dtype\": \"string\",\n        \"num_unique_values\": 25231,\n        \"samples\": [\n          \"\\u0d89\\u0db1\\u0dca\\u0daf\\u0dd2\\u0dba\\u0dcf\\u0db1\\u0dd4\\u0dc0\\u0db1\\u0dca\\u0d9c\\u0dda \\u0dc3\\u0dd2\\u0dc4\\u0dd2\\u0db1 \\u0db6\\u0ddc\\u0db3 \\u0d9a\\u0dc5 \\u0d85\\u0db8\\u0dd3\\u0dbb\\u0dca\\u0d9c\\u0dda \\u0dc0\\u0dd2\\u0d9a\\u0dca\\u0dbb\\u0db8\\u0dba\",\n          \"\\u0dc4\\u0dba\\u0dd2\\u0da7\\u0dd2 \\u0db7\\u0dd6 \\u0d9a\\u0db8\\u0dca\\u0db4\\u0db1\\u0dba\\u0dd9\\u0db1\\u0dca \\u0da2\\u0dd3\\u0dc0\\u0dd2\\u0dad \\u0dc4\\u0dcf\\u0db1\\u0dd2\",\n          \"\\u0db1\\u0dd2\\u0dbd \\u0dc0\\u0dd2\\u0daf\\u0dda\\u0dc1 \\u0dc3\\u0d82\\u0da0\\u0dd2\\u0dad\\u0dba \\u0d89\\u0dc4\\u0dc5\\u0da7\"\n        ],\n        \"semantic_type\": \"\",\n        \"description\": \"\"\n      }\n    },\n    {\n      \"column\": \"Label\",\n      \"properties\": {\n        \"dtype\": \"category\",\n        \"num_unique_values\": 3,\n        \"samples\": [\n          \"International\",\n          \"Business\",\n          \"Sport\"\n        ],\n        \"semantic_type\": \"\",\n        \"description\": \"\"\n      }\n    }\n  ]\n}"
            }
          },
          "metadata": {},
          "execution_count": 3
        }
      ]
    },
    {
      "cell_type": "markdown",
      "source": [
        "4. Tokenization and Padding\n",
        "\n",
        "Description:\n",
        "Machines cannot understand words directly; they need numbers.\n",
        "We tokenize the Sinhala text (each unique word gets a number ID) and then pad all sentences to equal length.\n",
        "This allows the LSTM model to read every input sequence in the same size."
      ],
      "metadata": {
        "id": "twQP52-Qw0Ii"
      }
    },
    {
      "cell_type": "code",
      "source": [
        "MAX_WORDS = 10000  # maximum number of unique words to keep\n",
        "MAX_LEN = 20       # fixed length of each sequence\n",
        "\n",
        "# Convert text to integer sequences\n",
        "tokenizer = Tokenizer(num_words=MAX_WORDS)\n",
        "tokenizer.fit_on_texts(df['Title'])\n",
        "X = tokenizer.texts_to_sequences(df['Title'])\n",
        "\n",
        "# Pad all sequences to the same length\n",
        "X = pad_sequences(X, maxlen=MAX_LEN, padding='post')\n",
        "\n",
        "print(\"Vocabulary size:\", len(tokenizer.word_index))\n",
        "print(\"Example sequence:\", X[0])\n"
      ],
      "metadata": {
        "colab": {
          "base_uri": "https://localhost:8080/"
        },
        "id": "xfzHroLjw7Fb",
        "outputId": "cad22c3b-90d7-4e15-b1ff-247d631bee58"
      },
      "execution_count": 4,
      "outputs": [
        {
          "output_type": "stream",
          "name": "stdout",
          "text": [
            "Vocabulary size: 20735\n",
            "Example sequence: [  72   42    8 1818    0    0    0    0    0    0    0    0    0    0\n",
            "    0    0    0    0    0    0]\n"
          ]
        }
      ]
    },
    {
      "cell_type": "markdown",
      "source": [
        "5. Encode Category Labels\n",
        "\n",
        "Description:\n",
        "The Label column contains text categories like “International.”\n",
        "We must convert them into numeric format because the model expects numbers.\n",
        "Finally, we transform them into one-hot vectors for multi-class classification."
      ],
      "metadata": {
        "id": "8lPwwFLExA9M"
      }
    },
    {
      "cell_type": "code",
      "source": [
        "# Encode text labels to integers\n",
        "le = LabelEncoder()\n",
        "y = le.fit_transform(df['Label'])\n",
        "\n",
        "# Convert to one-hot encoded form\n",
        "y = to_categorical(y)\n",
        "\n",
        "print(\"Label classes:\", le.classes_)\n"
      ],
      "metadata": {
        "colab": {
          "base_uri": "https://localhost:8080/"
        },
        "id": "RcFaFN6uxJG3",
        "outputId": "217edec9-6d65-439a-b896-f1fd2702f469"
      },
      "execution_count": 5,
      "outputs": [
        {
          "output_type": "stream",
          "name": "stdout",
          "text": [
            "Label classes: ['Business' 'International' 'Sport']\n"
          ]
        }
      ]
    },
    {
      "cell_type": "markdown",
      "source": [
        "6. Download and Load FastText Sinhala Embeddings\n",
        "\n",
        "Description:\n",
        "FastText is a pre-trained embedding model developed by Facebook that already knows the meaning of Sinhala words.\n",
        "We’ll download cc.si.300.vec, which contains 300-dimensional vectors for thousands of Sinhala words.\n",
        "Using these embeddings helps the LSTM understand word meanings without starting from scratch."
      ],
      "metadata": {
        "id": "p4QOF3PzxRI8"
      }
    },
    {
      "cell_type": "code",
      "source": [
        "# Download FastText Sinhala word embeddings\n",
        "!wget https://dl.fbaipublicfiles.com/fasttext/vectors-crawl/cc.si.300.vec.gz\n",
        "!gunzip cc.si.300.vec.gz\n",
        "\n",
        "# Load embeddings into a dictionary\n",
        "embedding_index = {}\n",
        "with open('cc.si.300.vec', encoding='utf-8', errors='ignore') as f:\n",
        "    next(f)  # skip header\n",
        "    for line in f:\n",
        "        values = line.split()\n",
        "        word = values[0]\n",
        "        coefs = np.asarray(values[1:], dtype='float32')\n",
        "        embedding_index[word] = coefs\n",
        "\n",
        "print(\"Loaded %s word vectors.\" % len(embedding_index))\n"
      ],
      "metadata": {
        "colab": {
          "base_uri": "https://localhost:8080/"
        },
        "id": "SuqyQR0oxWUl",
        "outputId": "92245e0c-5e59-4e81-a758-079c2380788c"
      },
      "execution_count": 6,
      "outputs": [
        {
          "output_type": "stream",
          "name": "stdout",
          "text": [
            "--2025-10-04 15:09:51--  https://dl.fbaipublicfiles.com/fasttext/vectors-crawl/cc.si.300.vec.gz\n",
            "Resolving dl.fbaipublicfiles.com (dl.fbaipublicfiles.com)... 18.172.21.129, 18.172.21.52, 18.172.21.43, ...\n",
            "Connecting to dl.fbaipublicfiles.com (dl.fbaipublicfiles.com)|18.172.21.129|:443... connected.\n",
            "HTTP request sent, awaiting response... 200 OK\n",
            "Length: 481477801 (459M) [binary/octet-stream]\n",
            "Saving to: ‘cc.si.300.vec.gz’\n",
            "\n",
            "cc.si.300.vec.gz    100%[===================>] 459.17M  23.9MB/s    in 21s     \n",
            "\n",
            "2025-10-04 15:10:12 (21.8 MB/s) - ‘cc.si.300.vec.gz’ saved [481477801/481477801]\n",
            "\n",
            "Loaded 808044 word vectors.\n"
          ]
        }
      ]
    },
    {
      "cell_type": "markdown",
      "source": [
        "7. Create the Embedding Matrix\n",
        "\n",
        "Description:\n",
        "Now we align the FastText word vectors with our dataset vocabulary.\n",
        "For every Sinhala word in our dataset, we check if it exists in FastText and copy its pre-trained vector.\n",
        "If a word is missing, it stays as a zero vector."
      ],
      "metadata": {
        "id": "gY2NiQ-xyIKl"
      }
    },
    {
      "cell_type": "code",
      "source": [
        "embedding_dim = 300\n",
        "word_index = tokenizer.word_index\n",
        "embedding_matrix = np.zeros((len(word_index) + 1, embedding_dim))\n",
        "\n",
        "for word, i in word_index.items():\n",
        "    embedding_vector = embedding_index.get(word)\n",
        "    if embedding_vector is not None:\n",
        "        embedding_matrix[i] = embedding_vector\n"
      ],
      "metadata": {
        "id": "PqmQ7PV0yOer"
      },
      "execution_count": 7,
      "outputs": []
    },
    {
      "cell_type": "markdown",
      "source": [],
      "metadata": {
        "id": "2UQtO5bam_P_"
      }
    },
    {
      "cell_type": "markdown",
      "source": [
        "8. Build the LSTM Model\n",
        "\n",
        "Description:\n",
        "Here we create our LSTM neural network architecture.\n",
        "\n",
        "The Embedding layer uses the FastText Sinhala vectors (not trainable).\n",
        "\n",
        "The LSTM layer captures the sequence pattern of Sinhala words.\n",
        "\n",
        "The Dense layers perform the final classification into the three categories.\n",
        "\n",
        "This model will learn both word meaning and sentence structure."
      ],
      "metadata": {
        "id": "vQ3hoFJxyej8"
      }
    },
    {
      "cell_type": "code",
      "source": [
        "model = Sequential([\n",
        "    Embedding(input_dim=len(word_index) + 1,\n",
        "              output_dim=embedding_dim,\n",
        "              weights=[embedding_matrix],\n",
        "              input_length=MAX_LEN,\n",
        "              trainable=False),  # keep FastText weights fixed\n",
        "    LSTM(128, dropout=0.2, recurrent_dropout=0.2),\n",
        "    Dense(64, activation='relu'),\n",
        "    Dropout(0.5),\n",
        "    Dense(y.shape[1], activation='softmax')  # 3 output classes\n",
        "])\n",
        "\n",
        "# Compile the model\n",
        "model.compile(loss='categorical_crossentropy', optimizer='adam', metrics=['accuracy'])\n",
        "model.summary()\n"
      ],
      "metadata": {
        "colab": {
          "base_uri": "https://localhost:8080/",
          "height": 344
        },
        "id": "tq4UH_YpyoOE",
        "outputId": "071bdd83-0abf-4d6e-d364-87d467e95dd5"
      },
      "execution_count": 8,
      "outputs": [
        {
          "output_type": "stream",
          "name": "stderr",
          "text": [
            "/usr/local/lib/python3.12/dist-packages/keras/src/layers/core/embedding.py:97: UserWarning: Argument `input_length` is deprecated. Just remove it.\n",
            "  warnings.warn(\n"
          ]
        },
        {
          "output_type": "display_data",
          "data": {
            "text/plain": [
              "\u001b[1mModel: \"sequential\"\u001b[0m\n"
            ],
            "text/html": [
              "<pre style=\"white-space:pre;overflow-x:auto;line-height:normal;font-family:Menlo,'DejaVu Sans Mono',consolas,'Courier New',monospace\"><span style=\"font-weight: bold\">Model: \"sequential\"</span>\n",
              "</pre>\n"
            ]
          },
          "metadata": {}
        },
        {
          "output_type": "display_data",
          "data": {
            "text/plain": [
              "┏━━━━━━━━━━━━━━━━━━━━━━━━━━━━━━━━━┳━━━━━━━━━━━━━━━━━━━━━━━━┳━━━━━━━━━━━━━━━┓\n",
              "┃\u001b[1m \u001b[0m\u001b[1mLayer (type)                   \u001b[0m\u001b[1m \u001b[0m┃\u001b[1m \u001b[0m\u001b[1mOutput Shape          \u001b[0m\u001b[1m \u001b[0m┃\u001b[1m \u001b[0m\u001b[1m      Param #\u001b[0m\u001b[1m \u001b[0m┃\n",
              "┡━━━━━━━━━━━━━━━━━━━━━━━━━━━━━━━━━╇━━━━━━━━━━━━━━━━━━━━━━━━╇━━━━━━━━━━━━━━━┩\n",
              "│ embedding (\u001b[38;5;33mEmbedding\u001b[0m)           │ ?                      │     \u001b[38;5;34m6,220,800\u001b[0m │\n",
              "├─────────────────────────────────┼────────────────────────┼───────────────┤\n",
              "│ lstm (\u001b[38;5;33mLSTM\u001b[0m)                     │ ?                      │   \u001b[38;5;34m0\u001b[0m (unbuilt) │\n",
              "├─────────────────────────────────┼────────────────────────┼───────────────┤\n",
              "│ dense (\u001b[38;5;33mDense\u001b[0m)                   │ ?                      │   \u001b[38;5;34m0\u001b[0m (unbuilt) │\n",
              "├─────────────────────────────────┼────────────────────────┼───────────────┤\n",
              "│ dropout (\u001b[38;5;33mDropout\u001b[0m)               │ ?                      │             \u001b[38;5;34m0\u001b[0m │\n",
              "├─────────────────────────────────┼────────────────────────┼───────────────┤\n",
              "│ dense_1 (\u001b[38;5;33mDense\u001b[0m)                 │ ?                      │   \u001b[38;5;34m0\u001b[0m (unbuilt) │\n",
              "└─────────────────────────────────┴────────────────────────┴───────────────┘\n"
            ],
            "text/html": [
              "<pre style=\"white-space:pre;overflow-x:auto;line-height:normal;font-family:Menlo,'DejaVu Sans Mono',consolas,'Courier New',monospace\">┏━━━━━━━━━━━━━━━━━━━━━━━━━━━━━━━━━┳━━━━━━━━━━━━━━━━━━━━━━━━┳━━━━━━━━━━━━━━━┓\n",
              "┃<span style=\"font-weight: bold\"> Layer (type)                    </span>┃<span style=\"font-weight: bold\"> Output Shape           </span>┃<span style=\"font-weight: bold\">       Param # </span>┃\n",
              "┡━━━━━━━━━━━━━━━━━━━━━━━━━━━━━━━━━╇━━━━━━━━━━━━━━━━━━━━━━━━╇━━━━━━━━━━━━━━━┩\n",
              "│ embedding (<span style=\"color: #0087ff; text-decoration-color: #0087ff\">Embedding</span>)           │ ?                      │     <span style=\"color: #00af00; text-decoration-color: #00af00\">6,220,800</span> │\n",
              "├─────────────────────────────────┼────────────────────────┼───────────────┤\n",
              "│ lstm (<span style=\"color: #0087ff; text-decoration-color: #0087ff\">LSTM</span>)                     │ ?                      │   <span style=\"color: #00af00; text-decoration-color: #00af00\">0</span> (unbuilt) │\n",
              "├─────────────────────────────────┼────────────────────────┼───────────────┤\n",
              "│ dense (<span style=\"color: #0087ff; text-decoration-color: #0087ff\">Dense</span>)                   │ ?                      │   <span style=\"color: #00af00; text-decoration-color: #00af00\">0</span> (unbuilt) │\n",
              "├─────────────────────────────────┼────────────────────────┼───────────────┤\n",
              "│ dropout (<span style=\"color: #0087ff; text-decoration-color: #0087ff\">Dropout</span>)               │ ?                      │             <span style=\"color: #00af00; text-decoration-color: #00af00\">0</span> │\n",
              "├─────────────────────────────────┼────────────────────────┼───────────────┤\n",
              "│ dense_1 (<span style=\"color: #0087ff; text-decoration-color: #0087ff\">Dense</span>)                 │ ?                      │   <span style=\"color: #00af00; text-decoration-color: #00af00\">0</span> (unbuilt) │\n",
              "└─────────────────────────────────┴────────────────────────┴───────────────┘\n",
              "</pre>\n"
            ]
          },
          "metadata": {}
        },
        {
          "output_type": "display_data",
          "data": {
            "text/plain": [
              "\u001b[1m Total params: \u001b[0m\u001b[38;5;34m6,220,800\u001b[0m (23.73 MB)\n"
            ],
            "text/html": [
              "<pre style=\"white-space:pre;overflow-x:auto;line-height:normal;font-family:Menlo,'DejaVu Sans Mono',consolas,'Courier New',monospace\"><span style=\"font-weight: bold\"> Total params: </span><span style=\"color: #00af00; text-decoration-color: #00af00\">6,220,800</span> (23.73 MB)\n",
              "</pre>\n"
            ]
          },
          "metadata": {}
        },
        {
          "output_type": "display_data",
          "data": {
            "text/plain": [
              "\u001b[1m Trainable params: \u001b[0m\u001b[38;5;34m0\u001b[0m (0.00 B)\n"
            ],
            "text/html": [
              "<pre style=\"white-space:pre;overflow-x:auto;line-height:normal;font-family:Menlo,'DejaVu Sans Mono',consolas,'Courier New',monospace\"><span style=\"font-weight: bold\"> Trainable params: </span><span style=\"color: #00af00; text-decoration-color: #00af00\">0</span> (0.00 B)\n",
              "</pre>\n"
            ]
          },
          "metadata": {}
        },
        {
          "output_type": "display_data",
          "data": {
            "text/plain": [
              "\u001b[1m Non-trainable params: \u001b[0m\u001b[38;5;34m6,220,800\u001b[0m (23.73 MB)\n"
            ],
            "text/html": [
              "<pre style=\"white-space:pre;overflow-x:auto;line-height:normal;font-family:Menlo,'DejaVu Sans Mono',consolas,'Courier New',monospace\"><span style=\"font-weight: bold\"> Non-trainable params: </span><span style=\"color: #00af00; text-decoration-color: #00af00\">6,220,800</span> (23.73 MB)\n",
              "</pre>\n"
            ]
          },
          "metadata": {}
        }
      ]
    },
    {
      "cell_type": "markdown",
      "source": [
        "9. Train the Model\n",
        "\n",
        "Description:\n",
        "We split the dataset into training (80%) and testing (20%) sets.\n",
        "Then, we train the LSTM model using categorical cross-entropy loss and Adam optimizer.\n",
        "Training teaches the model how to classify Sinhala news headlines correctly."
      ],
      "metadata": {
        "id": "-bFQDFhGyurU"
      }
    },
    {
      "cell_type": "code",
      "source": [
        "# Split data into training and testing sets\n",
        "X_train, X_test, y_train, y_test = train_test_split(X, y, test_size=0.2, random_state=42)\n",
        "\n",
        "# Train the model\n",
        "history = model.fit(\n",
        "    X_train, y_train,\n",
        "    epochs=5,\n",
        "    batch_size=128,\n",
        "    validation_data=(X_test, y_test),\n",
        "    verbose=1\n",
        ")\n"
      ],
      "metadata": {
        "colab": {
          "base_uri": "https://localhost:8080/"
        },
        "id": "crPJf1V9yzqn",
        "outputId": "1d4b1af7-875d-4e2d-ca7d-a76e7d0ed085"
      },
      "execution_count": 9,
      "outputs": [
        {
          "output_type": "stream",
          "name": "stdout",
          "text": [
            "Epoch 1/5\n",
            "\u001b[1m166/166\u001b[0m \u001b[32m━━━━━━━━━━━━━━━━━━━━\u001b[0m\u001b[37m\u001b[0m \u001b[1m30s\u001b[0m 152ms/step - accuracy: 0.6997 - loss: 0.6728 - val_accuracy: 0.9122 - val_loss: 0.2457\n",
            "Epoch 2/5\n",
            "\u001b[1m166/166\u001b[0m \u001b[32m━━━━━━━━━━━━━━━━━━━━\u001b[0m\u001b[37m\u001b[0m \u001b[1m24s\u001b[0m 146ms/step - accuracy: 0.8910 - loss: 0.3149 - val_accuracy: 0.9120 - val_loss: 0.2371\n",
            "Epoch 3/5\n",
            "\u001b[1m166/166\u001b[0m \u001b[32m━━━━━━━━━━━━━━━━━━━━\u001b[0m\u001b[37m\u001b[0m \u001b[1m22s\u001b[0m 133ms/step - accuracy: 0.8999 - loss: 0.2980 - val_accuracy: 0.9109 - val_loss: 0.2398\n",
            "Epoch 4/5\n",
            "\u001b[1m166/166\u001b[0m \u001b[32m━━━━━━━━━━━━━━━━━━━━\u001b[0m\u001b[37m\u001b[0m \u001b[1m26s\u001b[0m 156ms/step - accuracy: 0.8990 - loss: 0.2880 - val_accuracy: 0.9084 - val_loss: 0.2413\n",
            "Epoch 5/5\n",
            "\u001b[1m166/166\u001b[0m \u001b[32m━━━━━━━━━━━━━━━━━━━━\u001b[0m\u001b[37m\u001b[0m \u001b[1m39s\u001b[0m 143ms/step - accuracy: 0.9014 - loss: 0.2784 - val_accuracy: 0.9148 - val_loss: 0.2299\n"
          ]
        }
      ]
    },
    {
      "cell_type": "markdown",
      "source": [
        "10. Evaluate Model and Visualize Performance\n",
        "\n",
        "Description:\n",
        "After training, we test the model using unseen data.\n",
        "We will measure accuracy, generate a classification report, and visualize the confusion matrix to understand how well the model performs on each category."
      ],
      "metadata": {
        "id": "U3SY_99dzfaF"
      }
    },
    {
      "cell_type": "code",
      "source": [
        "# Evaluate model performance\n",
        "loss, accuracy = model.evaluate(X_test, y_test, verbose=0)\n",
        "print(f\"Test Accuracy: {accuracy:.2f}\")\n",
        "\n",
        "# Predict labels for test data\n",
        "y_pred = model.predict(X_test)\n",
        "y_pred_classes = np.argmax(y_pred, axis=1)\n",
        "y_true = np.argmax(y_test, axis=1)\n",
        "\n",
        "# Print classification report\n",
        "print(classification_report(y_true, y_pred_classes, target_names=le.classes_))\n",
        "\n",
        "# Plot confusion matrix\n",
        "cm = confusion_matrix(y_true, y_pred_classes)\n",
        "sns.heatmap(cm, annot=True, fmt='d', xticklabels=le.classes_, yticklabels=le.classes_)\n",
        "plt.title('Confusion Matrix')\n",
        "plt.xlabel('Predicted')\n",
        "plt.ylabel('Actual')\n",
        "plt.show()\n"
      ],
      "metadata": {
        "colab": {
          "base_uri": "https://localhost:8080/",
          "height": 680
        },
        "id": "N6qGBI5azjQk",
        "outputId": "c34e95ed-4e6f-4c00-f35e-4ec6265b3cd6"
      },
      "execution_count": 10,
      "outputs": [
        {
          "output_type": "stream",
          "name": "stdout",
          "text": [
            "Test Accuracy: 0.91\n",
            "\u001b[1m166/166\u001b[0m \u001b[32m━━━━━━━━━━━━━━━━━━━━\u001b[0m\u001b[37m\u001b[0m \u001b[1m4s\u001b[0m 20ms/step\n",
            "               precision    recall  f1-score   support\n",
            "\n",
            "     Business       0.91      0.87      0.89      1067\n",
            "International       0.90      0.94      0.92      2408\n",
            "        Sport       0.94      0.91      0.93      1809\n",
            "\n",
            "     accuracy                           0.91      5284\n",
            "    macro avg       0.92      0.91      0.91      5284\n",
            " weighted avg       0.92      0.91      0.91      5284\n",
            "\n"
          ]
        },
        {
          "output_type": "display_data",
          "data": {
            "text/plain": [
              "<Figure size 640x480 with 2 Axes>"
            ],
            "image/png": "[encoded data removed]"
          },
          "metadata": {}
        }
      ]
    },
    {
      "cell_type": "markdown",
      "source": [
        "Visualize the training progress\n"
      ],
      "metadata": {
        "id": "P1LfIoFDz2H0"
      }
    },
    {
      "cell_type": "code",
      "source": [
        "# Visualize accuracy and loss over epochs\n",
        "plt.figure(figsize=(10,4))\n",
        "plt.plot(history.history['accuracy'], label='Train Accuracy')\n",
        "plt.plot(history.history['val_accuracy'], label='Validation Accuracy')\n",
        "plt.title('Model Accuracy')\n",
        "plt.xlabel('Epoch')\n",
        "plt.ylabel('Accuracy')\n",
        "plt.legend()\n",
        "plt.show()\n",
        "\n",
        "plt.figure(figsize=(10,4))\n",
        "plt.plot(history.history['loss'], label='Train Loss')\n",
        "plt.plot(history.history['val_loss'], label='Validation Loss')\n",
        "plt.title('Model Loss')\n",
        "plt.xlabel('Epoch')\n",
        "plt.ylabel('Loss')\n",
        "plt.legend()\n",
        "plt.show()\n"
      ],
      "metadata": {
        "colab": {
          "base_uri": "https://localhost:8080/",
          "height": 803
        },
        "id": "2X6pOXz1z6hH",
        "outputId": "188fdbe7-9835-4546-b618-5c54e6a4ebbb"
      },
      "execution_count": 11,
      "outputs": [
        {
          "output_type": "display_data",
          "data": {
            "text/plain": [
              "<Figure size 1000x400 with 1 Axes>"
            ],
            "image/png": "[encoded data removed]"
          },
          "metadata": {}
        },
        {
          "output_type": "display_data",
          "data": {
            "text/plain": [
              "<Figure size 1000x400 with 1 Axes>"
            ],
            "image/png": "[encoded data removed]"
          },
          "metadata": {}
        }
      ]
    },
    {
      "cell_type": "markdown",
      "source": [
        "12. Test the Model with Unseen Sinhala Headlines\n",
        "\n",
        "Description:\n",
        "Here we manually test the trained LSTM model with Sinhala news titles that were not part of the dataset.\n",
        "You can change these headlines and re-run this cell to see how the model predicts new results."
      ],
      "metadata": {
        "id": "Iq_JZIXu0DA6"
      }
    },
    {
      "cell_type": "code",
      "source": [
        "# ---- 🟨 Add your own Sinhala titles here for testing ----\n",
        "new_titles = [\n",
        "    \"ලංකා තෙල් මිල ඉහළ යයි\",                # Likely Business\n",
        "    \"ශ්‍රී ලංකාව ක්‍රිකට් තරගය ජය ගනී\",    # Likely Sport\n",
        "    \"ඇමරිකානු ජනපති කතාබස් කිරීමක් කළා\"  # Likely International\n",
        "]\n",
        "\n",
        "# Clean and preprocess input\n",
        "new_titles_cleaned = [clean_text(t) for t in new_titles]\n",
        "new_seq = tokenizer.texts_to_sequences(new_titles_cleaned)\n",
        "new_pad = pad_sequences(new_seq, maxlen=MAX_LEN, padding='post')\n",
        "\n",
        "# Predict category\n",
        "predictions = model.predict(new_pad)\n",
        "predicted_classes = np.argmax(predictions, axis=1)\n",
        "\n",
        "# Display results\n",
        "for i, title in enumerate(new_titles):\n",
        "    print(f\"📰 Title: {title}\")\n",
        "    print(f\"➡️ Predicted Category: {le.classes_[predicted_classes[i]]}\\n\")\n"
      ],
      "metadata": {
        "colab": {
          "base_uri": "https://localhost:8080/"
        },
        "id": "UDeYdDHU0H5-",
        "outputId": "0c3a61f3-e762-474f-b00a-b0f047ae1e47"
      },
      "execution_count": 12,
      "outputs": [
        {
          "output_type": "stream",
          "name": "stdout",
          "text": [
            "\u001b[1m1/1\u001b[0m \u001b[32m━━━━━━━━━━━━━━━━━━━━\u001b[0m\u001b[37m\u001b[0m \u001b[1m0s\u001b[0m 46ms/step\n",
            "📰 Title: ලංකා තෙල් මිල ඉහළ යයි\n",
            "➡️ Predicted Category: Business\n",
            "\n",
            "📰 Title: ශ්‍රී ලංකාව ක්‍රිකට් තරගය ජය ගනී\n",
            "➡️ Predicted Category: Sport\n",
            "\n",
            "📰 Title: ඇමරිකානු ජනපති කතාබස් කිරීමක් කළා\n",
            "➡️ Predicted Category: International\n",
            "\n"
          ]
        }
      ]
    },
    {
      "cell_type": "markdown",
      "source": [
        "13. Conclusion\n",
        "\n",
        "This Sinhala News Classification model effectively predicts whether a headline belongs to International, Business, or Sport categories.\n",
        "\n",
        "It uses FastText embeddings for Sinhala word understanding.\n",
        "\n",
        "LSTM helps it learn the order and context of words.\n",
        "\n",
        "You can continuously test it with new unseen Sinhala news headlines to verify its performance."
      ],
      "metadata": {
        "id": "0E0mf_J30sPw"
      }
    }
  ]
}