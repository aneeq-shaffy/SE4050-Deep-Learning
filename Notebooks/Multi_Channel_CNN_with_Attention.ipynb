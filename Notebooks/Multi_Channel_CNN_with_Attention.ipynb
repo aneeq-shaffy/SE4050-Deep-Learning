{
  "nbformat": 4,
  "nbformat_minor": 0,
  "metadata": {
    "colab": {
      "provenance": [],
      "gpuType": "T4"
    },
    "kernelspec": {
      "name": "python3",
      "display_name": "Python 3"
    },
    "language_info": {
      "name": "python"
    },
    "accelerator": "GPU"
  },
  "cells": [
    {
      "cell_type": "markdown",
      "source": [
        "# Multi-Channel CNN with Attention"
      ],
      "metadata": {
        "id": "SSjlEe3x3Eeh"
      }
    },
    {
      "cell_type": "code",
      "source": [
        "!git clone https://github.com/aneeq-shaffy/SE4050-Deep-Learning.git"
      ],
      "metadata": {
        "colab": {
          "base_uri": "https://localhost:8080/"
        },
        "id": "wlIPzXcE3FJx",
        "outputId": "72ac50ee-177c-42cc-c465-087649c93753"
      },
      "execution_count": 34,
      "outputs": [
        {
          "output_type": "stream",
          "name": "stdout",
          "text": [
            "fatal: destination path 'SE4050-Deep-Learning' already exists and is not an empty directory.\n"
          ]
        }
      ]
    },
    {
      "cell_type": "markdown",
      "source": [
        "Install Required Libraries"
      ],
      "metadata": {
        "id": "SYPb0iPmAsIp"
      }
    },
    {
      "cell_type": "code",
      "source": [
        "!pip install tensorflow keras pandas scikit-learn -q\n",
        "\n",
        "import pandas as pd\n",
        "import numpy as np\n",
        "import pickle\n",
        "from sklearn.model_selection import train_test_split\n",
        "from sklearn.metrics import classification_report, accuracy_score, confusion_matrix\n",
        "\n",
        "import tensorflow as tf\n",
        "from tensorflow import keras\n",
        "from tensorflow.keras import layers, models, backend as K\n",
        "from tensorflow.keras.preprocessing.text import Tokenizer\n",
        "from tensorflow.keras.preprocessing.sequence import pad_sequences\n",
        "from tensorflow.keras.callbacks import EarlyStopping, ModelCheckpoint, ReduceLROnPlateau\n",
        "\n",
        "import matplotlib.pyplot as plt\n",
        "import seaborn as sns\n",
        "\n",
        "print(f\"TensorFlow version: {tf.__version__}\")\n",
        "print(f\"GPU Available: {tf.config.list_physical_devices('GPU')}\")\n",
        "\n"
      ],
      "metadata": {
        "colab": {
          "base_uri": "https://localhost:8080/"
        },
        "id": "xB5Nvfd4AtlF",
        "outputId": "21fb4b07-1781-4086-8b29-c1ea503498a6"
      },
      "execution_count": 72,
      "outputs": [
        {
          "output_type": "stream",
          "name": "stdout",
          "text": [
            "TensorFlow version: 2.19.0\n",
            "GPU Available: [PhysicalDevice(name='/physical_device:GPU:0', device_type='GPU')]\n"
          ]
        }
      ]
    },
    {
      "cell_type": "markdown",
      "source": [
        "Load and Explore Data"
      ],
      "metadata": {
        "id": "-itB0n8nBDFc"
      }
    },
    {
      "cell_type": "code",
      "source": [
        "# Load data\n",
        "df = pd.read_csv('/content/SE4050-Deep-Learning/Dataset/processed/news_preprocessed.csv')\n",
        "\n",
        "print(f\"Dataset shape: {df.shape}\")\n",
        "print(f\"\\nColumns: {df.columns.tolist()}\")\n",
        "print(f\"\\nFirst few rows:\")\n",
        "print(df.head())\n",
        "\n",
        "print(f\"\\nUnique categories: {df['category'].nunique()}\")\n",
        "print(f\"\\nLabel distribution:\")\n",
        "print(df['label'].value_counts().sort_index())\n",
        "\n",
        "# Check text lengths\n",
        "df['text_length'] = df['text'].apply(lambda x: len(str(x).split()))\n",
        "print(f\"\\nText length statistics:\")\n",
        "print(df['text_length'].describe())\n",
        "\n",
        "plt.figure(figsize=(10, 4))\n",
        "plt.hist(df['text_length'], bins=50, edgecolor='black')\n",
        "plt.xlabel('Number of Words')\n",
        "plt.ylabel('Frequency')\n",
        "plt.title('Distribution of Text Lengths')\n",
        "plt.show()\n"
      ],
      "metadata": {
        "colab": {
          "base_uri": "https://localhost:8080/",
          "height": 1000
        },
        "id": "R77a7GleA50f",
        "outputId": "b562acb3-c6e1-427a-ce3c-34eba8e0050e"
      },
      "execution_count": 73,
      "outputs": [
        {
          "output_type": "stream",
          "name": "stdout",
          "text": [
            "Dataset shape: (30000, 3)\n",
            "\n",
            "Columns: ['text', 'category', 'label']\n",
            "\n",
            "First few rows:\n",
            "                                                text       category  label\n",
            "0  ethan hawke julie delpy pick left midnight eth...  ENTERTAINMENT      3\n",
            "1  tom cruise forced choose scientology suri tom ...  ENTERTAINMENT      3\n",
            "2  would pay wine beer glass made cheese heart me...  ENTERTAINMENT      3\n",
            "3                    tyga denies dating kylie jenner  ENTERTAINMENT      3\n",
            "4  review laughfest subversively family friendly ...  ENTERTAINMENT      3\n",
            "\n",
            "Unique categories: 15\n",
            "\n",
            "Label distribution:\n",
            "label\n",
            "0     2000\n",
            "1     2000\n",
            "2     2000\n",
            "3     2000\n",
            "4     2000\n",
            "5     2000\n",
            "6     2000\n",
            "7     2000\n",
            "8     2000\n",
            "9     2000\n",
            "10    2000\n",
            "11    2000\n",
            "12    2000\n",
            "13    2000\n",
            "14    2000\n",
            "Name: count, dtype: int64\n",
            "\n",
            "Text length statistics:\n",
            "count    30000.000000\n",
            "mean        17.633600\n",
            "std          7.196968\n",
            "min          5.000000\n",
            "25%         13.000000\n",
            "50%         17.000000\n",
            "75%         22.000000\n",
            "max        108.000000\n",
            "Name: text_length, dtype: float64\n"
          ]
        },
        {
          "output_type": "display_data",
          "data": {
            "text/plain": [
              "<Figure size 1000x400 with 1 Axes>"
            ],
            "image/png": "[encoded data removed]"
          },
          "metadata": {}
        }
      ]
    },
    {
      "cell_type": "markdown",
      "source": [
        "Prepare Data"
      ],
      "metadata": {
        "id": "hAsQlQaUBOaI"
      }
    },
    {
      "cell_type": "code",
      "source": [
        "# Parameters\n",
        "MAX_WORDS = 10000        # Vocabulary size\n",
        "MAX_SEQUENCE_LENGTH = 200  # Max number of words per text\n",
        "EMBEDDING_DIM = 128      # Word embedding dimension\n",
        "\n",
        "# Load data splits from pickle file\n",
        "try:\n",
        "    with open('/content/SE4050-Deep-Learning/Dataset/processed/data_splits.pkl', 'rb') as f:\n",
        "        data_splits = pickle.load(f)\n",
        "\n",
        "    X_train = data_splits['X_train']\n",
        "    X_val = data_splits['X_val']\n",
        "    X_test = data_splits['X_test']\n",
        "    y_train = data_splits['y_train']\n",
        "    y_val = data_splits['y_val']\n",
        "    y_test = data_splits['y_test']\n",
        "\n",
        "    print(\"✅ Loaded data splits from 'data_splits.pkl'\")\n",
        "\n",
        "    # Define labels from the loaded splits\n",
        "    labels = np.concatenate([y_train, y_val, y_test])\n",
        "\n",
        "\n",
        "except FileNotFoundError:\n",
        "    print(\"⚠️ 'data_splits.pkl' not found. Splitting data from dataframe instead.\")\n",
        "    # Prepare texts and labels\n",
        "    texts = df['text'].astype(str).tolist()\n",
        "    labels = df['label'].values\n",
        "\n",
        "    # Split data\n",
        "    X_train, X_temp, y_train, y_temp = train_test_split(\n",
        "        texts, labels,\n",
        "        test_size=0.2,\n",
        "        random_state=42,\n",
        "        stratify=labels\n",
        "    )\n",
        "\n",
        "    X_val, X_test, y_val, y_test = train_test_split(\n",
        "        X_temp, y_temp,\n",
        "        test_size=0.5,\n",
        "        random_state=42,\n",
        "        stratify=y_temp\n",
        "    )\n",
        "\n",
        "print(f\"Training samples: {len(X_train)}\")\n",
        "print(f\"Validation samples: {len(X_val)}\")\n",
        "print(f\"Test samples: {len(X_test)}\")"
      ],
      "metadata": {
        "colab": {
          "base_uri": "https://localhost:8080/"
        },
        "id": "O3l4U33-BJ8V",
        "outputId": "607d2799-fd91-4d28-c431-a27af14ee77e"
      },
      "execution_count": 74,
      "outputs": [
        {
          "output_type": "stream",
          "name": "stdout",
          "text": [
            "✅ Loaded data splits from 'data_splits.pkl'\n",
            "Training samples: 21000\n",
            "Validation samples: 4500\n",
            "Test samples: 4500\n"
          ]
        }
      ]
    },
    {
      "cell_type": "markdown",
      "source": [
        "Tokenization and Padding"
      ],
      "metadata": {
        "id": "JNckjMspBlMA"
      }
    },
    {
      "cell_type": "code",
      "source": [
        "# Create tokenizer\n",
        "tokenizer = Tokenizer(num_words=MAX_WORDS, oov_token='<OOV>')\n",
        "tokenizer.fit_on_texts(X_train)\n",
        "\n",
        "# Convert texts to sequences\n",
        "X_train_seq = tokenizer.texts_to_sequences(X_train)\n",
        "X_val_seq = tokenizer.texts_to_sequences(X_val)\n",
        "X_test_seq = tokenizer.texts_to_sequences(X_test)\n",
        "\n",
        "# Pad sequences\n",
        "X_train_pad = pad_sequences(X_train_seq, maxlen=MAX_SEQUENCE_LENGTH, padding='post', truncating='post')\n",
        "X_val_pad = pad_sequences(X_val_seq, maxlen=MAX_SEQUENCE_LENGTH, padding='post', truncating='post')\n",
        "X_test_pad = pad_sequences(X_test_seq, maxlen=MAX_SEQUENCE_LENGTH, padding='post', truncating='post')\n",
        "\n",
        "print(f\"Vocabulary size: {len(tokenizer.word_index)}\")\n",
        "print(f\"Training data shape: {X_train_pad.shape}\")\n",
        "\n",
        "# Get number of classes\n",
        "num_classes = len(np.unique(labels))\n",
        "print(f\"Number of classes: {num_classes}\")\n",
        "\n"
      ],
      "metadata": {
        "colab": {
          "base_uri": "https://localhost:8080/"
        },
        "id": "l07ZCdmKBioK",
        "outputId": "f8547f0b-96e7-4965-ca7e-0a76df677e2c"
      },
      "execution_count": 75,
      "outputs": [
        {
          "output_type": "stream",
          "name": "stdout",
          "text": [
            "Vocabulary size: 29124\n",
            "Training data shape: (21000, 200)\n",
            "Number of classes: 15\n"
          ]
        }
      ]
    },
    {
      "cell_type": "markdown",
      "source": [
        "Build Custom Attention Layer"
      ],
      "metadata": {
        "id": "N0vZ_5omBswk"
      }
    },
    {
      "cell_type": "code",
      "source": [
        "import tensorflow as tf\n",
        "from tensorflow import keras\n",
        "from tensorflow.keras import layers, models, backend as K\n",
        "\n",
        "class AttentionLayer(layers.Layer):\n",
        "    \"\"\"\n",
        "    Custom Attention Layer\n",
        "    Learns to focus on important parts of the text\n",
        "    \"\"\"\n",
        "    def __init__(self, **kwargs):\n",
        "        super(AttentionLayer, self).__init__(**kwargs)\n",
        "\n",
        "    def build(self, input_shape):\n",
        "        # Attention weight matrix\n",
        "        self.W = self.add_weight(\n",
        "            name='attention_weight',\n",
        "            shape=(input_shape[-1], input_shape[-1]),\n",
        "            initializer='glorot_uniform',\n",
        "            trainable=True\n",
        "        )\n",
        "        # Attention bias\n",
        "        self.b = self.add_weight(\n",
        "            name='attention_bias',\n",
        "            shape=(input_shape[-1],),\n",
        "            initializer='zeros',\n",
        "            trainable=True\n",
        "        )\n",
        "        # Attention vector\n",
        "        self.u = self.add_weight(\n",
        "            name='attention_vector',\n",
        "            shape=(input_shape[-1],),\n",
        "            initializer='glorot_uniform',\n",
        "            trainable=True\n",
        "        )\n",
        "        super(AttentionLayer, self).build(input_shape)\n",
        "\n",
        "    def call(self, x):\n",
        "        # x shape: (batch_size, time_steps, features)\n",
        "\n",
        "        # Compute attention scores\n",
        "        uit = K.tanh(K.dot(x, self.W) + self.b)  # (batch_size, time_steps, features)\n",
        "\n",
        "        # Calculate attention scores by multiplying uit with the attention vector u\n",
        "        # This is equivalent to a dot product with a transposed u if u was a column vector,\n",
        "        # but K.dot(uit, self.u) does not work as expected with 3D and 1D tensors.\n",
        "        # A common way to implement this is element-wise multiplication and sum.\n",
        "\n",
        "        # Expand dimensions of self.u to (1, 1, features) for broadcasting\n",
        "        u_expanded = K.expand_dims(K.expand_dims(self.u, axis=0), axis=0) # Shape (1, 1, features)\n",
        "        # Element-wise multiplication\n",
        "        weighted_uit = uit * u_expanded # Shape (batch_size, time_steps, features)\n",
        "        # Sum over the last dimension to get attention scores\n",
        "        ait = K.sum(weighted_uit, axis=-1) # Shape (batch_size, time_steps)\n",
        "\n",
        "\n",
        "        # Apply softmax to get attention weights\n",
        "        attention_weights = K.softmax(ait, axis=1)  # (batch_size, time_steps)\n",
        "        attention_weights = K.expand_dims(attention_weights, axis=-1)  # (batch_size, time_steps, 1)\n",
        "\n",
        "        # Apply attention weights to input\n",
        "        weighted_input = x * attention_weights  # (batch_size, time_steps, features)\n",
        "\n",
        "        # Sum over time steps\n",
        "        output = K.sum(weighted_input, axis=1)  # (batch_size, features)\n",
        "\n",
        "        return output\n",
        "\n",
        "    def compute_output_shape(self, input_shape):\n",
        "        return (input_shape[0], input_shape[-1])\n",
        "\n",
        "    def get_config(self):\n",
        "        config = super(AttentionLayer, self).get_config()\n",
        "        return config"
      ],
      "metadata": {
        "id": "VYYUskRBBqIF"
      },
      "execution_count": 76,
      "outputs": []
    },
    {
      "cell_type": "markdown",
      "source": [
        "Build Multi-Channel CNN with Attention"
      ],
      "metadata": {
        "id": "MdDGtBa7B2Fc"
      }
    },
    {
      "cell_type": "code",
      "source": [
        "def build_multichannel_cnn_with_attention(vocab_size, embedding_dim, max_length, num_classes):\n",
        "    \"\"\"\n",
        "    Multi-Channel CNN with Attention Architecture:\n",
        "    - Embedding layer\n",
        "    - Multiple parallel CNN channels with different filter sizes\n",
        "    - Attention mechanism on CNN outputs\n",
        "    - Dense layers for classification\n",
        "    \"\"\"\n",
        "\n",
        "    # Input\n",
        "    input_layer = layers.Input(shape=(max_length,), name='input')\n",
        "\n",
        "    # Embedding layer\n",
        "    embedding = layers.Embedding(\n",
        "        input_dim=vocab_size,\n",
        "        output_dim=embedding_dim,\n",
        "        input_length=max_length,\n",
        "        name='embedding'\n",
        "    )(input_layer)\n",
        "\n",
        "    # Dropout after embedding\n",
        "    embedding = layers.Dropout(0.3, name='embedding_dropout')(embedding)\n",
        "\n",
        "    # ============= MULTI-CHANNEL CNN =============\n",
        "    # Different kernel sizes capture different n-gram patterns\n",
        "\n",
        "    conv_outputs = []\n",
        "    filter_sizes = [2, 3, 4, 5]  # Different n-gram sizes\n",
        "    num_filters = 128\n",
        "\n",
        "    for i, filter_size in enumerate(filter_sizes):\n",
        "        # Convolutional layer\n",
        "        conv = layers.Conv1D(\n",
        "            filters=num_filters,\n",
        "            kernel_size=filter_size,\n",
        "            activation='relu',\n",
        "            padding='same',\n",
        "            name=f'conv_{filter_size}'\n",
        "        )(embedding)\n",
        "\n",
        "        # Batch normalization\n",
        "        conv = layers.BatchNormalization(name=f'bn_{filter_size}')(conv)\n",
        "\n",
        "        # Apply attention to this channel\n",
        "        attention_output = AttentionLayer(name=f'attention_{filter_size}')(conv)\n",
        "\n",
        "        conv_outputs.append(attention_output)\n",
        "\n",
        "    # Concatenate all channels\n",
        "    merged = layers.Concatenate(name='concat')(conv_outputs)\n",
        "\n",
        "    # ============= DENSE LAYERS =============\n",
        "\n",
        "    # First dense layer\n",
        "    dense1 = layers.Dense(512, activation='relu', name='dense1')(merged)\n",
        "    dense1 = layers.BatchNormalization(name='bn_dense1')(dense1)\n",
        "    dense1 = layers.Dropout(0.5, name='dropout1')(dense1)\n",
        "\n",
        "    # Second dense layer\n",
        "    dense2 = layers.Dense(256, activation='relu', name='dense2')(dense1)\n",
        "    dense2 = layers.BatchNormalization(name='bn_dense2')(dense2)\n",
        "    dense2 = layers.Dropout(0.4, name='dropout2')(dense2)\n",
        "\n",
        "    # Third dense layer\n",
        "    dense3 = layers.Dense(128, activation='relu', name='dense3')(dense2)\n",
        "    dense3 = layers.Dropout(0.3, name='dropout3')(dense3)\n",
        "\n",
        "    # Output layer\n",
        "    output = layers.Dense(num_classes, activation='softmax', name='output')(dense3)\n",
        "\n",
        "    # Create model\n",
        "    model = models.Model(inputs=input_layer, outputs=output, name='MultiChannel_CNN_Attention')\n",
        "\n",
        "    return model\n",
        "\n",
        "# Build the model\n",
        "model = build_multichannel_cnn_with_attention(\n",
        "    vocab_size=MAX_WORDS,\n",
        "    embedding_dim=EMBEDDING_DIM,\n",
        "    max_length=MAX_SEQUENCE_LENGTH,\n",
        "    num_classes=num_classes\n",
        ")\n",
        "\n",
        "# Display model architecture\n",
        "model.summary()\n",
        "\n",
        "# Visualize model architecture (optional)\n",
        "try:\n",
        "    keras.utils.plot_model(\n",
        "        model,\n",
        "        to_file='model_architecture.png',\n",
        "        show_shapes=True,\n",
        "        show_layer_names=True,\n",
        "        rankdir='TB',\n",
        "        dpi=96\n",
        "    )\n",
        "    print(\"✅ Model architecture saved as 'model_architecture.png'\")\n",
        "except:\n",
        "    print(\"⚠️ Could not generate model visualization\")\n"
      ],
      "metadata": {
        "colab": {
          "base_uri": "https://localhost:8080/",
          "height": 1000
        },
        "id": "0fau7gj6B4s1",
        "outputId": "22c787e6-1961-435c-b094-b4826dbf7a39"
      },
      "execution_count": 77,
      "outputs": [
        {
          "output_type": "stream",
          "name": "stderr",
          "text": [
            "/usr/local/lib/python3.12/dist-packages/keras/src/layers/core/embedding.py:97: UserWarning: Argument `input_length` is deprecated. Just remove it.\n",
            "  warnings.warn(\n"
          ]
        },
        {
          "output_type": "display_data",
          "data": {
            "text/plain": [
              "\u001b[1mModel: \"MultiChannel_CNN_Attention\"\u001b[0m\n"
            ],
            "text/html": [
              "<pre style=\"white-space:pre;overflow-x:auto;line-height:normal;font-family:Menlo,'DejaVu Sans Mono',consolas,'Courier New',monospace\"><span style=\"font-weight: bold\">Model: \"MultiChannel_CNN_Attention\"</span>\n",
              "</pre>\n"
            ]
          },
          "metadata": {}
        },
        {
          "output_type": "display_data",
          "data": {
            "text/plain": [
              "┏━━━━━━━━━━━━━━━━━━━━━┳━━━━━━━━━━━━━━━━━━━┳━━━━━━━━━━━━┳━━━━━━━━━━━━━━━━━━━┓\n",
              "┃\u001b[1m \u001b[0m\u001b[1mLayer (type)       \u001b[0m\u001b[1m \u001b[0m┃\u001b[1m \u001b[0m\u001b[1mOutput Shape     \u001b[0m\u001b[1m \u001b[0m┃\u001b[1m \u001b[0m\u001b[1m   Param #\u001b[0m\u001b[1m \u001b[0m┃\u001b[1m \u001b[0m\u001b[1mConnected to     \u001b[0m\u001b[1m \u001b[0m┃\n",
              "┡━━━━━━━━━━━━━━━━━━━━━╇━━━━━━━━━━━━━━━━━━━╇━━━━━━━━━━━━╇━━━━━━━━━━━━━━━━━━━┩\n",
              "│ input (\u001b[38;5;33mInputLayer\u001b[0m)  │ (\u001b[38;5;45mNone\u001b[0m, \u001b[38;5;34m200\u001b[0m)       │          \u001b[38;5;34m0\u001b[0m │ -                 │\n",
              "├─────────────────────┼───────────────────┼────────────┼───────────────────┤\n",
              "│ embedding           │ (\u001b[38;5;45mNone\u001b[0m, \u001b[38;5;34m200\u001b[0m, \u001b[38;5;34m128\u001b[0m)  │  \u001b[38;5;34m1,280,000\u001b[0m │ input[\u001b[38;5;34m0\u001b[0m][\u001b[38;5;34m0\u001b[0m]       │\n",
              "│ (\u001b[38;5;33mEmbedding\u001b[0m)         │                   │            │                   │\n",
              "├─────────────────────┼───────────────────┼────────────┼───────────────────┤\n",
              "│ embedding_dropout   │ (\u001b[38;5;45mNone\u001b[0m, \u001b[38;5;34m200\u001b[0m, \u001b[38;5;34m128\u001b[0m)  │          \u001b[38;5;34m0\u001b[0m │ embedding[\u001b[38;5;34m0\u001b[0m][\u001b[38;5;34m0\u001b[0m]   │\n",
              "│ (\u001b[38;5;33mDropout\u001b[0m)           │                   │            │                   │\n",
              "├─────────────────────┼───────────────────┼────────────┼───────────────────┤\n",
              "│ conv_2 (\u001b[38;5;33mConv1D\u001b[0m)     │ (\u001b[38;5;45mNone\u001b[0m, \u001b[38;5;34m200\u001b[0m, \u001b[38;5;34m128\u001b[0m)  │     \u001b[38;5;34m32,896\u001b[0m │ embedding_dropou… │\n",
              "├─────────────────────┼───────────────────┼────────────┼───────────────────┤\n",
              "│ conv_3 (\u001b[38;5;33mConv1D\u001b[0m)     │ (\u001b[38;5;45mNone\u001b[0m, \u001b[38;5;34m200\u001b[0m, \u001b[38;5;34m128\u001b[0m)  │     \u001b[38;5;34m49,280\u001b[0m │ embedding_dropou… │\n",
              "├─────────────────────┼───────────────────┼────────────┼───────────────────┤\n",
              "│ conv_4 (\u001b[38;5;33mConv1D\u001b[0m)     │ (\u001b[38;5;45mNone\u001b[0m, \u001b[38;5;34m200\u001b[0m, \u001b[38;5;34m128\u001b[0m)  │     \u001b[38;5;34m65,664\u001b[0m │ embedding_dropou… │\n",
              "├─────────────────────┼───────────────────┼────────────┼───────────────────┤\n",
              "│ conv_5 (\u001b[38;5;33mConv1D\u001b[0m)     │ (\u001b[38;5;45mNone\u001b[0m, \u001b[38;5;34m200\u001b[0m, \u001b[38;5;34m128\u001b[0m)  │     \u001b[38;5;34m82,048\u001b[0m │ embedding_dropou… │\n",
              "├─────────────────────┼───────────────────┼────────────┼───────────────────┤\n",
              "│ bn_2                │ (\u001b[38;5;45mNone\u001b[0m, \u001b[38;5;34m200\u001b[0m, \u001b[38;5;34m128\u001b[0m)  │        \u001b[38;5;34m512\u001b[0m │ conv_2[\u001b[38;5;34m0\u001b[0m][\u001b[38;5;34m0\u001b[0m]      │\n",
              "│ (\u001b[38;5;33mBatchNormalizatio…\u001b[0m │                   │            │                   │\n",
              "├─────────────────────┼───────────────────┼────────────┼───────────────────┤\n",
              "│ bn_3                │ (\u001b[38;5;45mNone\u001b[0m, \u001b[38;5;34m200\u001b[0m, \u001b[38;5;34m128\u001b[0m)  │        \u001b[38;5;34m512\u001b[0m │ conv_3[\u001b[38;5;34m0\u001b[0m][\u001b[38;5;34m0\u001b[0m]      │\n",
              "│ (\u001b[38;5;33mBatchNormalizatio…\u001b[0m │                   │            │                   │\n",
              "├─────────────────────┼───────────────────┼────────────┼───────────────────┤\n",
              "│ bn_4                │ (\u001b[38;5;45mNone\u001b[0m, \u001b[38;5;34m200\u001b[0m, \u001b[38;5;34m128\u001b[0m)  │        \u001b[38;5;34m512\u001b[0m │ conv_4[\u001b[38;5;34m0\u001b[0m][\u001b[38;5;34m0\u001b[0m]      │\n",
              "│ (\u001b[38;5;33mBatchNormalizatio…\u001b[0m │                   │            │                   │\n",
              "├─────────────────────┼───────────────────┼────────────┼───────────────────┤\n",
              "│ bn_5                │ (\u001b[38;5;45mNone\u001b[0m, \u001b[38;5;34m200\u001b[0m, \u001b[38;5;34m128\u001b[0m)  │        \u001b[38;5;34m512\u001b[0m │ conv_5[\u001b[38;5;34m0\u001b[0m][\u001b[38;5;34m0\u001b[0m]      │\n",
              "│ (\u001b[38;5;33mBatchNormalizatio…\u001b[0m │                   │            │                   │\n",
              "├─────────────────────┼───────────────────┼────────────┼───────────────────┤\n",
              "│ attention_2         │ (\u001b[38;5;45mNone\u001b[0m, \u001b[38;5;34m128\u001b[0m)       │     \u001b[38;5;34m16,640\u001b[0m │ bn_2[\u001b[38;5;34m0\u001b[0m][\u001b[38;5;34m0\u001b[0m]        │\n",
              "│ (\u001b[38;5;33mAttentionLayer\u001b[0m)    │                   │            │                   │\n",
              "├─────────────────────┼───────────────────┼────────────┼───────────────────┤\n",
              "│ attention_3         │ (\u001b[38;5;45mNone\u001b[0m, \u001b[38;5;34m128\u001b[0m)       │     \u001b[38;5;34m16,640\u001b[0m │ bn_3[\u001b[38;5;34m0\u001b[0m][\u001b[38;5;34m0\u001b[0m]        │\n",
              "│ (\u001b[38;5;33mAttentionLayer\u001b[0m)    │                   │            │                   │\n",
              "├─────────────────────┼───────────────────┼────────────┼───────────────────┤\n",
              "│ attention_4         │ (\u001b[38;5;45mNone\u001b[0m, \u001b[38;5;34m128\u001b[0m)       │     \u001b[38;5;34m16,640\u001b[0m │ bn_4[\u001b[38;5;34m0\u001b[0m][\u001b[38;5;34m0\u001b[0m]        │\n",
              "│ (\u001b[38;5;33mAttentionLayer\u001b[0m)    │                   │            │                   │\n",
              "├─────────────────────┼───────────────────┼────────────┼───────────────────┤\n",
              "│ attention_5         │ (\u001b[38;5;45mNone\u001b[0m, \u001b[38;5;34m128\u001b[0m)       │     \u001b[38;5;34m16,640\u001b[0m │ bn_5[\u001b[38;5;34m0\u001b[0m][\u001b[38;5;34m0\u001b[0m]        │\n",
              "│ (\u001b[38;5;33mAttentionLayer\u001b[0m)    │                   │            │                   │\n",
              "├─────────────────────┼───────────────────┼────────────┼───────────────────┤\n",
              "│ concat              │ (\u001b[38;5;45mNone\u001b[0m, \u001b[38;5;34m512\u001b[0m)       │          \u001b[38;5;34m0\u001b[0m │ attention_2[\u001b[38;5;34m0\u001b[0m][\u001b[38;5;34m0\u001b[0m… │\n",
              "│ (\u001b[38;5;33mConcatenate\u001b[0m)       │                   │            │ attention_3[\u001b[38;5;34m0\u001b[0m][\u001b[38;5;34m0\u001b[0m… │\n",
              "│                     │                   │            │ attention_4[\u001b[38;5;34m0\u001b[0m][\u001b[38;5;34m0\u001b[0m… │\n",
              "│                     │                   │            │ attention_5[\u001b[38;5;34m0\u001b[0m][\u001b[38;5;34m0\u001b[0m] │\n",
              "├─────────────────────┼───────────────────┼────────────┼───────────────────┤\n",
              "│ dense1 (\u001b[38;5;33mDense\u001b[0m)      │ (\u001b[38;5;45mNone\u001b[0m, \u001b[38;5;34m512\u001b[0m)       │    \u001b[38;5;34m262,656\u001b[0m │ concat[\u001b[38;5;34m0\u001b[0m][\u001b[38;5;34m0\u001b[0m]      │\n",
              "├─────────────────────┼───────────────────┼────────────┼───────────────────┤\n",
              "│ bn_dense1           │ (\u001b[38;5;45mNone\u001b[0m, \u001b[38;5;34m512\u001b[0m)       │      \u001b[38;5;34m2,048\u001b[0m │ dense1[\u001b[38;5;34m0\u001b[0m][\u001b[38;5;34m0\u001b[0m]      │\n",
              "│ (\u001b[38;5;33mBatchNormalizatio…\u001b[0m │                   │            │                   │\n",
              "├─────────────────────┼───────────────────┼────────────┼───────────────────┤\n",
              "│ dropout1 (\u001b[38;5;33mDropout\u001b[0m)  │ (\u001b[38;5;45mNone\u001b[0m, \u001b[38;5;34m512\u001b[0m)       │          \u001b[38;5;34m0\u001b[0m │ bn_dense1[\u001b[38;5;34m0\u001b[0m][\u001b[38;5;34m0\u001b[0m]   │\n",
              "├─────────────────────┼───────────────────┼────────────┼───────────────────┤\n",
              "│ dense2 (\u001b[38;5;33mDense\u001b[0m)      │ (\u001b[38;5;45mNone\u001b[0m, \u001b[38;5;34m256\u001b[0m)       │    \u001b[38;5;34m131,328\u001b[0m │ dropout1[\u001b[38;5;34m0\u001b[0m][\u001b[38;5;34m0\u001b[0m]    │\n",
              "├─────────────────────┼───────────────────┼────────────┼───────────────────┤\n",
              "│ bn_dense2           │ (\u001b[38;5;45mNone\u001b[0m, \u001b[38;5;34m256\u001b[0m)       │      \u001b[38;5;34m1,024\u001b[0m │ dense2[\u001b[38;5;34m0\u001b[0m][\u001b[38;5;34m0\u001b[0m]      │\n",
              "│ (\u001b[38;5;33mBatchNormalizatio…\u001b[0m │                   │            │                   │\n",
              "├─────────────────────┼───────────────────┼────────────┼───────────────────┤\n",
              "│ dropout2 (\u001b[38;5;33mDropout\u001b[0m)  │ (\u001b[38;5;45mNone\u001b[0m, \u001b[38;5;34m256\u001b[0m)       │          \u001b[38;5;34m0\u001b[0m │ bn_dense2[\u001b[38;5;34m0\u001b[0m][\u001b[38;5;34m0\u001b[0m]   │\n",
              "├─────────────────────┼───────────────────┼────────────┼───────────────────┤\n",
              "│ dense3 (\u001b[38;5;33mDense\u001b[0m)      │ (\u001b[38;5;45mNone\u001b[0m, \u001b[38;5;34m128\u001b[0m)       │     \u001b[38;5;34m32,896\u001b[0m │ dropout2[\u001b[38;5;34m0\u001b[0m][\u001b[38;5;34m0\u001b[0m]    │\n",
              "├─────────────────────┼───────────────────┼────────────┼───────────────────┤\n",
              "│ dropout3 (\u001b[38;5;33mDropout\u001b[0m)  │ (\u001b[38;5;45mNone\u001b[0m, \u001b[38;5;34m128\u001b[0m)       │          \u001b[38;5;34m0\u001b[0m │ dense3[\u001b[38;5;34m0\u001b[0m][\u001b[38;5;34m0\u001b[0m]      │\n",
              "├─────────────────────┼───────────────────┼────────────┼───────────────────┤\n",
              "│ output (\u001b[38;5;33mDense\u001b[0m)      │ (\u001b[38;5;45mNone\u001b[0m, \u001b[38;5;34m15\u001b[0m)        │      \u001b[38;5;34m1,935\u001b[0m │ dropout3[\u001b[38;5;34m0\u001b[0m][\u001b[38;5;34m0\u001b[0m]    │\n",
              "└─────────────────────┴───────────────────┴────────────┴───────────────────┘\n"
            ],
            "text/html": [
              "<pre style=\"white-space:pre;overflow-x:auto;line-height:normal;font-family:Menlo,'DejaVu Sans Mono',consolas,'Courier New',monospace\">┏━━━━━━━━━━━━━━━━━━━━━┳━━━━━━━━━━━━━━━━━━━┳━━━━━━━━━━━━┳━━━━━━━━━━━━━━━━━━━┓\n",
              "┃<span style=\"font-weight: bold\"> Layer (type)        </span>┃<span style=\"font-weight: bold\"> Output Shape      </span>┃<span style=\"font-weight: bold\">    Param # </span>┃<span style=\"font-weight: bold\"> Connected to      </span>┃\n",
              "┡━━━━━━━━━━━━━━━━━━━━━╇━━━━━━━━━━━━━━━━━━━╇━━━━━━━━━━━━╇━━━━━━━━━━━━━━━━━━━┩\n",
              "│ input (<span style=\"color: #0087ff; text-decoration-color: #0087ff\">InputLayer</span>)  │ (<span style=\"color: #00d7ff; text-decoration-color: #00d7ff\">None</span>, <span style=\"color: #00af00; text-decoration-color: #00af00\">200</span>)       │          <span style=\"color: #00af00; text-decoration-color: #00af00\">0</span> │ -                 │\n",
              "├─────────────────────┼───────────────────┼────────────┼───────────────────┤\n",
              "│ embedding           │ (<span style=\"color: #00d7ff; text-decoration-color: #00d7ff\">None</span>, <span style=\"color: #00af00; text-decoration-color: #00af00\">200</span>, <span style=\"color: #00af00; text-decoration-color: #00af00\">128</span>)  │  <span style=\"color: #00af00; text-decoration-color: #00af00\">1,280,000</span> │ input[<span style=\"color: #00af00; text-decoration-color: #00af00\">0</span>][<span style=\"color: #00af00; text-decoration-color: #00af00\">0</span>]       │\n",
              "│ (<span style=\"color: #0087ff; text-decoration-color: #0087ff\">Embedding</span>)         │                   │            │                   │\n",
              "├─────────────────────┼───────────────────┼────────────┼───────────────────┤\n",
              "│ embedding_dropout   │ (<span style=\"color: #00d7ff; text-decoration-color: #00d7ff\">None</span>, <span style=\"color: #00af00; text-decoration-color: #00af00\">200</span>, <span style=\"color: #00af00; text-decoration-color: #00af00\">128</span>)  │          <span style=\"color: #00af00; text-decoration-color: #00af00\">0</span> │ embedding[<span style=\"color: #00af00; text-decoration-color: #00af00\">0</span>][<span style=\"color: #00af00; text-decoration-color: #00af00\">0</span>]   │\n",
              "│ (<span style=\"color: #0087ff; text-decoration-color: #0087ff\">Dropout</span>)           │                   │            │                   │\n",
              "├─────────────────────┼───────────────────┼────────────┼───────────────────┤\n",
              "│ conv_2 (<span style=\"color: #0087ff; text-decoration-color: #0087ff\">Conv1D</span>)     │ (<span style=\"color: #00d7ff; text-decoration-color: #00d7ff\">None</span>, <span style=\"color: #00af00; text-decoration-color: #00af00\">200</span>, <span style=\"color: #00af00; text-decoration-color: #00af00\">128</span>)  │     <span style=\"color: #00af00; text-decoration-color: #00af00\">32,896</span> │ embedding_dropou… │\n",
              "├─────────────────────┼───────────────────┼────────────┼───────────────────┤\n",
              "│ conv_3 (<span style=\"color: #0087ff; text-decoration-color: #0087ff\">Conv1D</span>)     │ (<span style=\"color: #00d7ff; text-decoration-color: #00d7ff\">None</span>, <span style=\"color: #00af00; text-decoration-color: #00af00\">200</span>, <span style=\"color: #00af00; text-decoration-color: #00af00\">128</span>)  │     <span style=\"color: #00af00; text-decoration-color: #00af00\">49,280</span> │ embedding_dropou… │\n",
              "├─────────────────────┼───────────────────┼────────────┼───────────────────┤\n",
              "│ conv_4 (<span style=\"color: #0087ff; text-decoration-color: #0087ff\">Conv1D</span>)     │ (<span style=\"color: #00d7ff; text-decoration-color: #00d7ff\">None</span>, <span style=\"color: #00af00; text-decoration-color: #00af00\">200</span>, <span style=\"color: #00af00; text-decoration-color: #00af00\">128</span>)  │     <span style=\"color: #00af00; text-decoration-color: #00af00\">65,664</span> │ embedding_dropou… │\n",
              "├─────────────────────┼───────────────────┼────────────┼───────────────────┤\n",
              "│ conv_5 (<span style=\"color: #0087ff; text-decoration-color: #0087ff\">Conv1D</span>)     │ (<span style=\"color: #00d7ff; text-decoration-color: #00d7ff\">None</span>, <span style=\"color: #00af00; text-decoration-color: #00af00\">200</span>, <span style=\"color: #00af00; text-decoration-color: #00af00\">128</span>)  │     <span style=\"color: #00af00; text-decoration-color: #00af00\">82,048</span> │ embedding_dropou… │\n",
              "├─────────────────────┼───────────────────┼────────────┼───────────────────┤\n",
              "│ bn_2                │ (<span style=\"color: #00d7ff; text-decoration-color: #00d7ff\">None</span>, <span style=\"color: #00af00; text-decoration-color: #00af00\">200</span>, <span style=\"color: #00af00; text-decoration-color: #00af00\">128</span>)  │        <span style=\"color: #00af00; text-decoration-color: #00af00\">512</span> │ conv_2[<span style=\"color: #00af00; text-decoration-color: #00af00\">0</span>][<span style=\"color: #00af00; text-decoration-color: #00af00\">0</span>]      │\n",
              "│ (<span style=\"color: #0087ff; text-decoration-color: #0087ff\">BatchNormalizatio…</span> │                   │            │                   │\n",
              "├─────────────────────┼───────────────────┼────────────┼───────────────────┤\n",
              "│ bn_3                │ (<span style=\"color: #00d7ff; text-decoration-color: #00d7ff\">None</span>, <span style=\"color: #00af00; text-decoration-color: #00af00\">200</span>, <span style=\"color: #00af00; text-decoration-color: #00af00\">128</span>)  │        <span style=\"color: #00af00; text-decoration-color: #00af00\">512</span> │ conv_3[<span style=\"color: #00af00; text-decoration-color: #00af00\">0</span>][<span style=\"color: #00af00; text-decoration-color: #00af00\">0</span>]      │\n",
              "│ (<span style=\"color: #0087ff; text-decoration-color: #0087ff\">BatchNormalizatio…</span> │                   │            │                   │\n",
              "├─────────────────────┼───────────────────┼────────────┼───────────────────┤\n",
              "│ bn_4                │ (<span style=\"color: #00d7ff; text-decoration-color: #00d7ff\">None</span>, <span style=\"color: #00af00; text-decoration-color: #00af00\">200</span>, <span style=\"color: #00af00; text-decoration-color: #00af00\">128</span>)  │        <span style=\"color: #00af00; text-decoration-color: #00af00\">512</span> │ conv_4[<span style=\"color: #00af00; text-decoration-color: #00af00\">0</span>][<span style=\"color: #00af00; text-decoration-color: #00af00\">0</span>]      │\n",
              "│ (<span style=\"color: #0087ff; text-decoration-color: #0087ff\">BatchNormalizatio…</span> │                   │            │                   │\n",
              "├─────────────────────┼───────────────────┼────────────┼───────────────────┤\n",
              "│ bn_5                │ (<span style=\"color: #00d7ff; text-decoration-color: #00d7ff\">None</span>, <span style=\"color: #00af00; text-decoration-color: #00af00\">200</span>, <span style=\"color: #00af00; text-decoration-color: #00af00\">128</span>)  │        <span style=\"color: #00af00; text-decoration-color: #00af00\">512</span> │ conv_5[<span style=\"color: #00af00; text-decoration-color: #00af00\">0</span>][<span style=\"color: #00af00; text-decoration-color: #00af00\">0</span>]      │\n",
              "│ (<span style=\"color: #0087ff; text-decoration-color: #0087ff\">BatchNormalizatio…</span> │                   │            │                   │\n",
              "├─────────────────────┼───────────────────┼────────────┼───────────────────┤\n",
              "│ attention_2         │ (<span style=\"color: #00d7ff; text-decoration-color: #00d7ff\">None</span>, <span style=\"color: #00af00; text-decoration-color: #00af00\">128</span>)       │     <span style=\"color: #00af00; text-decoration-color: #00af00\">16,640</span> │ bn_2[<span style=\"color: #00af00; text-decoration-color: #00af00\">0</span>][<span style=\"color: #00af00; text-decoration-color: #00af00\">0</span>]        │\n",
              "│ (<span style=\"color: #0087ff; text-decoration-color: #0087ff\">AttentionLayer</span>)    │                   │            │                   │\n",
              "├─────────────────────┼───────────────────┼────────────┼───────────────────┤\n",
              "│ attention_3         │ (<span style=\"color: #00d7ff; text-decoration-color: #00d7ff\">None</span>, <span style=\"color: #00af00; text-decoration-color: #00af00\">128</span>)       │     <span style=\"color: #00af00; text-decoration-color: #00af00\">16,640</span> │ bn_3[<span style=\"color: #00af00; text-decoration-color: #00af00\">0</span>][<span style=\"color: #00af00; text-decoration-color: #00af00\">0</span>]        │\n",
              "│ (<span style=\"color: #0087ff; text-decoration-color: #0087ff\">AttentionLayer</span>)    │                   │            │                   │\n",
              "├─────────────────────┼───────────────────┼────────────┼───────────────────┤\n",
              "│ attention_4         │ (<span style=\"color: #00d7ff; text-decoration-color: #00d7ff\">None</span>, <span style=\"color: #00af00; text-decoration-color: #00af00\">128</span>)       │     <span style=\"color: #00af00; text-decoration-color: #00af00\">16,640</span> │ bn_4[<span style=\"color: #00af00; text-decoration-color: #00af00\">0</span>][<span style=\"color: #00af00; text-decoration-color: #00af00\">0</span>]        │\n",
              "│ (<span style=\"color: #0087ff; text-decoration-color: #0087ff\">AttentionLayer</span>)    │                   │            │                   │\n",
              "├─────────────────────┼───────────────────┼────────────┼───────────────────┤\n",
              "│ attention_5         │ (<span style=\"color: #00d7ff; text-decoration-color: #00d7ff\">None</span>, <span style=\"color: #00af00; text-decoration-color: #00af00\">128</span>)       │     <span style=\"color: #00af00; text-decoration-color: #00af00\">16,640</span> │ bn_5[<span style=\"color: #00af00; text-decoration-color: #00af00\">0</span>][<span style=\"color: #00af00; text-decoration-color: #00af00\">0</span>]        │\n",
              "│ (<span style=\"color: #0087ff; text-decoration-color: #0087ff\">AttentionLayer</span>)    │                   │            │                   │\n",
              "├─────────────────────┼───────────────────┼────────────┼───────────────────┤\n",
              "│ concat              │ (<span style=\"color: #00d7ff; text-decoration-color: #00d7ff\">None</span>, <span style=\"color: #00af00; text-decoration-color: #00af00\">512</span>)       │          <span style=\"color: #00af00; text-decoration-color: #00af00\">0</span> │ attention_2[<span style=\"color: #00af00; text-decoration-color: #00af00\">0</span>][<span style=\"color: #00af00; text-decoration-color: #00af00\">0</span>… │\n",
              "│ (<span style=\"color: #0087ff; text-decoration-color: #0087ff\">Concatenate</span>)       │                   │            │ attention_3[<span style=\"color: #00af00; text-decoration-color: #00af00\">0</span>][<span style=\"color: #00af00; text-decoration-color: #00af00\">0</span>… │\n",
              "│                     │                   │            │ attention_4[<span style=\"color: #00af00; text-decoration-color: #00af00\">0</span>][<span style=\"color: #00af00; text-decoration-color: #00af00\">0</span>… │\n",
              "│                     │                   │            │ attention_5[<span style=\"color: #00af00; text-decoration-color: #00af00\">0</span>][<span style=\"color: #00af00; text-decoration-color: #00af00\">0</span>] │\n",
              "├─────────────────────┼───────────────────┼────────────┼───────────────────┤\n",
              "│ dense1 (<span style=\"color: #0087ff; text-decoration-color: #0087ff\">Dense</span>)      │ (<span style=\"color: #00d7ff; text-decoration-color: #00d7ff\">None</span>, <span style=\"color: #00af00; text-decoration-color: #00af00\">512</span>)       │    <span style=\"color: #00af00; text-decoration-color: #00af00\">262,656</span> │ concat[<span style=\"color: #00af00; text-decoration-color: #00af00\">0</span>][<span style=\"color: #00af00; text-decoration-color: #00af00\">0</span>]      │\n",
              "├─────────────────────┼───────────────────┼────────────┼───────────────────┤\n",
              "│ bn_dense1           │ (<span style=\"color: #00d7ff; text-decoration-color: #00d7ff\">None</span>, <span style=\"color: #00af00; text-decoration-color: #00af00\">512</span>)       │      <span style=\"color: #00af00; text-decoration-color: #00af00\">2,048</span> │ dense1[<span style=\"color: #00af00; text-decoration-color: #00af00\">0</span>][<span style=\"color: #00af00; text-decoration-color: #00af00\">0</span>]      │\n",
              "│ (<span style=\"color: #0087ff; text-decoration-color: #0087ff\">BatchNormalizatio…</span> │                   │            │                   │\n",
              "├─────────────────────┼───────────────────┼────────────┼───────────────────┤\n",
              "│ dropout1 (<span style=\"color: #0087ff; text-decoration-color: #0087ff\">Dropout</span>)  │ (<span style=\"color: #00d7ff; text-decoration-color: #00d7ff\">None</span>, <span style=\"color: #00af00; text-decoration-color: #00af00\">512</span>)       │          <span style=\"color: #00af00; text-decoration-color: #00af00\">0</span> │ bn_dense1[<span style=\"color: #00af00; text-decoration-color: #00af00\">0</span>][<span style=\"color: #00af00; text-decoration-color: #00af00\">0</span>]   │\n",
              "├─────────────────────┼───────────────────┼────────────┼───────────────────┤\n",
              "│ dense2 (<span style=\"color: #0087ff; text-decoration-color: #0087ff\">Dense</span>)      │ (<span style=\"color: #00d7ff; text-decoration-color: #00d7ff\">None</span>, <span style=\"color: #00af00; text-decoration-color: #00af00\">256</span>)       │    <span style=\"color: #00af00; text-decoration-color: #00af00\">131,328</span> │ dropout1[<span style=\"color: #00af00; text-decoration-color: #00af00\">0</span>][<span style=\"color: #00af00; text-decoration-color: #00af00\">0</span>]    │\n",
              "├─────────────────────┼───────────────────┼────────────┼───────────────────┤\n",
              "│ bn_dense2           │ (<span style=\"color: #00d7ff; text-decoration-color: #00d7ff\">None</span>, <span style=\"color: #00af00; text-decoration-color: #00af00\">256</span>)       │      <span style=\"color: #00af00; text-decoration-color: #00af00\">1,024</span> │ dense2[<span style=\"color: #00af00; text-decoration-color: #00af00\">0</span>][<span style=\"color: #00af00; text-decoration-color: #00af00\">0</span>]      │\n",
              "│ (<span style=\"color: #0087ff; text-decoration-color: #0087ff\">BatchNormalizatio…</span> │                   │            │                   │\n",
              "├─────────────────────┼───────────────────┼────────────┼───────────────────┤\n",
              "│ dropout2 (<span style=\"color: #0087ff; text-decoration-color: #0087ff\">Dropout</span>)  │ (<span style=\"color: #00d7ff; text-decoration-color: #00d7ff\">None</span>, <span style=\"color: #00af00; text-decoration-color: #00af00\">256</span>)       │          <span style=\"color: #00af00; text-decoration-color: #00af00\">0</span> │ bn_dense2[<span style=\"color: #00af00; text-decoration-color: #00af00\">0</span>][<span style=\"color: #00af00; text-decoration-color: #00af00\">0</span>]   │\n",
              "├─────────────────────┼───────────────────┼────────────┼───────────────────┤\n",
              "│ dense3 (<span style=\"color: #0087ff; text-decoration-color: #0087ff\">Dense</span>)      │ (<span style=\"color: #00d7ff; text-decoration-color: #00d7ff\">None</span>, <span style=\"color: #00af00; text-decoration-color: #00af00\">128</span>)       │     <span style=\"color: #00af00; text-decoration-color: #00af00\">32,896</span> │ dropout2[<span style=\"color: #00af00; text-decoration-color: #00af00\">0</span>][<span style=\"color: #00af00; text-decoration-color: #00af00\">0</span>]    │\n",
              "├─────────────────────┼───────────────────┼────────────┼───────────────────┤\n",
              "│ dropout3 (<span style=\"color: #0087ff; text-decoration-color: #0087ff\">Dropout</span>)  │ (<span style=\"color: #00d7ff; text-decoration-color: #00d7ff\">None</span>, <span style=\"color: #00af00; text-decoration-color: #00af00\">128</span>)       │          <span style=\"color: #00af00; text-decoration-color: #00af00\">0</span> │ dense3[<span style=\"color: #00af00; text-decoration-color: #00af00\">0</span>][<span style=\"color: #00af00; text-decoration-color: #00af00\">0</span>]      │\n",
              "├─────────────────────┼───────────────────┼────────────┼───────────────────┤\n",
              "│ output (<span style=\"color: #0087ff; text-decoration-color: #0087ff\">Dense</span>)      │ (<span style=\"color: #00d7ff; text-decoration-color: #00d7ff\">None</span>, <span style=\"color: #00af00; text-decoration-color: #00af00\">15</span>)        │      <span style=\"color: #00af00; text-decoration-color: #00af00\">1,935</span> │ dropout3[<span style=\"color: #00af00; text-decoration-color: #00af00\">0</span>][<span style=\"color: #00af00; text-decoration-color: #00af00\">0</span>]    │\n",
              "└─────────────────────┴───────────────────┴────────────┴───────────────────┘\n",
              "</pre>\n"
            ]
          },
          "metadata": {}
        },
        {
          "output_type": "display_data",
          "data": {
            "text/plain": [
              "\u001b[1m Total params: \u001b[0m\u001b[38;5;34m2,010,383\u001b[0m (7.67 MB)\n"
            ],
            "text/html": [
              "<pre style=\"white-space:pre;overflow-x:auto;line-height:normal;font-family:Menlo,'DejaVu Sans Mono',consolas,'Courier New',monospace\"><span style=\"font-weight: bold\"> Total params: </span><span style=\"color: #00af00; text-decoration-color: #00af00\">2,010,383</span> (7.67 MB)\n",
              "</pre>\n"
            ]
          },
          "metadata": {}
        },
        {
          "output_type": "display_data",
          "data": {
            "text/plain": [
              "\u001b[1m Trainable params: \u001b[0m\u001b[38;5;34m2,007,823\u001b[0m (7.66 MB)\n"
            ],
            "text/html": [
              "<pre style=\"white-space:pre;overflow-x:auto;line-height:normal;font-family:Menlo,'DejaVu Sans Mono',consolas,'Courier New',monospace\"><span style=\"font-weight: bold\"> Trainable params: </span><span style=\"color: #00af00; text-decoration-color: #00af00\">2,007,823</span> (7.66 MB)\n",
              "</pre>\n"
            ]
          },
          "metadata": {}
        },
        {
          "output_type": "display_data",
          "data": {
            "text/plain": [
              "\u001b[1m Non-trainable params: \u001b[0m\u001b[38;5;34m2,560\u001b[0m (10.00 KB)\n"
            ],
            "text/html": [
              "<pre style=\"white-space:pre;overflow-x:auto;line-height:normal;font-family:Menlo,'DejaVu Sans Mono',consolas,'Courier New',monospace\"><span style=\"font-weight: bold\"> Non-trainable params: </span><span style=\"color: #00af00; text-decoration-color: #00af00\">2,560</span> (10.00 KB)\n",
              "</pre>\n"
            ]
          },
          "metadata": {}
        },
        {
          "output_type": "stream",
          "name": "stdout",
          "text": [
            "✅ Model architecture saved as 'model_architecture.png'\n"
          ]
        }
      ]
    },
    {
      "cell_type": "markdown",
      "source": [
        "Compile the Model"
      ],
      "metadata": {
        "id": "j2jfYXjVCEJf"
      }
    },
    {
      "cell_type": "code",
      "source": [
        "\n",
        "# Compile model with Adam optimizer\n",
        "model.compile(\n",
        "    optimizer=keras.optimizers.Adam(learning_rate=0.001),\n",
        "    loss='sparse_categorical_crossentropy',\n",
        "    metrics=['accuracy']\n",
        ")\n",
        "\n",
        "print(\"✅ Model compiled successfully!\")\n",
        "\n"
      ],
      "metadata": {
        "colab": {
          "base_uri": "https://localhost:8080/"
        },
        "id": "hxG5tGl7CGz5",
        "outputId": "f915da6f-71da-4d33-ef97-697048c746dd"
      },
      "execution_count": 78,
      "outputs": [
        {
          "output_type": "stream",
          "name": "stdout",
          "text": [
            "✅ Model compiled successfully!\n"
          ]
        }
      ]
    },
    {
      "cell_type": "markdown",
      "source": [
        "Setup Callbacks"
      ],
      "metadata": {
        "id": "SuBXtfjoCPtk"
      }
    },
    {
      "cell_type": "code",
      "source": [
        "# Define callbacks\n",
        "early_stopping = EarlyStopping(\n",
        "    monitor='val_loss',\n",
        "    patience=5,\n",
        "    restore_best_weights=True,\n",
        "    verbose=1\n",
        ")\n",
        "\n",
        "model_checkpoint = ModelCheckpoint(\n",
        "    'best_multichannel_cnn_attention.h5',\n",
        "    monitor='val_accuracy',\n",
        "    save_best_only=True,\n",
        "    mode='max',\n",
        "    verbose=1\n",
        ")\n",
        "\n",
        "reduce_lr = ReduceLROnPlateau(\n",
        "    monitor='val_loss',\n",
        "    factor=0.5,\n",
        "    patience=3,\n",
        "    min_lr=0.00001,\n",
        "    verbose=1\n",
        ")\n",
        "\n",
        "callbacks = [early_stopping, model_checkpoint, reduce_lr]\n",
        "\n",
        "print(\"✅ Callbacks configured!\")\n"
      ],
      "metadata": {
        "colab": {
          "base_uri": "https://localhost:8080/"
        },
        "id": "nF1umr_hCOHQ",
        "outputId": "1ad280f8-86e6-4f4f-8967-e7bd041b09e4"
      },
      "execution_count": 79,
      "outputs": [
        {
          "output_type": "stream",
          "name": "stdout",
          "text": [
            "✅ Callbacks configured!\n"
          ]
        }
      ]
    },
    {
      "cell_type": "markdown",
      "source": [
        "Train the Model"
      ],
      "metadata": {
        "id": "YN1ZPQpGCYpn"
      }
    },
    {
      "cell_type": "code",
      "source": [
        "# Train\n",
        "print(\"🚀 Starting training...\\n\")\n",
        "\n",
        "history = model.fit(\n",
        "    X_train_pad, y_train,\n",
        "    validation_data=(X_val_pad, y_val),\n",
        "    epochs=25,\n",
        "    batch_size=64,\n",
        "    callbacks=callbacks,\n",
        "    verbose=1\n",
        ")\n",
        "\n",
        "print(\"\\n✅ Training complete!\")\n"
      ],
      "metadata": {
        "colab": {
          "base_uri": "https://localhost:8080/"
        },
        "id": "m9SR70aTCV-n",
        "outputId": "85388950-5a53-42fb-f57b-90e5c65f6482"
      },
      "execution_count": 43,
      "outputs": [
        {
          "output_type": "stream",
          "name": "stdout",
          "text": [
            "🚀 Starting training...\n",
            "\n",
            "Epoch 1/25\n",
            "\u001b[1m329/329\u001b[0m \u001b[32m━━━━━━━━━━━━━━━━━━━━\u001b[0m\u001b[37m\u001b[0m \u001b[1m0s\u001b[0m 31ms/step - accuracy: 0.1201 - loss: 3.1079\n",
            "Epoch 1: val_accuracy improved from -inf to 0.06689, saving model to best_multichannel_cnn_attention.h5\n"
          ]
        },
        {
          "output_type": "stream",
          "name": "stderr",
          "text": [
            "WARNING:absl:You are saving your model as an HDF5 file via `model.save()` or `keras.saving.save_model(model)`. This file format is considered legacy. We recommend using instead the native Keras format, e.g. `model.save('my_model.keras')` or `keras.saving.save_model(model, 'my_model.keras')`. \n"
          ]
        },
        {
          "output_type": "stream",
          "name": "stdout",
          "text": [
            "\b\b\b\b\b\b\b\b\b\b\b\b\b\b\b\b\b\b\b\b\b\b\b\b\b\b\b\b\b\b\b\b\b\b\b\b\b\b\b\b\b\b\b\b\b\b\b\b\b\b\b\b\b\b\b\b\b\b\b\b\b\b\b\b\b\b\b\b\b\b\b\b\b\b\b\r\u001b[1m329/329\u001b[0m \u001b[32m━━━━━━━━━━━━━━━━━━━━\u001b[0m\u001b[37m\u001b[0m \u001b[1m35s\u001b[0m 49ms/step - accuracy: 0.1203 - loss: 3.1065 - val_accuracy: 0.0669 - val_loss: 4.3070 - learning_rate: 0.0010\n",
            "Epoch 2/25\n",
            "\u001b[1m325/329\u001b[0m \u001b[32m━━━━━━━━━━━━━━━━━━━\u001b[0m\u001b[37m━\u001b[0m \u001b[1m0s\u001b[0m 13ms/step - accuracy: 0.4927 - loss: 1.6520\n",
            "Epoch 2: val_accuracy improved from 0.06689 to 0.44422, saving model to best_multichannel_cnn_attention.h5\n"
          ]
        },
        {
          "output_type": "stream",
          "name": "stderr",
          "text": [
            "WARNING:absl:You are saving your model as an HDF5 file via `model.save()` or `keras.saving.save_model(model)`. This file format is considered legacy. We recommend using instead the native Keras format, e.g. `model.save('my_model.keras')` or `keras.saving.save_model(model, 'my_model.keras')`. \n"
          ]
        },
        {
          "output_type": "stream",
          "name": "stdout",
          "text": [
            "\b\b\b\b\b\b\b\b\b\b\b\b\b\b\b\b\b\b\b\b\b\b\b\b\b\b\b\b\b\b\b\b\b\b\b\b\b\b\b\b\b\b\b\b\b\b\b\b\b\b\b\b\b\b\b\b\b\b\b\b\b\b\b\b\b\b\b\b\b\b\b\b\b\b\b\r\u001b[1m329/329\u001b[0m \u001b[32m━━━━━━━━━━━━━━━━━━━━\u001b[0m\u001b[37m\u001b[0m \u001b[1m5s\u001b[0m 15ms/step - accuracy: 0.4931 - loss: 1.6508 - val_accuracy: 0.4442 - val_loss: 1.7608 - learning_rate: 0.0010\n",
            "Epoch 3/25\n",
            "\u001b[1m326/329\u001b[0m \u001b[32m━━━━━━━━━━━━━━━━━━━\u001b[0m\u001b[37m━\u001b[0m \u001b[1m0s\u001b[0m 13ms/step - accuracy: 0.6669 - loss: 1.1097\n",
            "Epoch 3: val_accuracy improved from 0.44422 to 0.57711, saving model to best_multichannel_cnn_attention.h5\n"
          ]
        },
        {
          "output_type": "stream",
          "name": "stderr",
          "text": [
            "WARNING:absl:You are saving your model as an HDF5 file via `model.save()` or `keras.saving.save_model(model)`. This file format is considered legacy. We recommend using instead the native Keras format, e.g. `model.save('my_model.keras')` or `keras.saving.save_model(model, 'my_model.keras')`. \n"
          ]
        },
        {
          "output_type": "stream",
          "name": "stdout",
          "text": [
            "\b\b\b\b\b\b\b\b\b\b\b\b\b\b\b\b\b\b\b\b\b\b\b\b\b\b\b\b\b\b\b\b\b\b\b\b\b\b\b\b\b\b\b\b\b\b\b\b\b\b\b\b\b\b\b\b\b\b\b\b\b\b\b\b\b\b\b\b\b\b\b\b\b\b\b\r\u001b[1m329/329\u001b[0m \u001b[32m━━━━━━━━━━━━━━━━━━━━\u001b[0m\u001b[37m\u001b[0m \u001b[1m5s\u001b[0m 15ms/step - accuracy: 0.6669 - loss: 1.1100 - val_accuracy: 0.5771 - val_loss: 1.4775 - learning_rate: 0.0010\n",
            "Epoch 4/25\n",
            "\u001b[1m326/329\u001b[0m \u001b[32m━━━━━━━━━━━━━━━━━━━\u001b[0m\u001b[37m━\u001b[0m \u001b[1m0s\u001b[0m 13ms/step - accuracy: 0.7568 - loss: 0.8200\n",
            "Epoch 4: val_accuracy improved from 0.57711 to 0.60222, saving model to best_multichannel_cnn_attention.h5\n"
          ]
        },
        {
          "output_type": "stream",
          "name": "stderr",
          "text": [
            "WARNING:absl:You are saving your model as an HDF5 file via `model.save()` or `keras.saving.save_model(model)`. This file format is considered legacy. We recommend using instead the native Keras format, e.g. `model.save('my_model.keras')` or `keras.saving.save_model(model, 'my_model.keras')`. \n"
          ]
        },
        {
          "output_type": "stream",
          "name": "stdout",
          "text": [
            "\b\b\b\b\b\b\b\b\b\b\b\b\b\b\b\b\b\b\b\b\b\b\b\b\b\b\b\b\b\b\b\b\b\b\b\b\b\b\b\b\b\b\b\b\b\b\b\b\b\b\b\b\b\b\b\b\b\b\b\b\b\b\b\b\b\b\b\b\b\b\b\b\b\b\b\r\u001b[1m329/329\u001b[0m \u001b[32m━━━━━━━━━━━━━━━━━━━━\u001b[0m\u001b[37m\u001b[0m \u001b[1m5s\u001b[0m 14ms/step - accuracy: 0.7566 - loss: 0.8206 - val_accuracy: 0.6022 - val_loss: 1.5105 - learning_rate: 0.0010\n",
            "Epoch 5/25\n",
            "\u001b[1m325/329\u001b[0m \u001b[32m━━━━━━━━━━━━━━━━━━━\u001b[0m\u001b[37m━\u001b[0m \u001b[1m0s\u001b[0m 13ms/step - accuracy: 0.8110 - loss: 0.6220\n",
            "Epoch 5: val_accuracy did not improve from 0.60222\n",
            "\u001b[1m329/329\u001b[0m \u001b[32m━━━━━━━━━━━━━━━━━━━━\u001b[0m\u001b[37m\u001b[0m \u001b[1m5s\u001b[0m 14ms/step - accuracy: 0.8108 - loss: 0.6227 - val_accuracy: 0.5809 - val_loss: 1.6552 - learning_rate: 0.0010\n",
            "Epoch 6/25\n",
            "\u001b[1m326/329\u001b[0m \u001b[32m━━━━━━━━━━━━━━━━━━━\u001b[0m\u001b[37m━\u001b[0m \u001b[1m0s\u001b[0m 14ms/step - accuracy: 0.8524 - loss: 0.4887\n",
            "Epoch 6: val_accuracy did not improve from 0.60222\n",
            "\n",
            "Epoch 6: ReduceLROnPlateau reducing learning rate to 0.0005000000237487257.\n",
            "\u001b[1m329/329\u001b[0m \u001b[32m━━━━━━━━━━━━━━━━━━━━\u001b[0m\u001b[37m\u001b[0m \u001b[1m5s\u001b[0m 15ms/step - accuracy: 0.8522 - loss: 0.4892 - val_accuracy: 0.5907 - val_loss: 1.8142 - learning_rate: 0.0010\n",
            "Epoch 7/25\n",
            "\u001b[1m325/329\u001b[0m \u001b[32m━━━━━━━━━━━━━━━━━━━\u001b[0m\u001b[37m━\u001b[0m \u001b[1m0s\u001b[0m 13ms/step - accuracy: 0.8966 - loss: 0.3476\n",
            "Epoch 7: val_accuracy did not improve from 0.60222\n",
            "\u001b[1m329/329\u001b[0m \u001b[32m━━━━━━━━━━━━━━━━━━━━\u001b[0m\u001b[37m\u001b[0m \u001b[1m5s\u001b[0m 14ms/step - accuracy: 0.8966 - loss: 0.3477 - val_accuracy: 0.5989 - val_loss: 1.9371 - learning_rate: 5.0000e-04\n",
            "Epoch 8/25\n",
            "\u001b[1m326/329\u001b[0m \u001b[32m━━━━━━━━━━━━━━━━━━━\u001b[0m\u001b[37m━\u001b[0m \u001b[1m0s\u001b[0m 13ms/step - accuracy: 0.9258 - loss: 0.2386\n",
            "Epoch 8: val_accuracy did not improve from 0.60222\n",
            "\u001b[1m329/329\u001b[0m \u001b[32m━━━━━━━━━━━━━━━━━━━━\u001b[0m\u001b[37m\u001b[0m \u001b[1m5s\u001b[0m 15ms/step - accuracy: 0.9258 - loss: 0.2387 - val_accuracy: 0.5942 - val_loss: 2.1567 - learning_rate: 5.0000e-04\n",
            "Epoch 8: early stopping\n",
            "Restoring model weights from the end of the best epoch: 3.\n",
            "\n",
            "✅ Training complete!\n"
          ]
        }
      ]
    },
    {
      "cell_type": "code",
      "metadata": {
        "colab": {
          "base_uri": "https://localhost:8080/"
        },
        "id": "0c21b8e6",
        "outputId": "4ecc5f1b-9c5e-4575-8972-70975abe7ad1"
      },
      "source": [
        "# Train the model again\n",
        "print(\"🚀 Starting training with modified model...\\n\")\n",
        "\n",
        "history = model.fit(\n",
        "    X_train_pad, y_train,\n",
        "    validation_data=(X_val_pad, y_val),\n",
        "    epochs=25,\n",
        "    batch_size=64,\n",
        "    callbacks=callbacks,\n",
        "    verbose=1\n",
        ")\n",
        "\n",
        "print(\"\\n✅ Training complete!\")"
      ],
      "execution_count": 44,
      "outputs": [
        {
          "output_type": "stream",
          "name": "stdout",
          "text": [
            "🚀 Starting training with modified model...\n",
            "\n",
            "Epoch 1/25\n",
            "\u001b[1m325/329\u001b[0m \u001b[32m━━━━━━━━━━━━━━━━━━━\u001b[0m\u001b[37m━\u001b[0m \u001b[1m0s\u001b[0m 13ms/step - accuracy: 0.7670 - loss: 0.7910\n",
            "Epoch 1: val_accuracy improved from 0.60222 to 0.61556, saving model to best_multichannel_cnn_attention.h5\n"
          ]
        },
        {
          "output_type": "stream",
          "name": "stderr",
          "text": [
            "WARNING:absl:You are saving your model as an HDF5 file via `model.save()` or `keras.saving.save_model(model)`. This file format is considered legacy. We recommend using instead the native Keras format, e.g. `model.save('my_model.keras')` or `keras.saving.save_model(model, 'my_model.keras')`. \n"
          ]
        },
        {
          "output_type": "stream",
          "name": "stdout",
          "text": [
            "\b\b\b\b\b\b\b\b\b\b\b\b\b\b\b\b\b\b\b\b\b\b\b\b\b\b\b\b\b\b\b\b\b\b\b\b\b\b\b\b\b\b\b\b\b\b\b\b\b\b\b\b\b\b\b\b\b\b\b\b\b\b\b\b\b\b\b\b\b\b\b\b\b\b\b\r\u001b[1m329/329\u001b[0m \u001b[32m━━━━━━━━━━━━━━━━━━━━\u001b[0m\u001b[37m\u001b[0m \u001b[1m5s\u001b[0m 15ms/step - accuracy: 0.7669 - loss: 0.7913 - val_accuracy: 0.6156 - val_loss: 1.4657 - learning_rate: 5.0000e-04\n",
            "Epoch 2/25\n",
            "\u001b[1m325/329\u001b[0m \u001b[32m━━━━━━━━━━━━━━━━━━━\u001b[0m\u001b[37m━\u001b[0m \u001b[1m0s\u001b[0m 13ms/step - accuracy: 0.8128 - loss: 0.6309\n",
            "Epoch 2: val_accuracy did not improve from 0.61556\n",
            "\u001b[1m329/329\u001b[0m \u001b[32m━━━━━━━━━━━━━━━━━━━━\u001b[0m\u001b[37m\u001b[0m \u001b[1m5s\u001b[0m 14ms/step - accuracy: 0.8127 - loss: 0.6309 - val_accuracy: 0.5991 - val_loss: 1.6361 - learning_rate: 5.0000e-04\n",
            "Epoch 3/25\n",
            "\u001b[1m326/329\u001b[0m \u001b[32m━━━━━━━━━━━━━━━━━━━\u001b[0m\u001b[37m━\u001b[0m \u001b[1m0s\u001b[0m 16ms/step - accuracy: 0.8650 - loss: 0.4535\n",
            "Epoch 3: val_accuracy did not improve from 0.61556\n",
            "\u001b[1m329/329\u001b[0m \u001b[32m━━━━━━━━━━━━━━━━━━━━\u001b[0m\u001b[37m\u001b[0m \u001b[1m6s\u001b[0m 17ms/step - accuracy: 0.8649 - loss: 0.4538 - val_accuracy: 0.6000 - val_loss: 1.8301 - learning_rate: 5.0000e-04\n",
            "Epoch 4/25\n",
            "\u001b[1m327/329\u001b[0m \u001b[32m━━━━━━━━━━━━━━━━━━━\u001b[0m\u001b[37m━\u001b[0m \u001b[1m0s\u001b[0m 13ms/step - accuracy: 0.8897 - loss: 0.3670\n",
            "Epoch 4: val_accuracy did not improve from 0.61556\n",
            "\n",
            "Epoch 4: ReduceLROnPlateau reducing learning rate to 0.0002500000118743628.\n",
            "\u001b[1m329/329\u001b[0m \u001b[32m━━━━━━━━━━━━━━━━━━━━\u001b[0m\u001b[37m\u001b[0m \u001b[1m5s\u001b[0m 14ms/step - accuracy: 0.8896 - loss: 0.3672 - val_accuracy: 0.6013 - val_loss: 1.8448 - learning_rate: 5.0000e-04\n",
            "Epoch 5/25\n",
            "\u001b[1m328/329\u001b[0m \u001b[32m━━━━━━━━━━━━━━━━━━━\u001b[0m\u001b[37m━\u001b[0m \u001b[1m0s\u001b[0m 13ms/step - accuracy: 0.9136 - loss: 0.2772\n",
            "Epoch 5: val_accuracy did not improve from 0.61556\n",
            "\u001b[1m329/329\u001b[0m \u001b[32m━━━━━━━━━━━━━━━━━━━━\u001b[0m\u001b[37m\u001b[0m \u001b[1m5s\u001b[0m 14ms/step - accuracy: 0.9136 - loss: 0.2772 - val_accuracy: 0.6076 - val_loss: 2.0364 - learning_rate: 2.5000e-04\n",
            "Epoch 6/25\n",
            "\u001b[1m327/329\u001b[0m \u001b[32m━━━━━━━━━━━━━━━━━━━\u001b[0m\u001b[37m━\u001b[0m \u001b[1m0s\u001b[0m 13ms/step - accuracy: 0.9339 - loss: 0.2174\n",
            "Epoch 6: val_accuracy did not improve from 0.61556\n",
            "\u001b[1m329/329\u001b[0m \u001b[32m━━━━━━━━━━━━━━━━━━━━\u001b[0m\u001b[37m\u001b[0m \u001b[1m5s\u001b[0m 14ms/step - accuracy: 0.9339 - loss: 0.2175 - val_accuracy: 0.6027 - val_loss: 2.1756 - learning_rate: 2.5000e-04\n",
            "Epoch 6: early stopping\n",
            "Restoring model weights from the end of the best epoch: 1.\n",
            "\n",
            "✅ Training complete!\n"
          ]
        }
      ]
    },
    {
      "cell_type": "markdown",
      "source": [
        "Plot Training History"
      ],
      "metadata": {
        "id": "HGhzwZHPammV"
      }
    },
    {
      "cell_type": "code",
      "source": [
        "import os\n",
        "\n",
        "# Define the paths for the base results directory and the specific subdirectory\n",
        "base_results_dir = '/content/SE4050-Deep-Learning/results'\n",
        "results_subdir = os.path.join(base_results_dir, 'multichannel_cnn_attention_model_results')\n",
        "\n",
        "# Create the directory if it doesn't exist\n",
        "os.makedirs(results_subdir, exist_ok=True)\n",
        "\n",
        "# Plot training history\n",
        "fig, axes = plt.subplots(1, 2, figsize=(15, 5))\n",
        "\n",
        "# Accuracy\n",
        "axes[0].plot(history.history['accuracy'], label='Train Accuracy', linewidth=2)\n",
        "axes[0].plot(history.history['val_accuracy'], label='Val Accuracy', linewidth=2)\n",
        "axes[0].set_title('Model Accuracy', fontsize=14, fontweight='bold')\n",
        "axes[0].set_xlabel('Epoch', fontsize=12)\n",
        "axes[0].set_ylabel('Accuracy', fontsize=12)\n",
        "axes[0].legend(fontsize=10)\n",
        "axes[0].grid(True, alpha=0.3)\n",
        "\n",
        "# Loss\n",
        "axes[1].plot(history.history['loss'], label='Train Loss', linewidth=2)\n",
        "axes[1].plot(history.history['val_loss'], label='Val Loss', linewidth=2)\n",
        "axes[1].set_title('Model Loss', fontsize=14, fontweight='bold')\n",
        "axes[1].set_xlabel('Epoch', fontsize=12)\n",
        "axes[1].set_ylabel('Loss', fontsize=12)\n",
        "axes[1].legend(fontsize=10)\n",
        "axes[1].grid(True, alpha=0.3)\n",
        "\n",
        "plt.tight_layout()\n",
        "history_plot_path = os.path.join(results_subdir, 'training_history.png')\n",
        "plt.savefig(history_plot_path, dpi=300, bbox_inches='tight')\n",
        "plt.show()\n",
        "\n",
        "print(f\"✅ Training history saved as '{history_plot_path}'\")"
      ],
      "metadata": {
        "id": "hpBJGmK-Cblf",
        "colab": {
          "base_uri": "https://localhost:8080/",
          "height": 302
        },
        "outputId": "cf5f9344-4d69-410b-a2c3-37b755d96b5f"
      },
      "execution_count": 58,
      "outputs": [
        {
          "output_type": "display_data",
          "data": {
            "text/plain": [
              "<Figure size 1500x500 with 2 Axes>"
            ],
            "image/png": "[encoded data removed]"
          },
          "metadata": {}
        },
        {
          "output_type": "stream",
          "name": "stdout",
          "text": [
            "✅ Training history saved as '/content/SE4050-Deep-Learning/results/multichannel_cnn_attention_model_results/training_history.png'\n"
          ]
        }
      ]
    },
    {
      "cell_type": "markdown",
      "source": [
        "Evaluate on Test Set"
      ],
      "metadata": {
        "id": "djvhMLr3a7px"
      }
    },
    {
      "cell_type": "code",
      "source": [
        "# Load best model\n",
        "model.load_weights('best_multichannel_cnn_attention.h5')\n",
        "\n",
        "# Predict on test set\n",
        "print(\"📊 Evaluating on test set...\\n\")\n",
        "test_loss, test_accuracy = model.evaluate(X_test_pad, y_test, verbose=0)\n",
        "\n",
        "print(f\"Test Loss: {test_loss:.4f}\")\n",
        "print(f\"Test Accuracy: {test_accuracy:.4f} ({test_accuracy*100:.2f}%)\")\n",
        "\n",
        "# Get predictions\n",
        "y_pred_probs = model.predict(X_test_pad, verbose=0)\n",
        "y_pred = np.argmax(y_pred_probs, axis=1)\n",
        "\n",
        "# Classification report\n",
        "print(\"\\n📋 Detailed Classification Report:\")\n",
        "target_names = [f\"Class {i}\" for i in range(num_classes)]\n",
        "print(classification_report(y_test, y_pred, target_names=target_names))\n",
        "\n",
        "# Overall metrics\n",
        "from sklearn.metrics import precision_score, recall_score, f1_score\n",
        "\n",
        "precision = precision_score(y_test, y_pred, average='weighted')\n",
        "recall = recall_score(y_test, y_pred, average='weighted')\n",
        "f1 = f1_score(y_test, y_pred, average='weighted')\n",
        "\n",
        "print(f\"\\n{'='*50}\")\n",
        "print(f\"OVERALL METRICS:\")\n",
        "print(f\"{'='*50}\")\n",
        "print(f\"Accuracy:  {test_accuracy:.4f} ({test_accuracy*100:.2f}%)\")\n",
        "print(f\"Precision: {precision:.4f} ({precision*100:.2f}%)\")\n",
        "print(f\"Recall:    {recall:.4f} ({recall*100:.2f}%)\")\n",
        "print(f\"F1-Score:  {f1:.4f} ({f1*100:.2f}%)\")\n"
      ],
      "metadata": {
        "colab": {
          "base_uri": "https://localhost:8080/"
        },
        "id": "QnjXA2lKa8Ye",
        "outputId": "c2752a52-3ab9-4b2f-8a66-5263da62667c"
      },
      "execution_count": 46,
      "outputs": [
        {
          "output_type": "stream",
          "name": "stdout",
          "text": [
            "📊 Evaluating on test set...\n",
            "\n",
            "Test Loss: 1.4870\n",
            "Test Accuracy: 0.6078 (60.78%)\n",
            "\n",
            "📋 Detailed Classification Report:\n",
            "              precision    recall  f1-score   support\n",
            "\n",
            "     Class 0       0.48      0.62      0.54       300\n",
            "     Class 1       0.54      0.51      0.52       300\n",
            "     Class 2       0.78      0.71      0.74       300\n",
            "     Class 3       0.49      0.49      0.49       300\n",
            "     Class 4       0.62      0.52      0.56       300\n",
            "     Class 5       0.71      0.76      0.73       300\n",
            "     Class 6       0.56      0.38      0.46       300\n",
            "     Class 7       0.51      0.62      0.56       300\n",
            "     Class 8       0.58      0.58      0.58       300\n",
            "     Class 9       0.72      0.74      0.73       300\n",
            "    Class 10       0.70      0.79      0.74       300\n",
            "    Class 11       0.63      0.71      0.67       300\n",
            "    Class 12       0.63      0.57      0.60       300\n",
            "    Class 13       0.49      0.53      0.51       300\n",
            "    Class 14       0.77      0.58      0.66       300\n",
            "\n",
            "    accuracy                           0.61      4500\n",
            "   macro avg       0.61      0.61      0.61      4500\n",
            "weighted avg       0.61      0.61      0.61      4500\n",
            "\n",
            "\n",
            "==================================================\n",
            "OVERALL METRICS:\n",
            "==================================================\n",
            "Accuracy:  0.6078 (60.78%)\n",
            "Precision: 0.6134 (61.34%)\n",
            "Recall:    0.6078 (60.78%)\n",
            "F1-Score:  0.6066 (60.66%)\n"
          ]
        }
      ]
    },
    {
      "cell_type": "markdown",
      "source": [
        "Confusion Matrix"
      ],
      "metadata": {
        "id": "_JMyfPtwbCA1"
      }
    },
    {
      "cell_type": "code",
      "source": [
        "import os\n",
        "\n",
        "# Define the paths for the base results directory and the specific subdirectory\n",
        "base_results_dir = '/content/SE4050-Deep-Learning/results'\n",
        "results_subdir = os.path.join(base_results_dir, 'multichannel_cnn_attention_model_results')\n",
        "\n",
        "# Create the directory if it doesn't exist\n",
        "os.makedirs(results_subdir, exist_ok=True)\n",
        "\n",
        "\n",
        "# Confusion matrix\n",
        "plt.figure(figsize=(14, 12))\n",
        "cm = confusion_matrix(y_test, y_pred)\n",
        "sns.heatmap(\n",
        "    cm,\n",
        "    annot=True,\n",
        "    fmt='d',\n",
        "    cmap='YlOrRd',\n",
        "    cbar=True,\n",
        "    square=True,\n",
        "    linewidths=0.5\n",
        ")\n",
        "plt.title('Confusion Matrix - Multi-Channel CNN with Attention', fontsize=16, fontweight='bold', pad=20)\n",
        "plt.ylabel('True Label', fontsize=12)\n",
        "plt.xlabel('Predicted Label', fontsize=12)\n",
        "plt.tight_layout()\n",
        "confusion_matrix_path = os.path.join(results_subdir, 'confusion_matrix.png')\n",
        "plt.savefig(confusion_matrix_path, dpi=300, bbox_inches='tight')\n",
        "plt.show()\n",
        "\n",
        "print(f\"✅ Confusion matrix saved as '{confusion_matrix_path}'\")\n",
        "\n",
        "# Per-class accuracy\n",
        "print(\"\\n\" + \"=\"*50)\n",
        "print(\"PER-CLASS ACCURACY:\")\n",
        "print(\"=\"*50)\n",
        "class_accuracy = cm.diagonal() / cm.sum(axis=1)\n",
        "for i, acc in enumerate(class_accuracy):\n",
        "    print(f\"Class {i:2d}: {acc:.4f} ({acc*100:.2f}%)\")"
      ],
      "metadata": {
        "colab": {
          "base_uri": "https://localhost:8080/",
          "height": 1000
        },
        "id": "f6c9qpgkbAya",
        "outputId": "35a30b75-f553-43eb-f077-e944ec3f2087"
      },
      "execution_count": 57,
      "outputs": [
        {
          "output_type": "display_data",
          "data": {
            "text/plain": [
              "<Figure size 1400x1200 with 2 Axes>"
            ],
            "image/png": "[encoded data removed]"
          },
          "metadata": {}
        },
        {
          "output_type": "stream",
          "name": "stdout",
          "text": [
            "✅ Confusion matrix saved as '/content/SE4050-Deep-Learning/results/multichannel_cnn_attention_model_results/confusion_matrix.png'\n",
            "\n",
            "==================================================\n",
            "PER-CLASS ACCURACY:\n",
            "==================================================\n",
            "Class  0: 0.6200 (62.00%)\n",
            "Class  1: 0.5133 (51.33%)\n",
            "Class  2: 0.7133 (71.33%)\n",
            "Class  3: 0.4933 (49.33%)\n",
            "Class  4: 0.5167 (51.67%)\n",
            "Class  5: 0.7600 (76.00%)\n",
            "Class  6: 0.3833 (38.33%)\n",
            "Class  7: 0.6167 (61.67%)\n",
            "Class  8: 0.5833 (58.33%)\n",
            "Class  9: 0.7433 (74.33%)\n",
            "Class 10: 0.7867 (78.67%)\n",
            "Class 11: 0.7100 (71.00%)\n",
            "Class 12: 0.5733 (57.33%)\n",
            "Class 13: 0.5267 (52.67%)\n",
            "Class 14: 0.5767 (57.67%)\n"
          ]
        }
      ]
    },
    {
      "cell_type": "markdown",
      "source": [
        "Visualize Attention Weights"
      ],
      "metadata": {
        "id": "eGpXdqcsbKDB"
      }
    },
    {
      "cell_type": "code",
      "source": [
        "# Create a model that outputs attention weights\n",
        "def create_attention_model(trained_model):\n",
        "    \"\"\"\n",
        "    Creates a model that outputs attention weights for visualization\n",
        "    \"\"\"\n",
        "    attention_outputs = []\n",
        "    for layer in trained_model.layers:\n",
        "        if 'attention' in layer.name:\n",
        "            # Get the conv layer before this attention\n",
        "            conv_layer_name = layer.name.replace('attention', 'conv')\n",
        "            conv_output = trained_model.get_layer(conv_layer_name).output\n",
        "            attention_outputs.append(conv_output)\n",
        "\n",
        "    if attention_outputs:\n",
        "        attention_model = models.Model(\n",
        "            inputs=trained_model.input,\n",
        "            outputs=attention_outputs\n",
        "        )\n",
        "        return attention_model\n",
        "    return None\n",
        "\n",
        "# Get attention model\n",
        "attention_model = create_attention_model(model)\n",
        "\n",
        "if attention_model:\n",
        "    # Visualize attention for a sample\n",
        "    sample_idx = 0\n",
        "    sample_text = X_test[sample_idx]\n",
        "    sample_input = X_test_pad[sample_idx:sample_idx+1]\n",
        "\n",
        "    print(f\"Sample text: {sample_text[:200]}...\")\n",
        "    print(f\"True label: {y_test[sample_idx]}\")\n",
        "    print(f\"Predicted label: {y_pred[sample_idx]}\")\n",
        "\n",
        "    # Get attention outputs\n",
        "    attention_outputs = attention_model.predict(sample_input, verbose=0)\n",
        "\n",
        "    print(\"\\n✅ Attention mechanism is working!\")\n",
        "else:\n",
        "    print(\"⚠️ Could not create attention visualization model\")\n"
      ],
      "metadata": {
        "id": "i5I2AWt7bJOa",
        "colab": {
          "base_uri": "https://localhost:8080/"
        },
        "outputId": "b515dbed-b0f3-468a-ab22-fe294df2c21f"
      },
      "execution_count": 48,
      "outputs": [
        {
          "output_type": "stream",
          "name": "stdout",
          "text": [
            "Sample text: end aid ending suffering aid possible lifetime know possible one need see investment life saving treatment drug followed stalled booming coffin making  southern africa...\n",
            "True label: 6\n",
            "Predicted label: 6\n",
            "\n",
            "✅ Attention mechanism is working!\n"
          ]
        }
      ]
    },
    {
      "cell_type": "markdown",
      "source": [
        "Save Model and Preprocessing Objects"
      ],
      "metadata": {
        "id": "K9WKF3F8bQPo"
      }
    },
    {
      "cell_type": "code",
      "source": [
        "import os\n",
        "\n",
        "# Define the paths for the base models directory and the specific subdirectory\n",
        "base_models_dir = '/content/SE4050-Deep-Learning/models'\n",
        "model_subdir = os.path.join(base_models_dir, 'multichannel_cnn_attention_model')\n",
        "\n",
        "# Create the directory if it doesn't exist\n",
        "os.makedirs(model_subdir, exist_ok=True)\n",
        "\n",
        "# Save the model\n",
        "model_save_path = os.path.join(model_subdir, 'multichannel_cnn_attention_model.h5')\n",
        "model.save(model_save_path)\n",
        "print(f\"✅ Model saved as '{model_save_path}'\")\n",
        "\n",
        "# Save tokenizer\n",
        "tokenizer_save_path = os.path.join(model_subdir, 'tokenizer.pkl')\n",
        "with open(tokenizer_save_path, 'wb') as f:\n",
        "    pickle.dump(tokenizer, f)\n",
        "print(f\"✅ Tokenizer saved as '{tokenizer_save_path}'\")\n",
        "\n",
        "# Save label mapping\n",
        "label_mapping = df[['category', 'label']].drop_duplicates().sort_values('label')\n",
        "label_encoder_save_path = os.path.join(model_subdir, 'label_encoder.pkl')\n",
        "with open(label_encoder_save_path, 'wb') as f:\n",
        "    pickle.dump(label_mapping, f)\n",
        "print(f\"✅ Label encoder saved as '{label_encoder_save_path}'\")\n",
        "\n",
        "# Save config\n",
        "config = {\n",
        "    'MAX_WORDS': MAX_WORDS,\n",
        "    'MAX_SEQUENCE_LENGTH': MAX_SEQUENCE_LENGTH,\n",
        "    'EMBEDDING_DIM': EMBEDDING_DIM,\n",
        "    'num_classes': num_classes,\n",
        "    'filter_sizes': [2, 3, 4, 5],\n",
        "    'num_filters': 128\n",
        "}\n",
        "config_save_path = os.path.join(model_subdir, 'model_config.pkl')\n",
        "with open(config_save_path, 'wb') as f:\n",
        "    pickle.dump(config, f)\n",
        "print(f\"✅ Config saved as '{config_save_path}'\")\n",
        "\n",
        "print(\"\\n\" + \"=\"*50)\n",
        "print(\"ALL FILES SAVED SUCCESSFULLY!\")\n",
        "print(\"=\"*50)"
      ],
      "metadata": {
        "id": "M1ZIqj6jbPSp",
        "colab": {
          "base_uri": "https://localhost:8080/"
        },
        "outputId": "5283bf9f-2980-42db-fdf4-e9559005cd27"
      },
      "execution_count": 80,
      "outputs": [
        {
          "output_type": "stream",
          "name": "stderr",
          "text": [
            "WARNING:absl:You are saving your model as an HDF5 file via `model.save()` or `keras.saving.save_model(model)`. This file format is considered legacy. We recommend using instead the native Keras format, e.g. `model.save('my_model.keras')` or `keras.saving.save_model(model, 'my_model.keras')`. \n"
          ]
        },
        {
          "output_type": "stream",
          "name": "stdout",
          "text": [
            "✅ Model saved as '/content/SE4050-Deep-Learning/models/multichannel_cnn_attention_model/multichannel_cnn_attention_model.h5'\n",
            "✅ Tokenizer saved as '/content/SE4050-Deep-Learning/models/multichannel_cnn_attention_model/tokenizer.pkl'\n",
            "✅ Label encoder saved as '/content/SE4050-Deep-Learning/models/multichannel_cnn_attention_model/label_encoder.pkl'\n",
            "✅ Config saved as '/content/SE4050-Deep-Learning/models/multichannel_cnn_attention_model/model_config.pkl'\n",
            "\n",
            "==================================================\n",
            "ALL FILES SAVED SUCCESSFULLY!\n",
            "==================================================\n"
          ]
        }
      ]
    },
    {
      "cell_type": "markdown",
      "source": [
        "Test Predictions"
      ],
      "metadata": {
        "id": "XhNyi9gdbX6J"
      }
    },
    {
      "cell_type": "code",
      "source": [
        "def predict_text(text, model, tokenizer, label_mapping, max_length):\n",
        "    \"\"\"Predict category for a given text with top-k predictions\"\"\"\n",
        "\n",
        "    # Preprocess\n",
        "    sequence = tokenizer.texts_to_sequences([text])\n",
        "    padded = pad_sequences(sequence, maxlen=max_length, padding='post', truncating='post')\n",
        "\n",
        "    # Predict\n",
        "    prediction = model.predict(padded, verbose=0)\n",
        "    pred_label = np.argmax(prediction[0])\n",
        "    confidence = prediction[0][pred_label]\n",
        "\n",
        "    # Get category name\n",
        "    category = label_mapping[label_mapping['label'] == pred_label]['category'].values[0]\n",
        "\n",
        "    print(\"=\"*70)\n",
        "    print(f\"Text: {text[:150]}...\")\n",
        "    print(\"-\"*70)\n",
        "    print(f\"✅ Predicted Category: {category}\")\n",
        "    print(f\"✅ Confidence: {confidence*100:.2f}%\")\n",
        "    print(\"-\"*70)\n",
        "    print(\"Top 5 predictions:\")\n",
        "    top_5_idx = np.argsort(prediction[0])[-5:][::-1]\n",
        "    for rank, idx in enumerate(top_5_idx, 1):\n",
        "        cat = label_mapping[label_mapping['label'] == idx]['category'].values[0]\n",
        "        prob = prediction[0][idx] * 100\n",
        "        bar = \"█\" * int(prob / 2)\n",
        "        print(f\"  {rank}. {cat:20s} {prob:5.2f}% {bar}\")\n",
        "    print(\"=\"*70)\n",
        "    print()\n",
        "\n",
        "# Test with multiple examples\n",
        "test_texts = [\n",
        "    \"The Lakers won the championship game last night with an incredible performance\",\n",
        "    \"New study shows benefits of meditation for mental health and stress reduction\",\n",
        "    \"Stock market reaches all-time high today as investors remain optimistic\",\n",
        "    \"Tips for healthy eating and meal preparation for busy professionals\",\n",
        "    \"President announces new policy changes affecting international relations\",\n",
        "    \"Scientists discover breakthrough in renewable energy technology\",\n",
        "    \"Celebrity couple announces engagement on social media platform\",\n",
        "    \"Travel guide to the most beautiful destinations in Europe this summer\"\n",
        "]\n",
        "\n",
        "print(\"\\n\" + \"🔮 TESTING PREDICTIONS \".center(70, \"=\") + \"\\n\")\n",
        "\n",
        "for text in test_texts:\n",
        "    predict_text(text, model, tokenizer, label_mapping, MAX_SEQUENCE_LENGTH)\n"
      ],
      "metadata": {
        "id": "PI3GAriBbWs-",
        "colab": {
          "base_uri": "https://localhost:8080/"
        },
        "outputId": "38774a24-933c-4192-f905-f43e878ae907"
      },
      "execution_count": 81,
      "outputs": [
        {
          "output_type": "stream",
          "name": "stdout",
          "text": [
            "\n",
            "========================🔮 TESTING PREDICTIONS ========================\n",
            "\n",
            "======================================================================\n",
            "Text: The Lakers won the championship game last night with an incredible performance...\n",
            "----------------------------------------------------------------------\n",
            "✅ Predicted Category: WORLDPOST\n",
            "✅ Confidence: 6.84%\n",
            "----------------------------------------------------------------------\n",
            "Top 5 predictions:\n",
            "  1. WORLDPOST             6.84% ███\n",
            "  2. BUSINESS              6.75% ███\n",
            "  3. LIFESTYLE             6.73% ███\n",
            "  4. FAMILY                6.71% ███\n",
            "  5. IMPACT                6.71% ███\n",
            "======================================================================\n",
            "\n",
            "======================================================================\n",
            "Text: New study shows benefits of meditation for mental health and stress reduction...\n",
            "----------------------------------------------------------------------\n",
            "✅ Predicted Category: WORLDPOST\n",
            "✅ Confidence: 6.84%\n",
            "----------------------------------------------------------------------\n",
            "Top 5 predictions:\n",
            "  1. WORLDPOST             6.84% ███\n",
            "  2. BUSINESS              6.75% ███\n",
            "  3. LIFESTYLE             6.72% ███\n",
            "  4. FAMILY                6.71% ███\n",
            "  5. IMPACT                6.71% ███\n",
            "======================================================================\n",
            "\n",
            "======================================================================\n",
            "Text: Stock market reaches all-time high today as investors remain optimistic...\n",
            "----------------------------------------------------------------------\n",
            "✅ Predicted Category: WORLDPOST\n",
            "✅ Confidence: 6.84%\n",
            "----------------------------------------------------------------------\n",
            "Top 5 predictions:\n",
            "  1. WORLDPOST             6.84% ███\n",
            "  2. BUSINESS              6.75% ███\n",
            "  3. LIFESTYLE             6.72% ███\n",
            "  4. FAMILY                6.71% ███\n",
            "  5. IMPACT                6.70% ███\n",
            "======================================================================\n",
            "\n",
            "======================================================================\n",
            "Text: Tips for healthy eating and meal preparation for busy professionals...\n",
            "----------------------------------------------------------------------\n",
            "✅ Predicted Category: WORLDPOST\n",
            "✅ Confidence: 6.84%\n",
            "----------------------------------------------------------------------\n",
            "Top 5 predictions:\n",
            "  1. WORLDPOST             6.84% ███\n",
            "  2. BUSINESS              6.75% ███\n",
            "  3. LIFESTYLE             6.72% ███\n",
            "  4. FAMILY                6.71% ███\n",
            "  5. IMPACT                6.70% ███\n",
            "======================================================================\n",
            "\n",
            "======================================================================\n",
            "Text: President announces new policy changes affecting international relations...\n",
            "----------------------------------------------------------------------\n",
            "✅ Predicted Category: WORLDPOST\n",
            "✅ Confidence: 6.84%\n",
            "----------------------------------------------------------------------\n",
            "Top 5 predictions:\n",
            "  1. WORLDPOST             6.84% ███\n",
            "  2. BUSINESS              6.75% ███\n",
            "  3. LIFESTYLE             6.73% ███\n",
            "  4. FAMILY                6.71% ███\n",
            "  5. IMPACT                6.70% ███\n",
            "======================================================================\n",
            "\n",
            "======================================================================\n",
            "Text: Scientists discover breakthrough in renewable energy technology...\n",
            "----------------------------------------------------------------------\n",
            "✅ Predicted Category: WORLDPOST\n",
            "✅ Confidence: 6.84%\n",
            "----------------------------------------------------------------------\n",
            "Top 5 predictions:\n",
            "  1. WORLDPOST             6.84% ███\n",
            "  2. BUSINESS              6.75% ███\n",
            "  3. LIFESTYLE             6.72% ███\n",
            "  4. FAMILY                6.71% ███\n",
            "  5. IMPACT                6.70% ███\n",
            "======================================================================\n",
            "\n",
            "======================================================================\n",
            "Text: Celebrity couple announces engagement on social media platform...\n",
            "----------------------------------------------------------------------\n",
            "✅ Predicted Category: WORLDPOST\n",
            "✅ Confidence: 6.84%\n",
            "----------------------------------------------------------------------\n",
            "Top 5 predictions:\n",
            "  1. WORLDPOST             6.84% ███\n",
            "  2. BUSINESS              6.75% ███\n",
            "  3. LIFESTYLE             6.73% ███\n",
            "  4. FAMILY                6.71% ███\n",
            "  5. IMPACT                6.70% ███\n",
            "======================================================================\n",
            "\n",
            "======================================================================\n",
            "Text: Travel guide to the most beautiful destinations in Europe this summer...\n",
            "----------------------------------------------------------------------\n",
            "✅ Predicted Category: WORLDPOST\n",
            "✅ Confidence: 6.84%\n",
            "----------------------------------------------------------------------\n",
            "Top 5 predictions:\n",
            "  1. WORLDPOST             6.84% ███\n",
            "  2. BUSINESS              6.75% ███\n",
            "  3. LIFESTYLE             6.72% ███\n",
            "  4. FAMILY                6.71% ███\n",
            "  5. IMPACT                6.70% ███\n",
            "======================================================================\n",
            "\n"
          ]
        }
      ]
    },
    {
      "cell_type": "markdown",
      "source": [
        "Load Model Later (For Future Use)"
      ],
      "metadata": {
        "id": "_fzy34RDbelM"
      }
    },
    {
      "cell_type": "code",
      "source": [
        "# Complete loading script for later use\n",
        "from tensorflow import keras\n",
        "import pickle\n",
        "\n",
        "# Custom objects for loading model with attention layer\n",
        "custom_objects = {'AttentionLayer': AttentionLayer}\n",
        "\n",
        "# Load model\n",
        "loaded_model = keras.models.load_model(\n",
        "    'multichannel_cnn_attention.h5',\n",
        "    custom_objects=custom_objects\n",
        ")\n",
        "\n",
        "# Load tokenizer\n",
        "with open('tokenizer.pkl', 'rb') as f:\n",
        "    loaded_tokenizer = pickle.load(f)\n",
        "\n",
        "# Load label mapping\n",
        "with open('label_encoder.pkl', 'rb') as f:\n",
        "    loaded_label_mapping = pickle.load(f)\n",
        "\n",
        "# Load config\n",
        "with open('model_config.pkl', 'rb') as f:\n",
        "    loaded_config = pickle.load(f)\n",
        "\n",
        "print(\"✅ All components loaded successfully!\")\n",
        "print(f\"Model ready for predictions with {loaded_config['num_classes']} classes\")\n",
        "\n",
        "# Test prediction with loaded model\n",
        "predict_text(\n",
        "    \"Breaking news about political developments in Washington\",\n",
        "    loaded_model,\n",
        "    loaded_tokenizer,\n",
        "    loaded_label_mapping,\n",
        "    loaded_config['MAX_SEQUENCE_LENGTH']\n",
        ")\n"
      ],
      "metadata": {
        "colab": {
          "base_uri": "https://localhost:8080/"
        },
        "id": "zYqOLGm1bdtq",
        "outputId": "19818a24-b92b-4af4-dee7-d966a4709c4d"
      },
      "execution_count": 51,
      "outputs": [
        {
          "output_type": "stream",
          "name": "stderr",
          "text": [
            "WARNING:absl:Compiled the loaded model, but the compiled metrics have yet to be built. `model.compile_metrics` will be empty until you train or evaluate the model.\n"
          ]
        },
        {
          "output_type": "stream",
          "name": "stdout",
          "text": [
            "✅ All components loaded successfully!\n",
            "Model ready for predictions with 15 classes\n",
            "======================================================================\n",
            "Text: Breaking news about political developments in Washington...\n",
            "----------------------------------------------------------------------\n",
            "✅ Predicted Category: POLITICS\n",
            "✅ Confidence: 72.15%\n",
            "----------------------------------------------------------------------\n",
            "Top 5 predictions:\n",
            "  1. POLITICS             72.15% ████████████████████████████████████\n",
            "  2. WORLDPOST            12.95% ██████\n",
            "  3. ENTERTAINMENT         9.57% ████\n",
            "  4. WOMEN                 1.58% \n",
            "  5. BUSINESS              0.92% \n",
            "======================================================================\n",
            "\n"
          ]
        }
      ]
    }
  ]
}